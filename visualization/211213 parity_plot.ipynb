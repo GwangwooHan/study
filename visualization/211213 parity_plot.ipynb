{
 "cells": [
  {
   "cell_type": "code",
   "execution_count": 1,
   "id": "e3d2d853",
   "metadata": {
    "ExecuteTime": {
     "end_time": "2021-12-13T07:17:21.728382Z",
     "start_time": "2021-12-13T07:17:20.702125Z"
    }
   },
   "outputs": [],
   "source": [
    "%matplotlib inline\n",
    "import matplotlib.pyplot as plt\n",
    "import matplotlib.colors as colors\n",
    "import seaborn as sns\n",
    "import numpy as np\n",
    "import pandas as pd\n",
    "from sklearn.metrics import mean_absolute_error\n",
    "from sklearn.metrics import mean_squared_error\n",
    "from sklearn.metrics import r2_score"
   ]
  },
  {
   "cell_type": "markdown",
   "id": "ba80ddad",
   "metadata": {},
   "source": [
    "# Parity plot\n",
    "- Ref: Pega Devlog"
   ]
  },
  {
   "cell_type": "markdown",
   "id": "948da4b4",
   "metadata": {},
   "source": [
    "## 함수화하여 사용하는 코드"
   ]
  },
  {
   "cell_type": "code",
   "execution_count": 15,
   "id": "d7a8cdd2",
   "metadata": {
    "ExecuteTime": {
     "end_time": "2021-12-13T07:19:27.646824Z",
     "start_time": "2021-12-13T07:19:27.621891Z"
    }
   },
   "outputs": [],
   "source": [
    "def get_metrics(true, predict):\n",
    "    mae = mean_absolute_error(true, predict)\n",
    "    rmse = mean_squared_error(true, predict, squared=False)\n",
    "    r2 = r2_score(true,predict)\n",
    "    \n",
    "    return mae, rmse, r2\n",
    "\n",
    "def plot_parity(true, pred, kind=\"scatter\", \n",
    "                xlabel=\"true\", ylabel=\"predict\", title=\"true vs predict\", \n",
    "                hist2d_kws=None, scatter_kws=None, kde_kws=None,\n",
    "                equal=True, metrics=True, metrics_position=\"lower right\",\n",
    "                figsize=(4, 4), ax=None, filename=None):\n",
    "    \n",
    "    if not ax:\n",
    "        fig, ax = plt.subplots(figsize=figsize)\n",
    "\n",
    "    # data range\n",
    "    val_min = min(true.min(), pred.min())\n",
    "    val_max = max(true.max(), pred.max())\n",
    "\n",
    "    # data plot\n",
    "    if \"scatter\" in kind:\n",
    "        if not scatter_kws:\n",
    "            scatter_kws={'color':'green', 'alpha':0.5}\n",
    "        ax.scatter(true, pred, **scatter_kws)\n",
    "    elif \"hist2d\" in kind:\n",
    "        if not hist2d_kws:\n",
    "            hist2d_kws={'cmap':'Greens', 'vmin':1}\n",
    "        ax.hist2d(true, pred, **hist2d_kws)\n",
    "    elif \"kde\" in kind:\n",
    "        if not kde_kws:\n",
    "            kde_kws={'cmap':'viridis', 'levels':5}\n",
    "        sns.kdeplot(x=true, y=pred, **kde_kws, ax=ax)\n",
    "\n",
    "    # x, y bounds\n",
    "    xbounds = ax.get_xbound()\n",
    "    ybounds = ax.get_ybound()\n",
    "    max_bounds = [min(xbounds[0], ybounds[0]), max(xbounds[1], ybounds[1])]\n",
    "    ax.set_xlim(max_bounds)\n",
    "    ax.set_ylim(max_bounds)\n",
    "\n",
    "    # x, y ticks, ticklabels\n",
    "    ticks = [int(y) for y in ax.get_yticks() if (10*y)%10 == 0]\n",
    "    ax.set_xticks(ticks)\n",
    "    ax.set_xticklabels(ticks)\n",
    "    ax.set_yticks(ticks)\n",
    "    ax.set_yticklabels(ticks)\n",
    "\n",
    "    # grid\n",
    "    ax.grid(True)\n",
    "\n",
    "    # 기준선\n",
    "    ax.plot(max_bounds, max_bounds, c=\"k\", alpha=0.3)\n",
    "\n",
    "    # x, y label\n",
    "    font_label = {\"color\":\"black\", \"fontsize\":\"x-large\"}\n",
    "    ax.set_xlabel(xlabel, fontdict=font_label, labelpad=8)\n",
    "    ax.set_ylabel(ylabel, fontdict=font_label, labelpad=8)\n",
    "\n",
    "    # title\n",
    "    font_title = {\"color\": \"black\", \"fontsize\":\"x-large\", \"fontweight\":\"bold\"}\n",
    "    ax.set_title(title, fontdict=font_title, pad=16)\n",
    "\n",
    "    # metrics\n",
    "    if metrics:\n",
    "        rmse = mean_squared_error(true, pred, squared=False)\n",
    "        mae = mean_absolute_error(true, pred)\n",
    "        r2 = r2_score(true, pred)\n",
    "\n",
    "        font_metrics = {'color':'k', 'fontsize':12}\n",
    "\n",
    "        if metrics_position == \"lower right\":\n",
    "            text_pos_x = 0.98\n",
    "            text_pos_y = 0.3\n",
    "            ha = \"right\"\n",
    "        elif metrics_position == \"upper left\":\n",
    "            text_pos_x = 0.1\n",
    "            text_pos_y = 0.9\n",
    "            ha = \"left\"\n",
    "        else:\n",
    "            text_pos_x, text_pos_y = text_position\n",
    "            ha = \"left\"\n",
    "\n",
    "        ax.text(text_pos_x, text_pos_y, f\"RMSE = {rmse:.3f}\", \n",
    "                transform=ax.transAxes, fontdict=font_metrics, ha=ha)\n",
    "        ax.text(text_pos_x, text_pos_y-0.1, f\"MAE = {mae:.3f}\", \n",
    "                transform=ax.transAxes, fontdict=font_metrics, ha=ha)\n",
    "        ax.text(text_pos_x, text_pos_y-0.2, f\"R2 = {r2:.3f}\", \n",
    "                transform=ax.transAxes, fontdict=font_metrics, ha=ha)\n",
    "\n",
    "    # 파일로 저장\n",
    "    if not ax:\n",
    "        fig.tight_layout()\n",
    "        if filename:\n",
    "            fig.savefig(filename)\n",
    "\n",
    "    return ax"
   ]
  },
  {
   "cell_type": "markdown",
   "id": "58c0fe3a",
   "metadata": {},
   "source": [
    "## 데이터활용 실습 "
   ]
  },
  {
   "cell_type": "code",
   "execution_count": 12,
   "id": "fcb51739",
   "metadata": {
    "ExecuteTime": {
     "end_time": "2021-12-13T07:19:09.844407Z",
     "start_time": "2021-12-13T07:19:09.829447Z"
    }
   },
   "outputs": [
    {
     "data": {
      "text/html": [
       "<div>\n",
       "<style scoped>\n",
       "    .dataframe tbody tr th:only-of-type {\n",
       "        vertical-align: middle;\n",
       "    }\n",
       "\n",
       "    .dataframe tbody tr th {\n",
       "        vertical-align: top;\n",
       "    }\n",
       "\n",
       "    .dataframe thead th {\n",
       "        text-align: right;\n",
       "    }\n",
       "</style>\n",
       "<table border=\"1\" class=\"dataframe\">\n",
       "  <thead>\n",
       "    <tr style=\"text-align: right;\">\n",
       "      <th></th>\n",
       "      <th>Unnamed: 0</th>\n",
       "      <th>load_actual</th>\n",
       "      <th>load_predict</th>\n",
       "      <th>price_actual</th>\n",
       "      <th>price_predict</th>\n",
       "    </tr>\n",
       "  </thead>\n",
       "  <tbody>\n",
       "    <tr>\n",
       "      <th>0</th>\n",
       "      <td>0</td>\n",
       "      <td>19.529</td>\n",
       "      <td>19.866570</td>\n",
       "      <td>19.069208</td>\n",
       "      <td>18.633438</td>\n",
       "    </tr>\n",
       "    <tr>\n",
       "      <th>1</th>\n",
       "      <td>1</td>\n",
       "      <td>18.522</td>\n",
       "      <td>18.834867</td>\n",
       "      <td>18.556936</td>\n",
       "      <td>20.546097</td>\n",
       "    </tr>\n",
       "    <tr>\n",
       "      <th>2</th>\n",
       "      <td>2</td>\n",
       "      <td>18.408</td>\n",
       "      <td>18.253632</td>\n",
       "      <td>17.981175</td>\n",
       "      <td>20.032465</td>\n",
       "    </tr>\n",
       "    <tr>\n",
       "      <th>3</th>\n",
       "      <td>3</td>\n",
       "      <td>18.201</td>\n",
       "      <td>18.521260</td>\n",
       "      <td>17.651776</td>\n",
       "      <td>19.618000</td>\n",
       "    </tr>\n",
       "    <tr>\n",
       "      <th>4</th>\n",
       "      <td>4</td>\n",
       "      <td>18.511</td>\n",
       "      <td>18.652555</td>\n",
       "      <td>18.087304</td>\n",
       "      <td>19.568474</td>\n",
       "    </tr>\n",
       "    <tr>\n",
       "      <th>...</th>\n",
       "      <td>...</td>\n",
       "      <td>...</td>\n",
       "      <td>...</td>\n",
       "      <td>...</td>\n",
       "      <td>...</td>\n",
       "    </tr>\n",
       "    <tr>\n",
       "      <th>163</th>\n",
       "      <td>163</td>\n",
       "      <td>29.548</td>\n",
       "      <td>30.417990</td>\n",
       "      <td>51.513524</td>\n",
       "      <td>31.434048</td>\n",
       "    </tr>\n",
       "    <tr>\n",
       "      <th>164</th>\n",
       "      <td>164</td>\n",
       "      <td>28.601</td>\n",
       "      <td>29.016560</td>\n",
       "      <td>21.325683</td>\n",
       "      <td>45.198547</td>\n",
       "    </tr>\n",
       "    <tr>\n",
       "      <th>165</th>\n",
       "      <td>165</td>\n",
       "      <td>26.630</td>\n",
       "      <td>27.425049</td>\n",
       "      <td>20.133711</td>\n",
       "      <td>24.562962</td>\n",
       "    </tr>\n",
       "    <tr>\n",
       "      <th>166</th>\n",
       "      <td>166</td>\n",
       "      <td>24.631</td>\n",
       "      <td>24.775974</td>\n",
       "      <td>20.940139</td>\n",
       "      <td>20.116693</td>\n",
       "    </tr>\n",
       "    <tr>\n",
       "      <th>167</th>\n",
       "      <td>167</td>\n",
       "      <td>23.076</td>\n",
       "      <td>22.724464</td>\n",
       "      <td>19.590160</td>\n",
       "      <td>21.588753</td>\n",
       "    </tr>\n",
       "  </tbody>\n",
       "</table>\n",
       "<p>168 rows × 5 columns</p>\n",
       "</div>"
      ],
      "text/plain": [
       "     Unnamed: 0  load_actual  load_predict  price_actual  price_predict\n",
       "0             0       19.529     19.866570     19.069208      18.633438\n",
       "1             1       18.522     18.834867     18.556936      20.546097\n",
       "2             2       18.408     18.253632     17.981175      20.032465\n",
       "3             3       18.201     18.521260     17.651776      19.618000\n",
       "4             4       18.511     18.652555     18.087304      19.568474\n",
       "..          ...          ...           ...           ...            ...\n",
       "163         163       29.548     30.417990     51.513524      31.434048\n",
       "164         164       28.601     29.016560     21.325683      45.198547\n",
       "165         165       26.630     27.425049     20.133711      24.562962\n",
       "166         166       24.631     24.775974     20.940139      20.116693\n",
       "167         167       23.076     22.724464     19.590160      21.588753\n",
       "\n",
       "[168 rows x 5 columns]"
      ]
     },
     "execution_count": 12,
     "metadata": {},
     "output_type": "execute_result"
    }
   ],
   "source": [
    "df = pd.read_csv('./RNN_data.csv',parse_dates = True)\n",
    "df"
   ]
  },
  {
   "cell_type": "code",
   "execution_count": 13,
   "id": "c7ff3577",
   "metadata": {
    "ExecuteTime": {
     "end_time": "2021-12-13T07:19:10.248327Z",
     "start_time": "2021-12-13T07:19:10.245335Z"
    }
   },
   "outputs": [],
   "source": [
    "load_actual = df['load_actual']\n",
    "load_predict = df['load_predict']\n",
    "price_actual = df['price_actual']\n",
    "price_predict = df['price_predict']"
   ]
  },
  {
   "cell_type": "code",
   "execution_count": 16,
   "id": "261d61ce",
   "metadata": {
    "ExecuteTime": {
     "end_time": "2021-12-13T07:19:29.741226Z",
     "start_time": "2021-12-13T07:19:29.501866Z"
    }
   },
   "outputs": [
    {
     "data": {
      "image/png": "[encoded data removed]",
      "text/plain": [
       "<Figure size 576x288 with 2 Axes>"
      ]
     },
     "metadata": {
      "needs_background": "light"
     },
     "output_type": "display_data"
    }
   ],
   "source": [
    "fig, axs = plt.subplots(ncols=2, figsize=(8, 4), sharey=False)\n",
    "\n",
    "# 왼쪽 axes\n",
    "plot_parity(load_actual, load_predict, ax=axs[0], title=\"Load demand (MW)\")\n",
    "\n",
    "# 오른쪽 axes\n",
    "plot_parity(price_actual, price_predict, ax=axs[1],\n",
    "            scatter_kws={\"s\": 50, \"ec\": \"b\", \"alpha\": 0.2}, title=\"Electricity price ($/MWh)\")\n",
    "\n",
    "# 그림 저장\n",
    "fig.tight_layout()\n",
    "fig.savefig(\"73_mplfunc_09.png\")"
   ]
  },
  {
   "cell_type": "markdown",
   "id": "2b72c3e7",
   "metadata": {},
   "source": [
    "# 단계별 설명"
   ]
  },
  {
   "cell_type": "markdown",
   "id": "8fcf943a",
   "metadata": {},
   "source": [
    "## 예제 시작"
   ]
  },
  {
   "cell_type": "code",
   "execution_count": null,
   "id": "3db50587",
   "metadata": {
    "ExecuteTime": {
     "end_time": "2021-12-13T01:55:32.639924Z",
     "start_time": "2021-12-13T01:55:32.633940Z"
    }
   },
   "outputs": [],
   "source": [
    "# 샘플 데이터 생성\n",
    "size = 1_000\n",
    "x = np.random.normal(size=size, loc = 12, scale = 2)\n",
    "y = x + np.random.normal(size=size, loc = 0, scale =2)"
   ]
  },
  {
   "cell_type": "code",
   "execution_count": null,
   "id": "c66f946c",
   "metadata": {
    "ExecuteTime": {
     "end_time": "2021-12-13T01:58:04.218318Z",
     "start_time": "2021-12-13T01:58:04.114596Z"
    }
   },
   "outputs": [],
   "source": [
    "plt.scatter(x,y, alpha=0.3)"
   ]
  },
  {
   "cell_type": "code",
   "execution_count": null,
   "id": "50e4ba04",
   "metadata": {
    "ExecuteTime": {
     "end_time": "2021-12-13T02:03:50.559115Z",
     "start_time": "2021-12-13T02:03:50.451404Z"
    }
   },
   "outputs": [],
   "source": [
    "fig, ax = plt.subplots(figsize=(4, 4))\n",
    "\n",
    "# data plot\n",
    "ax.scatter(x, y, c=\"g\", alpha=0.3)\n",
    "\n",
    "# x, y limits\n",
    "ax.set_xlim(0, 25)\n",
    "ax.set_ylim(0, 25)\n",
    "\n",
    "# x, y ticks, ticklabels\n",
    "ticks = [0, 5, 10, 15, 20, 25]\n",
    "ax.set_xticks(ticks)\n",
    "ax.set_xticklabels(ticks)\n",
    "ax.set_yticks(ticks)\n",
    "ax.set_yticklabels(ticks)\n",
    "\n",
    "# grid\n",
    "ax.grid(True)\n",
    "\n",
    "# 기준선\n",
    "ax.plot([0, 25], [0, 25], c=\"k\", alpha=0.3)\n",
    "\n",
    "# x, y label\n",
    "font_label = {\"color\": \"gray\", \"fontsize\": \"x-large\"}\n",
    "ax.set_xlabel(\"true\", fontdict=font_label, labelpad=8)\n",
    "ax.set_ylabel(\"predict\", fontdict=font_label, labelpad=8)\n",
    "\n",
    "# title\n",
    "font_title = {\"color\": \"gray\", \"fontsize\": \"x-large\", \"fontweight\": \"bold\"}\n",
    "ax.set_title(\"true vs predict\", fontdict=font_title, pad=16)\n",
    "\n",
    "# 파일로 저장\n",
    "fig.tight_layout()\n",
    "fig.savefig(\"73_mplfunc_01.png\")"
   ]
  },
  {
   "cell_type": "markdown",
   "id": "74b76708",
   "metadata": {},
   "source": [
    "## 함수 만들기"
   ]
  },
  {
   "cell_type": "code",
   "execution_count": null,
   "id": "7331c26a",
   "metadata": {
    "ExecuteTime": {
     "end_time": "2021-12-13T02:15:08.881581Z",
     "start_time": "2021-12-13T02:15:08.875597Z"
    }
   },
   "outputs": [],
   "source": [
    "def plot_sample1(x, y, xlabel=None, ylabel=None, title=None, filename=None):\n",
    "    # math fonts\n",
    "    mathtext_fontset = plt.rcParams['mathtext.fontset']\n",
    "    mathtext_default = plt.rcParams['mathtext.default']\n",
    "    plt.rcParams['mathtext.fontset'] = \"cm\"\n",
    "    plt.rcParams['mathtext.default'] = \"it\"\n",
    "\n",
    "    # object oriented interface\n",
    "    fig, ax = plt.subplots()\n",
    "\n",
    "    # data plot\n",
    "    ax.scatter(x, y)\n",
    "\n",
    "    # x, y labels\n",
    "    font_label = {\"color\": \"gray\", \"fontsize\": \"x-large\"}\n",
    "    ax.set_xlabel(xlabel, fontdict=font_label, labelpad=8)\n",
    "    ax.set_ylabel(ylabel, fontdict=font_label, labelpad=8)\n",
    "\n",
    "    # title\n",
    "    font_title = {\"color\": \"darkgreen\",\n",
    "                  \"fontsize\": \"xx-large\", \"fontweight\": \"bold\"}\n",
    "    ax.set_title(title, fontdict=font_title, pad=16)\n",
    "\n",
    "    # math fonts restoration\n",
    "    plt.rcParams['mathtext.fontset'] = mathtext_fontset\n",
    "    plt.rcParams['mathtext.default'] = mathtext_default\n",
    "\n",
    "    # save figure\n",
    "    fig.tight_layout()\n",
    "    if filename:\n",
    "        fig.savefig(filename)"
   ]
  },
  {
   "cell_type": "code",
   "execution_count": null,
   "id": "123657e5",
   "metadata": {
    "ExecuteTime": {
     "end_time": "2021-12-13T02:16:38.611748Z",
     "start_time": "2021-12-13T02:16:38.500047Z"
    }
   },
   "outputs": [],
   "source": [
    "x_sample = np.linspace(0, 10, 100)\n",
    "y_sample = np.sin(x_sample)\n",
    "\n",
    "plot_sample1(x_sample, y_sample, \"$X$\", \"$Y$\", \"$Y = \\mathrm{sin}(X)$\")"
   ]
  },
  {
   "cell_type": "markdown",
   "id": "2fc37332",
   "metadata": {},
   "source": [
    "## 시각화 유형 변환"
   ]
  },
  {
   "cell_type": "code",
   "execution_count": null,
   "id": "150e2032",
   "metadata": {
    "ExecuteTime": {
     "end_time": "2021-12-13T02:19:44.401165Z",
     "start_time": "2021-12-13T02:19:44.388200Z"
    }
   },
   "outputs": [],
   "source": [
    "def plot_sample2(x, y, kind=\"scatter\", xlabel=None, ylabel=None, title=None, filename=None):\n",
    "    # math fonts\n",
    "    mathtext_fontset = plt.rcParams['mathtext.fontset']\n",
    "    mathtext_default = plt.rcParams['mathtext.default']\n",
    "    plt.rcParams['mathtext.fontset'] = \"cm\"\n",
    "    plt.rcParams['mathtext.default'] = \"it\"\n",
    "\n",
    "    # object oriented interface\n",
    "    fig, ax = plt.subplots()\n",
    "\n",
    "    # data plot\n",
    "    if \"scatter\" in kind:\n",
    "        ax.scatter(x, y)\n",
    "    elif \"line\" in kind:\n",
    "        ax.plot(x,y)\n",
    "\n",
    "    # x, y labels\n",
    "    font_label = {\"color\": \"gray\", \"fontsize\": \"x-large\"}\n",
    "    ax.set_xlabel(xlabel, fontdict=font_label, labelpad=8)\n",
    "    ax.set_ylabel(ylabel, fontdict=font_label, labelpad=8)\n",
    "\n",
    "    # title\n",
    "    font_title = {\"color\": \"darkgreen\",\n",
    "                  \"fontsize\": \"xx-large\", \"fontweight\": \"bold\"}\n",
    "    ax.set_title(title, fontdict=font_title, pad=16)\n",
    "\n",
    "    # math fonts restoration\n",
    "    plt.rcParams['mathtext.fontset'] = mathtext_fontset\n",
    "    plt.rcParams['mathtext.default'] = mathtext_default\n",
    "\n",
    "    # save figure\n",
    "    fig.tight_layout()\n",
    "    if filename:\n",
    "        fig.savefig(filename)"
   ]
  },
  {
   "cell_type": "code",
   "execution_count": null,
   "id": "7147ee10",
   "metadata": {
    "ExecuteTime": {
     "end_time": "2021-12-13T02:20:00.513100Z",
     "start_time": "2021-12-13T02:20:00.412370Z"
    }
   },
   "outputs": [],
   "source": [
    "plot_sample2(x_sample, y_sample, kind=\"line\")"
   ]
  },
  {
   "cell_type": "markdown",
   "id": "d26bb2e8",
   "metadata": {},
   "source": [
    "## Plot 유형에 따른 매개변수 입력"
   ]
  },
  {
   "cell_type": "code",
   "execution_count": null,
   "id": "1fb91183",
   "metadata": {
    "ExecuteTime": {
     "end_time": "2021-12-13T02:23:57.002006Z",
     "start_time": "2021-12-13T02:23:56.990038Z"
    }
   },
   "outputs": [],
   "source": [
    "def plot_sample3(x, y, kind=\"scatter\", xlabel=None, ylabel=None, title=None,\n",
    "                 filename=None, line_kws=None, scatter_kws=None):\n",
    "    # math fonts\n",
    "    mathtext_fontset = plt.rcParams['mathtext.fontset']\n",
    "    mathtext_default = plt.rcParams['mathtext.default']\n",
    "    plt.rcParams['mathtext.fontset'] = \"cm\"\n",
    "    plt.rcParams['mathtext.default'] = \"it\"\n",
    "\n",
    "    # object oriented interface\n",
    "    fig, ax = plt.subplots()\n",
    "\n",
    "    # data plot\n",
    "    if \"scatter\" in kind:\n",
    "            if not scatter_kws:\n",
    "                scatter_kws={}\n",
    "            ax.scatter(x, y, **scatter_kws)\n",
    "    elif \"line\" in kind:\n",
    "        if not line_kws:\n",
    "                line_kws={}                \n",
    "        ax.plot(x,y, **line_kws)\n",
    "\n",
    "    # x, y labels\n",
    "    font_label = {\"color\": \"gray\", \"fontsize\": \"x-large\"}\n",
    "    ax.set_xlabel(xlabel, fontdict=font_label, labelpad=8)\n",
    "    ax.set_ylabel(ylabel, fontdict=font_label, labelpad=8)\n",
    "\n",
    "    # title\n",
    "    font_title = {\"color\": \"darkgreen\",\n",
    "                  \"fontsize\": \"xx-large\", \"fontweight\": \"bold\"}\n",
    "    ax.set_title(title, fontdict=font_title, pad=16)\n",
    "\n",
    "    # math fonts restoration\n",
    "    plt.rcParams['mathtext.fontset'] = mathtext_fontset\n",
    "    plt.rcParams['mathtext.default'] = mathtext_default\n",
    "\n",
    "    # save figure\n",
    "    fig.tight_layout()\n",
    "    if filename:\n",
    "        fig.savefig(filename)"
   ]
  },
  {
   "cell_type": "code",
   "execution_count": null,
   "id": "bee1c641",
   "metadata": {
    "ExecuteTime": {
     "end_time": "2021-12-13T02:46:24.316431Z",
     "start_time": "2021-12-13T02:46:24.229663Z"
    }
   },
   "outputs": [],
   "source": [
    "plot_sample3(x_sample, y_sample, kind=\"line\",\n",
    "             line_kws={\"c\":\"r\", \"ls\":\":\", \"lw\":3})\n",
    "             # \"c\": \"r\"  - line color = \"red\"\n",
    "             # \"ls\": \":\" - line style = ......\n",
    "             # \"lw\": 3   - line width = 3"
   ]
  },
  {
   "cell_type": "code",
   "execution_count": null,
   "id": "838262c7",
   "metadata": {
    "ExecuteTime": {
     "end_time": "2021-12-13T02:37:45.126126Z",
     "start_time": "2021-12-13T02:37:45.021406Z"
    }
   },
   "outputs": [],
   "source": [
    "plot_sample3(x_sample, y_sample, kind=\"scatter\",\n",
    "             line_kws={\"c\": \"r\", \"ls\": \":\", \"lw\": 3},\n",
    "             scatter_kws={\"s\": 50, \"ec\": \"b\", \"alpha\": 0.2})\n",
    "             # \"s\": 50       - marker size = 50\n",
    "             # \"ec\": \"b\"     - marker color = \"blue\"\n",
    "             # \"alpha\": 0.2  - marker 불투명도 = 0.2"
   ]
  },
  {
   "cell_type": "markdown",
   "id": "d9dfd088",
   "metadata": {},
   "source": [
    "## Axes as return"
   ]
  },
  {
   "cell_type": "code",
   "execution_count": null,
   "id": "c2a4b93b",
   "metadata": {
    "ExecuteTime": {
     "end_time": "2021-12-13T02:46:39.874847Z",
     "start_time": "2021-12-13T02:46:39.861881Z"
    }
   },
   "outputs": [],
   "source": [
    "def plot_sample4(x, y, kind=\"scatter\", xlabel=None, ylabel=None, title=None,\n",
    "                 filename=None, line_kws=None, scatter_kws=None):\n",
    "    # math fonts\n",
    "    mathtext_fontset = plt.rcParams['mathtext.fontset']\n",
    "    mathtext_default = plt.rcParams['mathtext.default']\n",
    "    plt.rcParams['mathtext.fontset'] = \"cm\"\n",
    "    plt.rcParams['mathtext.default'] = \"it\"\n",
    "\n",
    "    # object oriented interface\n",
    "    fig, ax = plt.subplots()\n",
    "\n",
    "    # data plot\n",
    "    if \"scatter\" in kind:\n",
    "            if not scatter_kws:\n",
    "                scatter_kws={}\n",
    "            ax.scatter(x, y, **scatter_kws)\n",
    "    elif \"line\" in kind:\n",
    "        if not line_kws:\n",
    "                line_kws={}                \n",
    "        ax.plot(x,y, **line_kws)\n",
    "\n",
    "    # x, y labels\n",
    "    font_label = {\"color\": \"gray\", \"fontsize\": \"x-large\"}\n",
    "    ax.set_xlabel(xlabel, fontdict=font_label, labelpad=8)\n",
    "    ax.set_ylabel(ylabel, fontdict=font_label, labelpad=8)\n",
    "\n",
    "    # title\n",
    "    font_title = {\"color\": \"darkgreen\",\n",
    "                  \"fontsize\": \"xx-large\", \"fontweight\": \"bold\"}\n",
    "    ax.set_title(title, fontdict=font_title, pad=16)\n",
    "\n",
    "    # math fonts restoration\n",
    "    plt.rcParams['mathtext.fontset'] = mathtext_fontset\n",
    "    plt.rcParams['mathtext.default'] = mathtext_default\n",
    "\n",
    "    # save figure\n",
    "    fig.tight_layout()\n",
    "    if filename:\n",
    "        fig.savefig(filename)\n",
    "        \n",
    "    # return\n",
    "    return ax\n",
    "    "
   ]
  },
  {
   "cell_type": "code",
   "execution_count": null,
   "id": "17252a30",
   "metadata": {
    "ExecuteTime": {
     "end_time": "2021-12-13T02:46:40.353567Z",
     "start_time": "2021-12-13T02:46:40.252836Z"
    }
   },
   "outputs": [],
   "source": [
    "ax = plot_sample4(x_sample, y_sample, kind=\"line\", line_kws={\"lw\":3})"
   ]
  },
  {
   "cell_type": "code",
   "execution_count": null,
   "id": "90a07f0b",
   "metadata": {
    "ExecuteTime": {
     "end_time": "2021-12-13T02:46:41.774768Z",
     "start_time": "2021-12-13T02:46:41.693984Z"
    }
   },
   "outputs": [],
   "source": [
    "# xlabel, ylabel, title 추가\n",
    "ax.set_xlabel(\"xlabel (postprocess)\")\n",
    "ax.set_ylabel(\"ylabel (postprocess)\")\n",
    "ax.set_title(\"title (postprocess)\")\n",
    "\n",
    "# plot 추가\n",
    "ax.plot(x_sample+1, y_sample)\n",
    "\n",
    "# jupyter cell에서 시각화\n",
    "display(ax.figure)"
   ]
  },
  {
   "cell_type": "markdown",
   "id": "393baca7",
   "metadata": {},
   "source": [
    "## Axes as input"
   ]
  },
  {
   "cell_type": "markdown",
   "id": "40af3f11",
   "metadata": {},
   "source": [
    "- axes는 함수의 입력 매개변수로 작용할 때 그 진가를 발합니다.\n",
    "    - 함수는 복잡한 명령을 한번에 실행한다는 장점이 있지만 유연성이 부족합니다.\n",
    "    - 코딩은 유연성이 풍족하지만 일일이 코딩하기 번잡합니다.\n",
    "    - 둘을 섞을 수 있는 방법이 axes를 input으로 받는 것입니다.\n",
    "    - 머신러닝 예측결과 시각화로 예를 들어보겠습니다.\n",
    "\n",
    "- parity plot은 실제값과 예측값을 비교하는 그림입니다.\n",
    "    - trainset, validation set, testset 세 데이터 모두에 대해 그릴 수 있습니다.\n",
    "    - 이 중 하나만 그릴 때도 있고 둘만, 셋 다 그릴 때가 있습니다.\n",
    "    - 이 때마다 함수를 일일이 만든다면 몹시 번거로울 것입니다.\n",
    "    - 이럴 때 이런 해법을 만들 수 있습니다.\n",
    "\n",
    "- plt.subplots()등으로 필요한 수만큼 Axes을 만듭니다.\n",
    "    - 준비된 함수로 각각의 Axes에 parity plot을 그립니다\n",
    "    - 그러자면, 함수로 그려질 그림이 어디에 그려질지 지정되어야 합니다.\n",
    "- 매개변수로 axes를 받으면 가능합니다.\n",
    "- axes가 지정되지 않으면 스스로 figure를 만들도록 합니다. 이 때 figure size도 인자로 넣읍시다.\n",
    "- 파일로 저장하려면 figure 객체가 필요합니다. figure 객체는 axes 입력이 없을 때만 존재하니 예외처리를 합니다."
   ]
  },
  {
   "cell_type": "code",
   "execution_count": null,
   "id": "134a3852",
   "metadata": {
    "ExecuteTime": {
     "end_time": "2021-12-13T07:06:25.161261Z",
     "start_time": "2021-12-13T07:06:25.141315Z"
    }
   },
   "outputs": [],
   "source": [
    "def plot_sample5(x, y, kind=\"scatter\", xlabel=None, ylabel=None, title=None, \n",
    "                 filename=None, line_kws=None, scatter_kws=None, \n",
    "                 figsize=plt.rcParams['figure.figsize'], ax=None):\n",
    "    # math fonts\n",
    "    mathtext_fontset = plt.rcParams['mathtext.fontset']\n",
    "    mathtext_default = plt.rcParams['mathtext.default']\n",
    "    plt.rcParams['mathtext.fontset'] = \"cm\"\n",
    "    plt.rcParams['mathtext.default'] = \"it\"\n",
    "    \n",
    "    # object oriented interface\n",
    "    if not ax:\n",
    "        fig, ax = plt.subplots(figsize=figsize)\n",
    "    \n",
    "    # data plot\n",
    "    if \"scatter\" in kind:\n",
    "        if not scatter_kws:\n",
    "            scatter_kws={}\n",
    "        ax.scatter(x, y, **scatter_kws)\n",
    "    elif \"line\" in kind:\n",
    "        if not line_kws:\n",
    "            line_kws={}\n",
    "        ax.plot(x, y, **line_kws)\n",
    "    \n",
    "    # x, y labels\n",
    "    font_label = {\"color\":\"gray\", \"fontsize\":\"x-large\"}\n",
    "    ax.set_xlabel(xlabel, fontdict=font_label, labelpad=8)\n",
    "    ax.set_ylabel(ylabel, fontdict=font_label, labelpad=8)\n",
    "    \n",
    "    # title\n",
    "    font_title = {\"color\": \"darkgreen\", \"fontsize\":\"xx-large\", \"fontweight\":\"bold\"}\n",
    "    ax.set_title(title, fontdict=font_title, pad=16)\n",
    "    \n",
    "    # math fonts restoration\n",
    "    plt.rcParams['mathtext.fontset'] = mathtext_fontset\n",
    "    plt.rcParams['mathtext.default'] = mathtext_default\n",
    "    \n",
    "    # save figure\n",
    "    if not ax:\n",
    "        fig.tight_layout()\n",
    "        if filename:\n",
    "            fig.savefig(filename)\n",
    "        \n",
    "    # return\n",
    "    return ax"
   ]
  },
  {
   "cell_type": "code",
   "execution_count": null,
   "id": "cd153d79",
   "metadata": {
    "ExecuteTime": {
     "end_time": "2021-12-13T07:06:26.387982Z",
     "start_time": "2021-12-13T07:06:26.301214Z"
    }
   },
   "outputs": [],
   "source": [
    "plot_sample5(x_sample, y_sample)"
   ]
  },
  {
   "cell_type": "markdown",
   "id": "5852c0e8",
   "metadata": {
    "ExecuteTime": {
     "end_time": "2021-12-13T07:06:40.973996Z",
     "start_time": "2021-12-13T07:06:40.967015Z"
    }
   },
   "source": [
    " - Subplot안에 넣기"
   ]
  },
  {
   "cell_type": "code",
   "execution_count": null,
   "id": "4cf29b85",
   "metadata": {
    "ExecuteTime": {
     "end_time": "2021-12-13T03:43:05.698751Z",
     "start_time": "2021-12-13T03:43:05.505268Z"
    }
   },
   "outputs": [],
   "source": [
    "fig, axs = plt.subplots(ncols=2, figsize=(8, 4), sharey=True)\n",
    "\n",
    "font_title = {\"fontweight\":\"bold\", \"fontsize\":\"x-large\"}\n",
    "\n",
    "# 왼쪽 axes\n",
    "plot_sample5(x_sample, y_sample, ax=axs[0])\n",
    "plot_sample5(10-x_sample, y_sample, ax=axs[0])\n",
    "axs[0].set_title(\"plot 1\", fontdict=font_title)\n",
    "\n",
    "# 오른쪽 axes\n",
    "plot_sample5(x_sample, -y_sample, kind=\"line\", line_kws={\"c\": \"r\"}, ax=axs[1])\n",
    "plot_sample5(x_sample, 1-y_sample, kind=\"line\", line_kws={\"c\": \"g\"}, ax=axs[1])\n",
    "axs[1].set_title(\"plot 1\", fontdict=font_title)\n",
    "\n",
    "# 그림 저장\n",
    "fig.tight_layout()\n",
    "fig.savefig(\"73_mplfunc_09.png\")"
   ]
  }
 ],
 "metadata": {
  "kernelspec": {
   "display_name": "Python 3.7 (tensorflow)",
   "language": "python",
   "name": "tensorflow"
  },
  "language_info": {
   "codemirror_mode": {
    "name": "ipython",
    "version": 3
   },
   "file_extension": ".py",
   "mimetype": "text/x-python",
   "name": "python",
   "nbconvert_exporter": "python",
   "pygments_lexer": "ipython3",
   "version": "3.7.10"
  },
  "toc": {
   "base_numbering": 1,
   "nav_menu": {},
   "number_sections": true,
   "sideBar": true,
   "skip_h1_title": false,
   "title_cell": "Table of Contents",
   "title_sidebar": "Contents",
   "toc_cell": false,
   "toc_position": {},
   "toc_section_display": true,
   "toc_window_display": false
  },
  "varInspector": {
   "cols": {
    "lenName": 16,
    "lenType": 16,
    "lenVar": 40
   },
   "kernels_config": {
    "python": {
     "delete_cmd_postfix": "",
     "delete_cmd_prefix": "del ",
     "library": "var_list.py",
     "varRefreshCmd": "print(var_dic_list())"
    },
    "r": {
     "delete_cmd_postfix": ") ",
     "delete_cmd_prefix": "rm(",
     "library": "var_list.r",
     "varRefreshCmd": "cat(var_dic_list()) "
    }
   },
   "types_to_exclude": [
    "module",
    "function",
    "builtin_function_or_method",
    "instance",
    "_Feature"
   ],
   "window_display": false
  }
 },
 "nbformat": 4,
 "nbformat_minor": 5
}
