{
 "cells": [
  {
   "cell_type": "code",
   "execution_count": 17,
   "id": "f12dbb3a",
   "metadata": {
    "ExecuteTime": {
     "end_time": "2022-05-02T12:59:08.685423Z",
     "start_time": "2022-05-02T12:59:08.670465Z"
    }
   },
   "outputs": [],
   "source": [
    "# 필요한 package들을 import 한다. \n",
    "import os\n",
    "import sys\n",
    "import gym\n",
    "import math\n",
    "import random\n",
    "import numpy as np\n",
    "import matplotlib\n",
    "import matplotlib.pyplot as plt\n",
    "from collections import namedtuple, deque\n",
    "from itertools import count\n",
    "from PIL import Image\n",
    "\n",
    "import torch\n",
    "import torch.nn as nn\n",
    "import torch.optim as optim\n",
    "import torch.nn.functional as F\n",
    "import torchvision.transforms as T\n",
    "\n",
    "\n",
    "# device 설정\n",
    "# GPU를 사용할 수 있으면 사용하고, 아니면 CPU를 사용한다.\n",
    "device = torch.device(\"cuda\" if torch.cuda.is_available() else \"cpu\")"
   ]
  },
  {
   "cell_type": "markdown",
   "id": "955fedbe",
   "metadata": {},
   "source": [
    "# Replay Memory"
   ]
  },
  {
   "cell_type": "code",
   "execution_count": 18,
   "id": "8d3043d4",
   "metadata": {
    "ExecuteTime": {
     "end_time": "2022-05-02T12:59:09.011551Z",
     "start_time": "2022-05-02T12:59:09.006565Z"
    }
   },
   "outputs": [],
   "source": [
    "# namedtuple은 key와 index를 통해 값에 접근할 수 있다.\n",
    "Transition = namedtuple('Transition',\n",
    "                        ('state', 'action', 'next_state', 'reward', 'done'))\n",
    "\n",
    "\n",
    "# ReplayMemory를 정의\n",
    "class ReplayMemory(object):\n",
    "    def __init__(self, capacity):\n",
    "        # deque는 양방향 queue를 의미한다.\n",
    "        self.memory = deque([],maxlen=capacity)\n",
    "\n",
    "    def push(self, *args):\n",
    "        # Transition을 저장하는 부분이다.\n",
    "        self.memory.append(Transition(*args))\n",
    "\n",
    "    def sample(self, batch_size):\n",
    "        # memory로부터 batch_size 길이 만큼의 list를 반환한다.\n",
    "        return random.sample(self.memory, batch_size)\n",
    "\n",
    "    def __len__(self):\n",
    "        # memory의 길이를 반환한다.\n",
    "        return len(self.memory)"
   ]
  },
  {
   "cell_type": "markdown",
   "id": "4b41539d",
   "metadata": {},
   "source": [
    "# Network"
   ]
  },
  {
   "cell_type": "code",
   "execution_count": 19,
   "id": "f51b7e16",
   "metadata": {
    "ExecuteTime": {
     "end_time": "2022-05-02T12:59:09.307759Z",
     "start_time": "2022-05-02T12:59:09.301775Z"
    }
   },
   "outputs": [],
   "source": [
    "class net(nn.Module):\n",
    "    def __init__(self, action_size):\n",
    "        super(net, self).__init__()\n",
    "        self.fc1 = nn.Linear(4, 256)\n",
    "        self.fc2 = nn.Linear(256, 128)\n",
    "        self.fc3 = nn.Linear(128, action_size)\n",
    "\n",
    "    def forward(self, x):\n",
    "#         x = x.to(device)\n",
    "        x = F.relu(self.fc1(x))\n",
    "        x = F.relu(self.fc2(x))\n",
    "        x = self.fc3(x)\n",
    "        return x"
   ]
  },
  {
   "cell_type": "markdown",
   "id": "8469b3da",
   "metadata": {},
   "source": [
    "# Agent"
   ]
  },
  {
   "cell_type": "code",
   "execution_count": 20,
   "id": "c315a0e9",
   "metadata": {
    "ExecuteTime": {
     "end_time": "2022-05-02T12:59:09.638873Z",
     "start_time": "2022-05-02T12:59:09.630895Z"
    }
   },
   "outputs": [],
   "source": [
    "class DQNAgent:\n",
    "    def __init__(self, action_size):\n",
    "        self.render = False\n",
    "        \n",
    "        self.action_size = action_size\n",
    "        \n",
    "        self.discount_factor = 0.99\n",
    "        self.learning_rate = 0.001\n",
    "        self.epsilon = 1.0\n",
    "        self.epsilon_decay = 0.999\n",
    "        self.epsilon_min = 0.01        \n",
    "        self.train_start = 1000\n",
    "        \n",
    "        self.model = net(action_size).to(device)\n",
    "        self.target_model = net(action_size).to(device)        \n",
    "        self.optimizer = optim.Adam(self.model.parameters(), self.learning_rate)\n",
    "        self.update_target_model()\n",
    "        \n",
    "    def update_target_model(self):\n",
    "        self.target_model.load_state_dict(self.model.state_dict())\n",
    "        \n",
    "    def get_action(self, state):\n",
    "        if np.random.rand() <= self.epsilon:\n",
    "            return torch.tensor([[random.randrange(self.action_size)]], device=device, \\\n",
    "        dtype=torch.long)\n",
    "        else:\n",
    "            return self.model(state).data.max(1)[1].view(1,1)\n",
    "        \n",
    "    def train_model(self):\n",
    "        if self.epsilon > self.epsilon_min:\n",
    "            self.epsilon *= self.epsilon_decay\n",
    "            \n",
    "        transitions = memory.sample(BATCH_SIZE)\n",
    "        batch = Transition(*zip(*transitions))\n",
    "        \n",
    "        state_batch = torch.cat(batch.state)\n",
    "        action_batch = torch.cat(batch.action)\n",
    "        next_state_batch = torch.cat(batch.next_state)\n",
    "        reward_batch = torch.cat(batch.reward)\n",
    "        done_batch = torch.cat(batch.done)\n",
    "        \n",
    "        \n",
    "        predicts = self.model(state_batch).gather(1, action_batch)\n",
    "        target_predicts = self.target_model(next_state_batch).detach()\n",
    "                \n",
    "        max_q = target_predicts.max(1)[0]\n",
    "        targets = reward_batch + (~done_batch)*self.discount_factor*max_q            \n",
    "        \n",
    "\n",
    "    # Huber Loss 계산\n",
    "        criterion = nn.SmoothL1Loss()\n",
    "        loss = criterion(predicts, targets.unsqueeze(1)) # unsqueeze(): 차원 추가 \n",
    "\n",
    "    # Optimize parameters\n",
    "        self.optimizer.zero_grad()\n",
    "        loss.backward()\n",
    "        for param in self.model.parameters():\n",
    "            # 모든 원소를 [ min, max ]의 범위로 clamp\n",
    "            param.grad.data.clamp_(-1, 1)\n",
    "        self.optimizer.step()\n",
    "        "
   ]
  },
  {
   "cell_type": "markdown",
   "id": "f2e4f552",
   "metadata": {},
   "source": [
    "# Main"
   ]
  },
  {
   "cell_type": "code",
   "execution_count": 21,
   "id": "e9ead4e4",
   "metadata": {
    "ExecuteTime": {
     "end_time": "2022-05-02T12:59:09.967993Z",
     "start_time": "2022-05-02T12:59:09.950042Z"
    }
   },
   "outputs": [],
   "source": [
    "env = gym.make('CartPole-v1')\n",
    "action_size = env.action_space.n\n",
    "memory = ReplayMemory(2000)\n",
    "\n",
    "agent = DQNAgent(action_size)\n",
    "scores, episodes = [], []\n",
    "score_avg=0\n",
    "HM_EPISODES = 300\n",
    "BATCH_SIZE = 64"
   ]
  },
  {
   "cell_type": "code",
   "execution_count": 22,
   "id": "3f972bb5",
   "metadata": {
    "ExecuteTime": {
     "end_time": "2022-05-02T13:00:17.747717Z",
     "start_time": "2022-05-02T12:59:10.118591Z"
    },
    "scrolled": false
   },
   "outputs": [
    {
     "name": "stdout",
     "output_type": "stream",
     "text": [
      "episode:   0 | score avg: 17.00 | steps: 17 | memory lengh:   17\n",
      "episode:   1 | score avg: 17.10 | steps: 18 | memory lengh:   35\n",
      "episode:   2 | score avg: 19.99 | steps: 46 | memory lengh:   81\n",
      "episode:   3 | score avg: 21.99 | steps: 40 | memory lengh:  121\n",
      "episode:   4 | score avg: 24.59 | steps: 48 | memory lengh:  169\n",
      "episode:   5 | score avg: 24.13 | steps: 20 | memory lengh:  189\n",
      "episode:   6 | score avg: 22.92 | steps: 12 | memory lengh:  201\n",
      "episode:   7 | score avg: 22.43 | steps: 18 | memory lengh:  219\n",
      "episode:   8 | score avg: 23.08 | steps: 29 | memory lengh:  248\n",
      "episode:   9 | score avg: 22.18 | steps: 14 | memory lengh:  262\n",
      "episode:  10 | score avg: 22.56 | steps: 26 | memory lengh:  288\n",
      "episode:  11 | score avg: 22.60 | steps: 23 | memory lengh:  311\n",
      "episode:  12 | score avg: 21.94 | steps: 16 | memory lengh:  327\n",
      "episode:  13 | score avg: 21.65 | steps: 19 | memory lengh:  346\n",
      "episode:  14 | score avg: 20.48 | steps: 10 | memory lengh:  356\n",
      "episode:  15 | score avg: 20.74 | steps: 23 | memory lengh:  379\n",
      "episode:  16 | score avg: 22.56 | steps: 39 | memory lengh:  418\n",
      "episode:  17 | score avg: 21.81 | steps: 15 | memory lengh:  433\n",
      "episode:  18 | score avg: 21.02 | steps: 14 | memory lengh:  447\n",
      "episode:  19 | score avg: 19.82 | steps:  9 | memory lengh:  456\n",
      "episode:  20 | score avg: 19.54 | steps: 17 | memory lengh:  473\n",
      "episode:  21 | score avg: 18.79 | steps: 12 | memory lengh:  485\n",
      "episode:  22 | score avg: 18.51 | steps: 16 | memory lengh:  501\n",
      "episode:  23 | score avg: 18.96 | steps: 23 | memory lengh:  524\n",
      "episode:  24 | score avg: 18.36 | steps: 13 | memory lengh:  537\n",
      "episode:  25 | score avg: 18.62 | steps: 21 | memory lengh:  558\n",
      "episode:  26 | score avg: 19.96 | steps: 32 | memory lengh:  590\n",
      "episode:  27 | score avg: 20.27 | steps: 23 | memory lengh:  613\n",
      "episode:  28 | score avg: 19.54 | steps: 13 | memory lengh:  626\n",
      "episode:  29 | score avg: 19.79 | steps: 22 | memory lengh:  648\n",
      "episode:  30 | score avg: 20.41 | steps: 26 | memory lengh:  674\n",
      "episode:  31 | score avg: 21.47 | steps: 31 | memory lengh:  705\n",
      "episode:  32 | score avg: 21.12 | steps: 18 | memory lengh:  723\n",
      "episode:  33 | score avg: 20.61 | steps: 16 | memory lengh:  739\n",
      "episode:  34 | score avg: 22.05 | steps: 35 | memory lengh:  774\n",
      "episode:  35 | score avg: 21.14 | steps: 13 | memory lengh:  787\n",
      "episode:  36 | score avg: 23.03 | steps: 40 | memory lengh:  827\n",
      "episode:  37 | score avg: 25.23 | steps: 45 | memory lengh:  872\n",
      "episode:  38 | score avg: 24.60 | steps: 19 | memory lengh:  891\n",
      "episode:  39 | score avg: 26.84 | steps: 47 | memory lengh:  938\n",
      "episode:  40 | score avg: 25.16 | steps: 10 | memory lengh:  948\n",
      "episode:  41 | score avg: 24.04 | steps: 14 | memory lengh:  962\n",
      "episode:  42 | score avg: 24.04 | steps: 24 | memory lengh:  986\n",
      "episode:  43 | score avg: 23.13 | steps: 15 | memory lengh: 1001\n",
      "episode:  44 | score avg: 22.22 | steps: 14 | memory lengh: 1015\n",
      "episode:  45 | score avg: 21.80 | steps: 18 | memory lengh: 1033\n",
      "episode:  46 | score avg: 22.12 | steps: 25 | memory lengh: 1058\n",
      "episode:  47 | score avg: 22.01 | steps: 21 | memory lengh: 1079\n",
      "episode:  48 | score avg: 22.71 | steps: 29 | memory lengh: 1108\n",
      "episode:  49 | score avg: 22.34 | steps: 19 | memory lengh: 1127\n",
      "episode:  50 | score avg: 26.50 | steps: 64 | memory lengh: 1191\n",
      "episode:  51 | score avg: 25.25 | steps: 14 | memory lengh: 1205\n",
      "episode:  52 | score avg: 24.43 | steps: 17 | memory lengh: 1222\n",
      "episode:  53 | score avg: 24.28 | steps: 23 | memory lengh: 1245\n",
      "episode:  54 | score avg: 24.86 | steps: 30 | memory lengh: 1275\n",
      "episode:  55 | score avg: 25.47 | steps: 31 | memory lengh: 1306\n",
      "episode:  56 | score avg: 27.72 | steps: 48 | memory lengh: 1354\n",
      "episode:  57 | score avg: 27.85 | steps: 29 | memory lengh: 1383\n",
      "episode:  58 | score avg: 28.67 | steps: 36 | memory lengh: 1419\n",
      "episode:  59 | score avg: 27.20 | steps: 14 | memory lengh: 1433\n",
      "episode:  60 | score avg: 36.18 | steps:117 | memory lengh: 1550\n",
      "episode:  61 | score avg: 36.56 | steps: 40 | memory lengh: 1590\n",
      "episode:  62 | score avg: 37.61 | steps: 47 | memory lengh: 1637\n",
      "episode:  63 | score avg: 41.34 | steps: 75 | memory lengh: 1712\n",
      "episode:  64 | score avg: 41.01 | steps: 38 | memory lengh: 1750\n",
      "episode:  65 | score avg: 41.31 | steps: 44 | memory lengh: 1794\n",
      "episode:  66 | score avg: 61.48 | steps:243 | memory lengh: 2000\n",
      "episode:  67 | score avg: 63.23 | steps: 79 | memory lengh: 2000\n",
      "episode:  68 | score avg: 68.91 | steps:120 | memory lengh: 2000\n",
      "episode:  69 | score avg: 63.12 | steps: 11 | memory lengh: 2000\n",
      "episode:  70 | score avg: 68.30 | steps:115 | memory lengh: 2000\n",
      "episode:  71 | score avg: 76.37 | steps:149 | memory lengh: 2000\n",
      "episode:  72 | score avg: 92.44 | steps:237 | memory lengh: 2000\n",
      "episode:  73 | score avg: 109.09 | steps:259 | memory lengh: 2000\n",
      "episode:  74 | score avg: 110.68 | steps:125 | memory lengh: 2000\n",
      "episode:  75 | score avg: 112.12 | steps:125 | memory lengh: 2000\n",
      "episode:  76 | score avg: 113.90 | steps:130 | memory lengh: 2000\n",
      "episode:  77 | score avg: 115.31 | steps:128 | memory lengh: 2000\n",
      "episode:  78 | score avg: 117.58 | steps:138 | memory lengh: 2000\n",
      "episode:  79 | score avg: 118.92 | steps:131 | memory lengh: 2000\n",
      "episode:  80 | score avg: 119.63 | steps:126 | memory lengh: 2000\n",
      "episode:  81 | score avg: 122.97 | steps:153 | memory lengh: 2000\n",
      "episode:  82 | score avg: 129.37 | steps:187 | memory lengh: 2000\n",
      "episode:  83 | score avg: 138.43 | steps:220 | memory lengh: 2000\n",
      "episode:  84 | score avg: 137.99 | steps:134 | memory lengh: 2000\n",
      "episode:  85 | score avg: 140.09 | steps:159 | memory lengh: 2000\n",
      "episode:  86 | score avg: 142.88 | steps:168 | memory lengh: 2000\n",
      "episode:  87 | score avg: 144.19 | steps:156 | memory lengh: 2000\n",
      "episode:  88 | score avg: 145.08 | steps:153 | memory lengh: 2000\n",
      "episode:  89 | score avg: 150.37 | steps:198 | memory lengh: 2000\n",
      "episode:  90 | score avg: 149.03 | steps:137 | memory lengh: 2000\n",
      "episode:  91 | score avg: 148.73 | steps:146 | memory lengh: 2000\n",
      "episode:  92 | score avg: 149.15 | steps:153 | memory lengh: 2000\n",
      "episode:  93 | score avg: 147.54 | steps:133 | memory lengh: 2000\n",
      "episode:  94 | score avg: 152.79 | steps:200 | memory lengh: 2000\n",
      "episode:  95 | score avg: 158.21 | steps:207 | memory lengh: 2000\n",
      "episode:  96 | score avg: 159.29 | steps:169 | memory lengh: 2000\n",
      "episode:  97 | score avg: 159.66 | steps:163 | memory lengh: 2000\n",
      "episode:  98 | score avg: 159.89 | steps:162 | memory lengh: 2000\n",
      "episode:  99 | score avg: 160.80 | steps:169 | memory lengh: 2000\n",
      "episode: 100 | score avg: 162.32 | steps:176 | memory lengh: 2000\n",
      "episode: 101 | score avg: 164.19 | steps:181 | memory lengh: 2000\n",
      "episode: 102 | score avg: 164.67 | steps:169 | memory lengh: 2000\n",
      "episode: 103 | score avg: 167.20 | steps:190 | memory lengh: 2000\n",
      "episode: 104 | score avg: 169.08 | steps:186 | memory lengh: 2000\n",
      "episode: 105 | score avg: 175.88 | steps:237 | memory lengh: 2000\n",
      "episode: 106 | score avg: 176.79 | steps:185 | memory lengh: 2000\n",
      "episode: 107 | score avg: 177.21 | steps:181 | memory lengh: 2000\n",
      "episode: 108 | score avg: 177.19 | steps:177 | memory lengh: 2000\n",
      "episode: 109 | score avg: 178.77 | steps:193 | memory lengh: 2000\n",
      "episode: 110 | score avg: 188.09 | steps:272 | memory lengh: 2000\n",
      "episode: 111 | score avg: 195.38 | steps:261 | memory lengh: 2000\n",
      "episode: 112 | score avg: 191.84 | steps:160 | memory lengh: 2000\n",
      "episode: 113 | score avg: 191.06 | steps:184 | memory lengh: 2000\n",
      "episode: 114 | score avg: 187.85 | steps:159 | memory lengh: 2000\n",
      "episode: 115 | score avg: 186.47 | steps:174 | memory lengh: 2000\n",
      "episode: 116 | score avg: 188.72 | steps:209 | memory lengh: 2000\n",
      "episode: 117 | score avg: 189.55 | steps:197 | memory lengh: 2000\n",
      "episode: 118 | score avg: 202.09 | steps:315 | memory lengh: 2000\n",
      "episode: 119 | score avg: 202.99 | steps:211 | memory lengh: 2000\n",
      "episode: 120 | score avg: 203.99 | steps:213 | memory lengh: 2000\n",
      "episode: 121 | score avg: 206.19 | steps:226 | memory lengh: 2000\n",
      "episode: 122 | score avg: 202.77 | steps:172 | memory lengh: 2000\n",
      "episode: 123 | score avg: 198.09 | steps:156 | memory lengh: 2000\n",
      "episode: 124 | score avg: 197.48 | steps:192 | memory lengh: 2000\n",
      "episode: 125 | score avg: 207.03 | steps:293 | memory lengh: 2000\n"
     ]
    },
    {
     "name": "stdout",
     "output_type": "stream",
     "text": [
      "episode: 126 | score avg: 209.43 | steps:231 | memory lengh: 2000\n",
      "episode: 127 | score avg: 211.19 | steps:227 | memory lengh: 2000\n",
      "episode: 128 | score avg: 212.47 | steps:224 | memory lengh: 2000\n",
      "episode: 129 | score avg: 216.72 | steps:255 | memory lengh: 2000\n",
      "episode: 130 | score avg: 217.35 | steps:223 | memory lengh: 2000\n",
      "episode: 131 | score avg: 220.32 | steps:247 | memory lengh: 2000\n",
      "episode: 132 | score avg: 223.08 | steps:248 | memory lengh: 2000\n",
      "episode: 133 | score avg: 230.48 | steps:297 | memory lengh: 2000\n",
      "episode: 134 | score avg: 230.93 | steps:235 | memory lengh: 2000\n",
      "episode: 135 | score avg: 237.23 | steps:294 | memory lengh: 2000\n",
      "episode: 136 | score avg: 234.31 | steps:208 | memory lengh: 2000\n",
      "episode: 137 | score avg: 241.88 | steps:310 | memory lengh: 2000\n",
      "episode: 138 | score avg: 267.69 | steps:500 | memory lengh: 2000\n",
      "episode: 139 | score avg: 276.72 | steps:358 | memory lengh: 2000\n",
      "episode: 140 | score avg: 296.55 | steps:475 | memory lengh: 2000\n",
      "episode: 141 | score avg: 298.20 | steps:313 | memory lengh: 2000\n",
      "episode: 142 | score avg: 318.38 | steps:500 | memory lengh: 2000\n",
      "episode: 143 | score avg: 336.54 | steps:500 | memory lengh: 2000\n",
      "episode: 144 | score avg: 352.88 | steps:500 | memory lengh: 2000\n",
      "episode: 145 | score avg: 351.60 | steps:340 | memory lengh: 2000\n",
      "episode: 146 | score avg: 365.44 | steps:490 | memory lengh: 2000\n",
      "episode: 147 | score avg: 352.19 | steps:233 | memory lengh: 2000\n",
      "episode: 148 | score avg: 366.97 | steps:500 | memory lengh: 2000\n",
      "episode: 149 | score avg: 380.28 | steps:500 | memory lengh: 2000\n",
      "episode: 150 | score avg: 392.25 | steps:500 | memory lengh: 2000\n",
      "episode: 151 | score avg: 403.02 | steps:500 | memory lengh: 2000\n"
     ]
    },
    {
     "ename": "SystemExit",
     "evalue": "",
     "output_type": "error",
     "traceback": [
      "An exception has occurred, use %tb to see the full traceback.\n",
      "\u001b[1;31mSystemExit\u001b[0m\n"
     ]
    },
    {
     "data": {
      "image/png": "[encoded data removed]",
      "text/plain": [
       "<Figure size 432x288 with 1 Axes>"
      ]
     },
     "metadata": {
      "needs_background": "light"
     },
     "output_type": "display_data"
    }
   ],
   "source": [
    "for episode in range(HM_EPISODES):    \n",
    "    done = False\n",
    "    score = 0\n",
    "    steps = 0\n",
    "    \n",
    "    # env와 state 초기화\n",
    "    state = env.reset()         # state shape >> torch.Size([1, 3, 40, 90]) \n",
    "    state = torch.tensor([state], device=device, dtype =torch.float) # state에 차원하나 추가 필요\n",
    "\n",
    "\n",
    "    while not done:    \n",
    "        \n",
    "        if agent.render:\n",
    "            env.render()\n",
    "        \n",
    "        action = agent.get_action(state)    # action result >> tensor([[0]]) or tensor([[1]])\n",
    "\n",
    "        # 선택한 action을 대입하여 reward와 done을 얻어낸다. \n",
    "        # env.step(action.item())의 예시  \n",
    "        # >> (array([-0.008956, -0.160571,  0.005936,  0.302326]), 1.0, False, {})\n",
    "        next_state, reward, done, info = env.step(action.item())                \n",
    "        score += reward\n",
    "        reward = 0.1 if not done or score == 500 else -1\n",
    "        \n",
    "        reward = torch.tensor([reward], device=device, dtype = torch.float)\n",
    "        next_state = torch.tensor([next_state], device=device, dtype =torch.float)                \n",
    "        done = torch.tensor([done], device=device, dtype = torch.bool)\n",
    "\n",
    "        # 얻어낸 transition set을 memory에 저장\n",
    "        memory.push(state, action, next_state, reward, done)\n",
    "        # (policy network에서) 최적화 한단계 수행\n",
    "        \n",
    "        if len(memory) >= agent.train_start:\n",
    "            agent.train_model()\n",
    "\n",
    "        # 다음 상태로 이동\n",
    "        state = next_state\n",
    "        steps += 1\n",
    "\n",
    "        # 마찬가지로 done이 True 라면,\n",
    "        if done:\n",
    "            agent.update_target_model()\n",
    "            score_avg = 0.9 * score_avg + 0.1 * score if score_avg !=0 else score\n",
    "            print('episode: {:3d} | score avg: {:3.2f} | steps:{:3d} | memory lengh: {:4d}'.format(\n",
    "                episode, score_avg, steps, len(memory)))\n",
    "            scores.append(score_avg)\n",
    "            episodes.append(episode)\n",
    "            plt.plot(episodes, scores, 'b')\n",
    "            plt.xlabel('episode')\n",
    "            plt.ylabel('average score')\n",
    "            \n",
    "   \n",
    "            if score_avg > 400:\n",
    "                sys.exit()       \n",
    "    \n",
    "\n",
    "    \n",
    "print('Complete')\n",
    "scores.clear\n",
    "episodes.clear\n",
    "\n"
   ]
  },
  {
   "cell_type": "code",
   "execution_count": null,
   "id": "ec2bb72b",
   "metadata": {},
   "outputs": [],
   "source": []
  },
  {
   "cell_type": "code",
   "execution_count": null,
   "id": "57a30220",
   "metadata": {},
   "outputs": [],
   "source": []
  },
  {
   "cell_type": "code",
   "execution_count": null,
   "id": "be4a0c6b",
   "metadata": {},
   "outputs": [],
   "source": []
  }
 ],
 "metadata": {
  "kernelspec": {
   "display_name": "Python 3.7 (pytorch)",
   "language": "python",
   "name": "pytorch"
  },
  "language_info": {
   "codemirror_mode": {
    "name": "ipython",
    "version": 3
   },
   "file_extension": ".py",
   "mimetype": "text/x-python",
   "name": "python",
   "nbconvert_exporter": "python",
   "pygments_lexer": "ipython3",
   "version": "3.7.10"
  },
  "toc": {
   "base_numbering": 1,
   "nav_menu": {},
   "number_sections": true,
   "sideBar": true,
   "skip_h1_title": false,
   "title_cell": "Table of Contents",
   "title_sidebar": "Contents",
   "toc_cell": false,
   "toc_position": {},
   "toc_section_display": true,
   "toc_window_display": false
  },
  "varInspector": {
   "cols": {
    "lenName": 16,
    "lenType": 16,
    "lenVar": 40
   },
   "kernels_config": {
    "python": {
     "delete_cmd_postfix": "",
     "delete_cmd_prefix": "del ",
     "library": "var_list.py",
     "varRefreshCmd": "print(var_dic_list())"
    },
    "r": {
     "delete_cmd_postfix": ") ",
     "delete_cmd_prefix": "rm(",
     "library": "var_list.r",
     "varRefreshCmd": "cat(var_dic_list()) "
    }
   },
   "types_to_exclude": [
    "module",
    "function",
    "builtin_function_or_method",
    "instance",
    "_Feature"
   ],
   "window_display": false
  }
 },
 "nbformat": 4,
 "nbformat_minor": 5
}
