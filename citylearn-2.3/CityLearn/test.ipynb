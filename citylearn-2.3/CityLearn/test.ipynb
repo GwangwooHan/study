{
 "cells": [
  {
   "cell_type": "code",
   "execution_count": null,
   "metadata": {},
   "outputs": [],
   "source": [
    "import gymnasium, ray\n",
    "print(gymnasium.__version__)   # 0.29.1\n",
    "from ray.rllib.algorithms.sac import SACConfig"
   ]
  },
  {
   "cell_type": "code",
   "execution_count": null,
   "metadata": {},
   "outputs": [],
   "source": [
    "import gymnasium, shimmy\n",
    "print(gymnasium.__version__, shimmy.__version__)  # 0.29.1  0.2.x"
   ]
  },
  {
   "cell_type": "code",
   "execution_count": null,
   "metadata": {},
   "outputs": [],
   "source": [
    "import importlib.util, gymnasium, shimmy\n",
    "print(\"gymnasium :\", gymnasium.__version__)\n",
    "print(\"shimmy    :\", shimmy.__version__)\n",
    "print(\"ale_py    :\", \"installed\" if importlib.util.find_spec(\"ale_py\") else \"not installed\")\n"
   ]
  },
  {
   "cell_type": "code",
   "execution_count": 1,
   "metadata": {},
   "outputs": [
    {
     "name": "stdout",
     "output_type": "stream",
     "text": [
      "Graph parsed OK\n"
     ]
    }
   ],
   "source": [
    "import pydot\n",
    "graphs = pydot.graph_from_dot_data(\"digraph G { A -> B }\")\n",
    "print(\"Graph parsed OK\" if graphs else \"parse failed\")"
   ]
  },
  {
   "cell_type": "code",
   "execution_count": null,
   "metadata": {},
   "outputs": [],
   "source": []
  },
  {
   "cell_type": "code",
   "execution_count": null,
   "metadata": {},
   "outputs": [],
   "source": []
  }
 ],
 "metadata": {
  "kernelspec": {
   "display_name": "citylearn",
   "language": "python",
   "name": "python3"
  },
  "language_info": {
   "codemirror_mode": {
    "name": "ipython",
    "version": 3
   },
   "file_extension": ".py",
   "mimetype": "text/x-python",
   "name": "python",
   "nbconvert_exporter": "python",
   "pygments_lexer": "ipython3",
   "version": "3.11.11"
  }
 },
 "nbformat": 4,
 "nbformat_minor": 2
}
