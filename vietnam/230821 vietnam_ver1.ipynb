{
 "cells": [
  {
   "cell_type": "code",
   "execution_count": 1,
   "id": "a69946a6",
   "metadata": {
    "ExecuteTime": {
     "end_time": "2023-08-21T11:31:46.638884Z",
     "start_time": "2023-08-21T11:31:45.531902Z"
    }
   },
   "outputs": [],
   "source": [
    "import numpy as np\n",
    "import pandas as pd\n",
    "import datetime\n",
    "import re\n",
    "from dateutil.parser import parse\n",
    "import math\n",
    "import glob\n",
    "import sys\n",
    "import openpyxl as opx\n",
    "import xlrd\n",
    "import seaborn as sns\n",
    "import random\n",
    "import matplotlib\n",
    "import matplotlib.pyplot as plt\n",
    "from mpl_toolkits import mplot3d\n",
    "from matplotlib import font_manager, rc\n",
    "# matplotlib.rcParams['axes.unicode_minus'] = False\n",
    "# font_path = \"C:/Windows/Fonts/malgun.TTF\"\n",
    "# font = font_manager.FontProperties(fname=font_path).get_name()\n",
    "# rc('font', family=font)\n",
    "# %matplotlib inline\n",
    "\n",
    "\n",
    "from sklearn.metrics import mean_squared_error\n",
    "from sklearn.preprocessing import MinMaxScaler"
   ]
  },
  {
   "cell_type": "code",
   "execution_count": 2,
   "id": "5a700236",
   "metadata": {
    "ExecuteTime": {
     "end_time": "2023-08-21T11:31:46.785542Z",
     "start_time": "2023-08-21T11:31:46.773253Z"
    }
   },
   "outputs": [
    {
     "ename": "SyntaxError",
     "evalue": "invalid syntax (334342175.py, line 2)",
     "output_type": "error",
     "traceback": [
      "\u001b[1;36m  Cell \u001b[1;32mIn[2], line 2\u001b[1;36m\u001b[0m\n\u001b[1;33m    pip install seaborn\u001b[0m\n\u001b[1;37m        ^\u001b[0m\n\u001b[1;31mSyntaxError\u001b[0m\u001b[1;31m:\u001b[0m invalid syntax\n"
     ]
    }
   ],
   "source": [
    "# # 라이브러리 없다고 에러나올 시 아래 코드 실행 (뒤에 seaborn만 변경)\n",
    "# pip install seaborn"
   ]
  },
  {
   "cell_type": "markdown",
   "id": "2e9a2623",
   "metadata": {},
   "source": [
    "# data 추출"
   ]
  },
  {
   "cell_type": "markdown",
   "id": "f09a2567",
   "metadata": {},
   "source": [
    "## 엑셀파일 concat"
   ]
  },
  {
   "cell_type": "code",
   "execution_count": 3,
   "id": "c8e715c0",
   "metadata": {
    "ExecuteTime": {
     "end_time": "2023-08-21T11:32:02.127819Z",
     "start_time": "2023-08-21T11:32:00.940952Z"
    },
    "scrolled": true
   },
   "outputs": [
    {
     "name": "stdout",
     "output_type": "stream",
     "text": [
      "./raw_data\\20230704.xlsx (184, 4)\n",
      "./raw_data\\20230705.xlsx (472, 4)\n",
      "./raw_data\\20230706.xlsx (760, 4)\n",
      "./raw_data\\20230707L.xlsx (1048, 4)\n",
      "./raw_data\\20230708.xlsx (1336, 4)\n",
      "./raw_data\\20230709.xlsx (1624, 4)\n",
      "./raw_data\\20230710.xlsx (1912, 4)\n",
      "./raw_data\\20230711.xlsx (2200, 4)\n",
      "./raw_data\\20230712.xlsx (2488, 4)\n",
      "./raw_data\\20230713.xlsx (2776, 4)\n",
      "./raw_data\\20230714.xlsx (3064, 4)\n",
      "./raw_data\\20230715.xlsx (3352, 4)\n",
      "./raw_data\\20230716.xlsx (3640, 4)\n",
      "./raw_data\\20230717.xlsx (3928, 4)\n",
      "./raw_data\\20230718.xlsx (4216, 4)\n",
      "./raw_data\\20230719.xlsx (4504, 4)\n",
      "./raw_data\\20230720.xlsx (4792, 4)\n",
      "./raw_data\\20230721.xlsx (5080, 4)\n",
      "./raw_data\\20230722.xlsx (5368, 4)\n",
      "./raw_data\\20230723.xlsx (5656, 4)\n",
      "./raw_data\\20230724.xlsx (5944, 4)\n",
      "./raw_data\\20230725.xlsx (6232, 4)\n",
      "./raw_data\\20230726.xlsx (6520, 4)\n",
      "./raw_data\\20230727.xlsx (6808, 4)\n",
      "./raw_data\\20230728.xlsx (7096, 4)\n",
      "./raw_data\\20230729.xlsx (7384, 4)\n",
      "./raw_data\\20230730.xlsx (7672, 4)\n",
      "./raw_data\\20230731.xlsx (7960, 4)\n",
      "./raw_data\\20230801.xlsx (8248, 4)\n",
      "./raw_data\\20230802.xlsx (8401, 4)\n"
     ]
    },
    {
     "ename": "NameError",
     "evalue": "name 'all_dat' is not defined",
     "output_type": "error",
     "traceback": [
      "\u001b[1;31m---------------------------------------------------------------------------\u001b[0m",
      "\u001b[1;31mNameError\u001b[0m                                 Traceback (most recent call last)",
      "Cell \u001b[1;32mIn[3], line 10\u001b[0m\n\u001b[0;32m      8\u001b[0m     all_data \u001b[38;5;241m=\u001b[39m pd\u001b[38;5;241m.\u001b[39mconcat([all_data, df])\n\u001b[0;32m      9\u001b[0m     \u001b[38;5;28mprint\u001b[39m(f, all_data\u001b[38;5;241m.\u001b[39mshape)\n\u001b[1;32m---> 10\u001b[0m \u001b[43mall_dat\u001b[49m\n",
      "\u001b[1;31mNameError\u001b[0m: name 'all_dat' is not defined"
     ]
    }
   ],
   "source": [
    "files = glob.glob('./raw_data/*.xlsx')\n",
    "\n",
    "all_data = pd.DataFrame()\n",
    "\n",
    "for f in files:\n",
    "    data = pd.read_excel(f, parse_dates=True)    \n",
    "    df = pd.DataFrame(data)    \n",
    "    all_data = pd.concat([all_data, df])\n",
    "    print(f, all_data.shape)\n",
    "all_data\n"
   ]
  },
  {
   "cell_type": "code",
   "execution_count": null,
   "id": "18af24bf",
   "metadata": {
    "ExecuteTime": {
     "end_time": "2023-08-21T11:20:27.337458Z",
     "start_time": "2023-08-21T11:20:27.329395Z"
    }
   },
   "outputs": [],
   "source": [
    "df = all_data"
   ]
  },
  {
   "cell_type": "code",
   "execution_count": null,
   "id": "c59ed1ce",
   "metadata": {
    "ExecuteTime": {
     "end_time": "2023-08-21T11:20:27.904333Z",
     "start_time": "2023-08-21T11:20:27.886828Z"
    }
   },
   "outputs": [],
   "source": [
    "df = df.rename(columns={'Date': 'DateTime','16-bit Unsigned':'Power'})"
   ]
  },
  {
   "cell_type": "markdown",
   "id": "7076415b",
   "metadata": {},
   "source": [
    "## 인덱스 변경"
   ]
  },
  {
   "cell_type": "code",
   "execution_count": null,
   "id": "3c05a1da",
   "metadata": {
    "ExecuteTime": {
     "end_time": "2023-08-21T11:20:29.390965Z",
     "start_time": "2023-08-21T11:20:29.383967Z"
    }
   },
   "outputs": [],
   "source": [
    "df['DateTime'] = pd.to_datetime(df['DateTime'])"
   ]
  },
  {
   "cell_type": "code",
   "execution_count": null,
   "id": "0ca61a78",
   "metadata": {
    "ExecuteTime": {
     "end_time": "2023-08-21T11:20:29.810695Z",
     "start_time": "2023-08-21T11:20:29.799553Z"
    }
   },
   "outputs": [],
   "source": [
    "df = df.set_index('DateTime')"
   ]
  },
  {
   "cell_type": "code",
   "execution_count": null,
   "id": "584e1a6b",
   "metadata": {
    "ExecuteTime": {
     "end_time": "2023-08-21T11:20:30.110720Z",
     "start_time": "2023-08-21T11:20:30.099932Z"
    }
   },
   "outputs": [],
   "source": [
    "df"
   ]
  },
  {
   "cell_type": "markdown",
   "id": "c5f0fdb3",
   "metadata": {},
   "source": [
    "## Time column drop"
   ]
  },
  {
   "cell_type": "code",
   "execution_count": null,
   "id": "e790cdab",
   "metadata": {
    "ExecuteTime": {
     "end_time": "2023-08-21T11:20:32.203467Z",
     "start_time": "2023-08-21T11:20:32.189963Z"
    }
   },
   "outputs": [],
   "source": [
    "df.drop(columns=['Time'], inplace=True)"
   ]
  },
  {
   "cell_type": "code",
   "execution_count": null,
   "id": "b5e9d65d",
   "metadata": {
    "ExecuteTime": {
     "end_time": "2023-08-21T11:20:32.558204Z",
     "start_time": "2023-08-21T11:20:32.541346Z"
    }
   },
   "outputs": [],
   "source": [
    "df"
   ]
  },
  {
   "cell_type": "markdown",
   "id": "3d25c342",
   "metadata": {},
   "source": [
    "## CSV 파일로 export"
   ]
  },
  {
   "cell_type": "code",
   "execution_count": null,
   "id": "a3f4b07f",
   "metadata": {
    "ExecuteTime": {
     "end_time": "2023-08-21T11:22:28.008398Z",
     "start_time": "2023-08-21T11:22:27.497633Z"
    }
   },
   "outputs": [],
   "source": [
    "file_name = '230821.xlsx'\n",
    "df.to_excel(file_name)"
   ]
  },
  {
   "cell_type": "markdown",
   "id": "5e727a1a",
   "metadata": {},
   "source": [
    "## 1차 visualization"
   ]
  },
  {
   "cell_type": "code",
   "execution_count": null,
   "id": "5c49ca83",
   "metadata": {
    "ExecuteTime": {
     "end_time": "2023-08-21T10:42:36.056683Z",
     "start_time": "2023-08-21T10:42:35.785404Z"
    },
    "scrolled": true
   },
   "outputs": [],
   "source": [
    "fig, ax = plt.subplots(figsize=(18,10))\n",
    "\n",
    "for i in range(len(df.columns)):\n",
    "    plt.subplot(len(df.columns), 1, i+1)\n",
    "    plt.subplots_adjust(hspace=0.4)\n",
    "    name = df.columns[i]\n",
    "    r=random.random()\n",
    "    g=random.random()\n",
    "    b=random.random()\n",
    "    color=(r,g,b)\n",
    "    plt.plot(df[name])    \n",
    "    plt.plot(df[name], color=color)    \n",
    "    plt.title(name, loc = 'left', pad=15, fontsize=13, fontweight=\"bold\")      \n",
    "    plt.yticks(fontsize=13)    \n",
    "    plt.xticks(fontsize=13)                \n",
    "#     plt.xlim(pd.Timestamp('2022-04-20 00:00:00'), pd.Timestamp('2023-05-31 00:00:00'))    \n",
    "    plt.grid(True)\n",
    "plt.show()\n",
    "fig.tight_layout()\n"
   ]
  },
  {
   "cell_type": "markdown",
   "id": "1bc6d1d9",
   "metadata": {},
   "source": [
    "# 엑셀데이터 불러오기"
   ]
  },
  {
   "cell_type": "code",
   "execution_count": null,
   "id": "5f943716",
   "metadata": {
    "ExecuteTime": {
     "end_time": "2023-08-21T11:23:31.481895Z",
     "start_time": "2023-08-21T11:23:31.270994Z"
    }
   },
   "outputs": [],
   "source": [
    "df = pd.read_excel('230821.xlsx', parse_dates=True)  "
   ]
  },
  {
   "cell_type": "code",
   "execution_count": null,
   "id": "f69d3eb6",
   "metadata": {
    "ExecuteTime": {
     "end_time": "2023-08-21T11:23:32.746536Z",
     "start_time": "2023-08-21T11:23:32.737535Z"
    }
   },
   "outputs": [],
   "source": [
    "df"
   ]
  },
  {
   "cell_type": "markdown",
   "id": "d66b8adf",
   "metadata": {},
   "source": [
    "# 데이터 전처리"
   ]
  },
  {
   "cell_type": "markdown",
   "id": "a6fc3fd8",
   "metadata": {},
   "source": [
    "## 마스크 설정\n",
    "- 650 이상이거나, 550 이하이면 outlier로 간주"
   ]
  },
  {
   "cell_type": "code",
   "execution_count": null,
   "id": "ba2990de",
   "metadata": {
    "ExecuteTime": {
     "end_time": "2023-08-21T10:46:33.301802Z",
     "start_time": "2023-08-21T10:46:33.287798Z"
    }
   },
   "outputs": [],
   "source": [
    "mask =  ((df['Millisecond']>= 650)|(df['Millisecond'] <= 550))"
   ]
  },
  {
   "cell_type": "markdown",
   "id": "4c83b216",
   "metadata": {},
   "source": [
    "## outlier 추출"
   ]
  },
  {
   "cell_type": "code",
   "execution_count": null,
   "id": "3674f922",
   "metadata": {
    "ExecuteTime": {
     "end_time": "2023-08-21T10:47:19.511975Z",
     "start_time": "2023-08-21T10:47:19.498048Z"
    }
   },
   "outputs": [],
   "source": [
    "df_outlier = df[mask]"
   ]
  },
  {
   "cell_type": "code",
   "execution_count": null,
   "id": "dd9924a4",
   "metadata": {
    "ExecuteTime": {
     "end_time": "2023-08-21T10:47:22.154669Z",
     "start_time": "2023-08-21T10:47:22.143670Z"
    }
   },
   "outputs": [],
   "source": [
    "df_outlier"
   ]
  },
  {
   "cell_type": "markdown",
   "id": "ceed284a",
   "metadata": {},
   "source": [
    "## Filtered 추출"
   ]
  },
  {
   "cell_type": "code",
   "execution_count": null,
   "id": "2d75d7ea",
   "metadata": {
    "ExecuteTime": {
     "end_time": "2023-08-21T10:47:40.532699Z",
     "start_time": "2023-08-21T10:47:40.523077Z"
    }
   },
   "outputs": [],
   "source": [
    "df_filtered = df[~mask]"
   ]
  },
  {
   "cell_type": "code",
   "execution_count": null,
   "id": "e70f0a5f",
   "metadata": {
    "ExecuteTime": {
     "end_time": "2023-08-21T10:47:42.599633Z",
     "start_time": "2023-08-21T10:47:42.580459Z"
    }
   },
   "outputs": [],
   "source": [
    "df_filtered"
   ]
  },
  {
   "cell_type": "markdown",
   "id": "80abee44",
   "metadata": {},
   "source": [
    "## Masking된 것 만 visualization"
   ]
  },
  {
   "cell_type": "code",
   "execution_count": null,
   "id": "5e359d2a",
   "metadata": {
    "ExecuteTime": {
     "end_time": "2023-08-21T10:52:32.078400Z",
     "start_time": "2023-08-21T10:52:31.767030Z"
    }
   },
   "outputs": [],
   "source": [
    "fig, ax = plt.subplots(figsize=(18,10))\n",
    "\n",
    "for i in range(len(df_filtered.columns)):\n",
    "    plt.subplot(len(df_filtered.columns), 1, i+1)\n",
    "    plt.subplots_adjust(hspace=0.4)\n",
    "    name = df_filtered.columns[i]\n",
    "    r=random.random()\n",
    "    g=random.random()\n",
    "    b=random.random()\n",
    "    color=(r,g,b)\n",
    "    plt.plot(df_filtered[name])    \n",
    "    plt.plot(df_filtered[name], color=color)    \n",
    "    plt.title(name, loc = 'left', pad=15, fontsize=13, fontweight=\"bold\")      \n",
    "    plt.yticks(fontsize=13)    \n",
    "    plt.xticks(fontsize=13)                \n",
    "#     plt.xlim(pd.Timestamp('2022-04-20 00:00:00'), pd.Timestamp('2023-05-31 00:00:00'))    \n",
    "    plt.grid(True)\n",
    "plt.show()\n",
    "fig.tight_layout()\n"
   ]
  },
  {
   "cell_type": "markdown",
   "id": "4e41aad2",
   "metadata": {},
   "source": [
    "## Outlier visulaization"
   ]
  },
  {
   "cell_type": "code",
   "execution_count": null,
   "id": "4ba4e38d",
   "metadata": {
    "ExecuteTime": {
     "end_time": "2023-08-21T10:54:11.946408Z",
     "start_time": "2023-08-21T10:54:11.713132Z"
    }
   },
   "outputs": [],
   "source": [
    "fig, ax = plt.subplots(figsize=(18,10))\n",
    "\n",
    "for i in range(len(df_outlier.columns)):\n",
    "    plt.subplot(len(df_outlier.columns), 1, i+1)\n",
    "    plt.subplots_adjust(hspace=0.4)\n",
    "    name = df_outlier.columns[i]\n",
    "    r=random.random()\n",
    "    g=random.random()\n",
    "    b=random.random()\n",
    "    color=(r,g,b)\n",
    "    plt.plot(df_outlier[name])    \n",
    "    plt.plot(df_outlier[name], color=color)    \n",
    "    plt.title(name, loc = 'left', pad=15, fontsize=13, fontweight=\"bold\")      \n",
    "    plt.yticks(fontsize=13)    \n",
    "    plt.xticks(fontsize=13)                \n",
    "#     plt.xlim(pd.Timestamp('2022-04-20 00:00:00'), pd.Timestamp('2023-05-31 00:00:00'))    \n",
    "    plt.grid(True)\n",
    "plt.show()\n",
    "fig.tight_layout()\n"
   ]
  },
  {
   "cell_type": "markdown",
   "id": "0974c095",
   "metadata": {},
   "source": [
    "# Resampling"
   ]
  },
  {
   "cell_type": "markdown",
   "id": "1b8001cd",
   "metadata": {},
   "source": [
    "## 5분단위 평균"
   ]
  },
  {
   "cell_type": "code",
   "execution_count": null,
   "id": "b5d7a570",
   "metadata": {
    "ExecuteTime": {
     "end_time": "2023-08-21T10:55:11.645566Z",
     "start_time": "2023-08-21T10:55:11.634063Z"
    }
   },
   "outputs": [],
   "source": [
    "df = df_filtered"
   ]
  },
  {
   "cell_type": "code",
   "execution_count": null,
   "id": "9c8369d7",
   "metadata": {
    "ExecuteTime": {
     "end_time": "2023-08-21T10:56:56.816578Z",
     "start_time": "2023-08-21T10:56:56.808583Z"
    }
   },
   "outputs": [],
   "source": [
    "df2= df.resample('5T').mean()"
   ]
  },
  {
   "cell_type": "code",
   "execution_count": null,
   "id": "be8e9b11",
   "metadata": {
    "ExecuteTime": {
     "end_time": "2023-08-21T10:56:59.619442Z",
     "start_time": "2023-08-21T10:56:59.598415Z"
    }
   },
   "outputs": [],
   "source": [
    "df2"
   ]
  },
  {
   "cell_type": "code",
   "execution_count": null,
   "id": "4c0fe959",
   "metadata": {
    "ExecuteTime": {
     "end_time": "2023-08-21T10:58:22.829138Z",
     "start_time": "2023-08-21T10:58:22.817337Z"
    }
   },
   "outputs": [],
   "source": [
    "df3 = df2.interpolate(method='linear')"
   ]
  },
  {
   "cell_type": "code",
   "execution_count": null,
   "id": "7b0f48f5",
   "metadata": {
    "ExecuteTime": {
     "end_time": "2023-08-21T10:59:04.916933Z",
     "start_time": "2023-08-21T10:59:04.908933Z"
    }
   },
   "outputs": [],
   "source": [
    "df=df3"
   ]
  },
  {
   "cell_type": "code",
   "execution_count": null,
   "id": "1d9495bd",
   "metadata": {
    "ExecuteTime": {
     "end_time": "2023-08-21T10:59:09.719973Z",
     "start_time": "2023-08-21T10:59:09.415527Z"
    }
   },
   "outputs": [],
   "source": [
    "fig, ax = plt.subplots(figsize=(18,10))\n",
    "\n",
    "for i in range(len(df.columns)):\n",
    "    plt.subplot(len(df.columns), 1, i+1)\n",
    "    plt.subplots_adjust(hspace=0.4)\n",
    "    name = df.columns[i]\n",
    "    r=random.random()\n",
    "    g=random.random()\n",
    "    b=random.random()\n",
    "    color=(r,g,b)\n",
    "    plt.plot(df[name])    \n",
    "    plt.plot(df[name], color=color)    \n",
    "    plt.title(name, loc = 'left', pad=15, fontsize=13, fontweight=\"bold\")      \n",
    "    plt.yticks(fontsize=13)    \n",
    "    plt.xticks(fontsize=13)                \n",
    "#     plt.xlim(pd.Timestamp('2022-04-20 00:00:00'), pd.Timestamp('2023-05-31 00:00:00'))    \n",
    "    plt.grid(True)\n",
    "plt.show()\n",
    "fig.tight_layout()\n"
   ]
  },
  {
   "cell_type": "markdown",
   "id": "6722a5fe",
   "metadata": {},
   "source": [
    "# Power가 0인값 초과인 경우만 추출"
   ]
  },
  {
   "cell_type": "code",
   "execution_count": null,
   "id": "11edafa7",
   "metadata": {
    "ExecuteTime": {
     "end_time": "2023-08-21T11:15:37.246266Z",
     "start_time": "2023-08-21T11:15:37.235759Z"
    }
   },
   "outputs": [],
   "source": [
    "df"
   ]
  },
  {
   "cell_type": "code",
   "execution_count": null,
   "id": "0e3b9c33",
   "metadata": {
    "ExecuteTime": {
     "end_time": "2023-08-21T11:15:39.341804Z",
     "start_time": "2023-08-21T11:15:39.324053Z"
    }
   },
   "outputs": [],
   "source": [
    "mask =  (df['Power']> 0)"
   ]
  },
  {
   "cell_type": "code",
   "execution_count": null,
   "id": "c573faf6",
   "metadata": {
    "ExecuteTime": {
     "end_time": "2023-08-21T11:15:40.105080Z",
     "start_time": "2023-08-21T11:15:40.089077Z"
    }
   },
   "outputs": [],
   "source": [
    "df_filtered = df[mask]"
   ]
  },
  {
   "cell_type": "code",
   "execution_count": null,
   "id": "c2561010",
   "metadata": {
    "ExecuteTime": {
     "end_time": "2023-08-21T11:15:41.298972Z",
     "start_time": "2023-08-21T11:15:41.284969Z"
    }
   },
   "outputs": [],
   "source": [
    "df=df_filtered"
   ]
  },
  {
   "cell_type": "code",
   "execution_count": null,
   "id": "74cf50c9",
   "metadata": {
    "ExecuteTime": {
     "end_time": "2023-08-21T11:15:42.429951Z",
     "start_time": "2023-08-21T11:15:42.416957Z"
    }
   },
   "outputs": [],
   "source": [
    "df"
   ]
  },
  {
   "cell_type": "code",
   "execution_count": null,
   "id": "9c2cf462",
   "metadata": {
    "ExecuteTime": {
     "end_time": "2023-08-21T11:16:04.174269Z",
     "start_time": "2023-08-21T11:16:03.923091Z"
    }
   },
   "outputs": [],
   "source": [
    "fig, ax = plt.subplots(figsize=(18,10))\n",
    "\n",
    "for i in range(len(df.columns)):\n",
    "    plt.subplot(len(df.columns), 1, i+1)\n",
    "    plt.subplots_adjust(hspace=0.4)\n",
    "    name = df.columns[i]\n",
    "    r=random.random()\n",
    "    g=random.random()\n",
    "    b=random.random()\n",
    "    color=(r,g,b)\n",
    "    plt.plot(df[name])    \n",
    "    plt.plot(df[name], color=color)    \n",
    "    plt.title(name, loc = 'left', pad=15, fontsize=13, fontweight=\"bold\")      \n",
    "    plt.yticks(fontsize=13)    \n",
    "    plt.xticks(fontsize=13)                \n",
    "#     plt.xlim(pd.Timestamp('2022-04-20 00:00:00'), pd.Timestamp('2023-05-31 00:00:00'))    \n",
    "    plt.grid(True)\n",
    "plt.show()\n",
    "fig.tight_layout()\n"
   ]
  },
  {
   "cell_type": "code",
   "execution_count": null,
   "id": "ebf8bf24",
   "metadata": {
    "ExecuteTime": {
     "end_time": "2023-08-21T11:16:42.423931Z",
     "start_time": "2023-08-21T11:16:42.173685Z"
    }
   },
   "outputs": [],
   "source": [
    "fig, ax = plt.subplots(figsize=(18,10))\n",
    "\n",
    "for i in range(len(df.columns)):\n",
    "    plt.subplot(len(df.columns), 1, i+1)\n",
    "    plt.subplots_adjust(hspace=0.4)\n",
    "    name = df.columns[i]\n",
    "    r=random.random()\n",
    "    g=random.random()\n",
    "    b=random.random()\n",
    "    color=(r,g,b)\n",
    "    plt.scatter(df.index, df[name])    \n",
    "    plt.scatter(df.index, df[name], color=color)    \n",
    "    plt.title(name, loc = 'left', pad=15, fontsize=13, fontweight=\"bold\")      \n",
    "    plt.yticks(fontsize=13)    \n",
    "    plt.xticks(fontsize=13)                \n",
    "#     plt.xlim(pd.Timestamp('2022-04-20 00:00:00'), pd.Timestamp('2023-05-31 00:00:00'))    \n",
    "    plt.grid(True)\n",
    "plt.show()\n",
    "fig.tight_layout()\n"
   ]
  },
  {
   "cell_type": "markdown",
   "id": "18280112",
   "metadata": {},
   "source": [
    "## 5분단위 평균"
   ]
  },
  {
   "cell_type": "code",
   "execution_count": null,
   "id": "b8be444d",
   "metadata": {
    "ExecuteTime": {
     "end_time": "2023-08-21T11:17:23.052072Z",
     "start_time": "2023-08-21T11:17:23.020432Z"
    }
   },
   "outputs": [],
   "source": [
    "df = df.resample('5T').mean()"
   ]
  },
  {
   "cell_type": "code",
   "execution_count": null,
   "id": "18997bd5",
   "metadata": {
    "ExecuteTime": {
     "end_time": "2023-08-21T11:17:27.808593Z",
     "start_time": "2023-08-21T11:17:27.801294Z"
    }
   },
   "outputs": [],
   "source": [
    "df"
   ]
  },
  {
   "cell_type": "code",
   "execution_count": null,
   "id": "3e2dfa8e",
   "metadata": {
    "ExecuteTime": {
     "end_time": "2023-08-21T11:18:12.833842Z",
     "start_time": "2023-08-21T11:18:12.459574Z"
    }
   },
   "outputs": [],
   "source": [
    "fig, ax = plt.subplots(figsize=(18,10))\n",
    "\n",
    "for i in range(len(df.columns)):\n",
    "    plt.subplot(len(df.columns), 1, i+1)\n",
    "    plt.subplots_adjust(hspace=0.4)\n",
    "    name = df.columns[i]\n",
    "    r=random.random()\n",
    "    g=random.random()\n",
    "    b=random.random()\n",
    "    color=(r,g,b)\n",
    "    plt.scatter(df.index, df[name])    \n",
    "    plt.scatter(df.index, df[name], color=color)    \n",
    "    plt.title(name, loc = 'left', pad=15, fontsize=13, fontweight=\"bold\")      \n",
    "    plt.yticks(fontsize=13)    \n",
    "    plt.xticks(fontsize=13)                \n",
    "#     plt.xlim(pd.Timestamp('2022-04-20 00:00:00'), pd.Timestamp('2023-05-31 00:00:00'))    \n",
    "    plt.grid(True)\n",
    "plt.show()\n",
    "fig.tight_layout()\n"
   ]
  },
  {
   "cell_type": "markdown",
   "id": "4b99d885",
   "metadata": {},
   "source": [
    "## CSV 파일로 저장 "
   ]
  },
  {
   "cell_type": "code",
   "execution_count": null,
   "id": "75b2efee",
   "metadata": {
    "ExecuteTime": {
     "end_time": "2023-08-21T11:19:21.568649Z",
     "start_time": "2023-08-21T11:19:21.549175Z"
    }
   },
   "outputs": [],
   "source": [
    "df.to_csv('./treated_data/230821_Power_5min_average.csv')"
   ]
  },
  {
   "cell_type": "code",
   "execution_count": null,
   "id": "c1f79f36",
   "metadata": {},
   "outputs": [],
   "source": []
  },
  {
   "cell_type": "code",
   "execution_count": null,
   "id": "e9ff383b",
   "metadata": {},
   "outputs": [],
   "source": []
  },
  {
   "cell_type": "code",
   "execution_count": null,
   "id": "cb5af47e",
   "metadata": {},
   "outputs": [],
   "source": []
  },
  {
   "cell_type": "code",
   "execution_count": null,
   "id": "e48b65e3",
   "metadata": {},
   "outputs": [],
   "source": []
  },
  {
   "cell_type": "code",
   "execution_count": null,
   "id": "86604cdf",
   "metadata": {},
   "outputs": [],
   "source": []
  },
  {
   "cell_type": "code",
   "execution_count": null,
   "id": "b089d128",
   "metadata": {},
   "outputs": [],
   "source": []
  },
  {
   "cell_type": "code",
   "execution_count": null,
   "id": "d770971a",
   "metadata": {},
   "outputs": [],
   "source": []
  },
  {
   "cell_type": "code",
   "execution_count": null,
   "id": "7777f53c",
   "metadata": {},
   "outputs": [],
   "source": []
  }
 ],
 "metadata": {
  "kernelspec": {
   "display_name": "Python 3.8 (pytorch)",
   "language": "python",
   "name": "pytorch"
  },
  "language_info": {
   "codemirror_mode": {
    "name": "ipython",
    "version": 3
   },
   "file_extension": ".py",
   "mimetype": "text/x-python",
   "name": "python",
   "nbconvert_exporter": "python",
   "pygments_lexer": "ipython3",
   "version": "3.8.16"
  },
  "toc": {
   "base_numbering": 1,
   "nav_menu": {},
   "number_sections": true,
   "sideBar": true,
   "skip_h1_title": false,
   "title_cell": "Table of Contents",
   "title_sidebar": "Contents",
   "toc_cell": false,
   "toc_position": {},
   "toc_section_display": true,
   "toc_window_display": false
  },
  "varInspector": {
   "cols": {
    "lenName": 16,
    "lenType": 16,
    "lenVar": 40
   },
   "kernels_config": {
    "python": {
     "delete_cmd_postfix": "",
     "delete_cmd_prefix": "del ",
     "library": "var_list.py",
     "varRefreshCmd": "print(var_dic_list())"
    },
    "r": {
     "delete_cmd_postfix": ") ",
     "delete_cmd_prefix": "rm(",
     "library": "var_list.r",
     "varRefreshCmd": "cat(var_dic_list()) "
    }
   },
   "types_to_exclude": [
    "module",
    "function",
    "builtin_function_or_method",
    "instance",
    "_Feature"
   ],
   "window_display": false
  }
 },
 "nbformat": 4,
 "nbformat_minor": 5
}
