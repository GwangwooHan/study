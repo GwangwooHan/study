{
 "cells": [
  {
   "cell_type": "code",
   "execution_count": 1,
   "id": "a69946a6",
   "metadata": {
    "ExecuteTime": {
     "end_time": "2023-09-07T09:13:00.752925Z",
     "start_time": "2023-09-07T09:12:59.534382Z"
    }
   },
   "outputs": [],
   "source": [
    "import numpy as np # 행렬계산\n",
    "import pandas as pd # 엑셀 \n",
    "import datetime # 시간인덱스를 시간포맷으로 변경\n",
    "import re\n",
    "from dateutil.parser import parse\n",
    "import math\n",
    "import glob # 파일 로드 \n",
    "import sys\n",
    "import openpyxl as opx # 엑셀파일 로드 (xls)\n",
    "import xlrd # 엑셀파일 로드 (최신버전 xlsx)\n",
    "import seaborn as sns\n",
    "import random\n",
    "import matplotlib # Graph\n",
    "import matplotlib.pyplot as plt\n",
    "from mpl_toolkits import mplot3d\n",
    "from matplotlib import font_manager, rc\n",
    "# matplotlib.rcParams['axes.unicode_minus'] = False\n",
    "# font_path = \"C:/Windows/Fonts/malgun.TTF\"\n",
    "# font = font_manager.FontProperties(fname=font_path).get_name()\n",
    "# rc('font', family=font)\n",
    "# %matplotlib inline\n",
    "\n",
    "\n",
    "from sklearn.metrics import mean_squared_error\n",
    "from sklearn.preprocessing import MinMaxScaler"
   ]
  },
  {
   "cell_type": "markdown",
   "id": "2e9a2623",
   "metadata": {},
   "source": [
    "# data 추출"
   ]
  },
  {
   "cell_type": "markdown",
   "id": "f09a2567",
   "metadata": {},
   "source": [
    "## 엑셀파일 concat"
   ]
  },
  {
   "cell_type": "code",
   "execution_count": null,
   "id": "c8e715c0",
   "metadata": {
    "ExecuteTime": {
     "end_time": "2023-09-07T08:15:28.620621Z",
     "start_time": "2023-09-07T08:15:28.092882Z"
    },
    "scrolled": false
   },
   "outputs": [],
   "source": [
    "files = glob.glob('./raw_data/power/*.xlsx')\n",
    "\n",
    "all_data = pd.DataFrame()\n",
    "\n",
    "for f in files:\n",
    "    data = pd.read_excel(f, parse_dates=True)  # 데이터를 판다스로 리드      \n",
    "    df = pd.DataFrame(data)    # 데이터프레임을 불러온 데이터로 선언\n",
    "    all_data = pd.concat([all_data, df]) # 위에까지 진행된 내용에 아래를 concat \n",
    "    print(f, all_data.shape)\n",
    "all_data\n"
   ]
  },
  {
   "cell_type": "code",
   "execution_count": null,
   "id": "18af24bf",
   "metadata": {
    "ExecuteTime": {
     "end_time": "2023-09-07T08:15:28.730306Z",
     "start_time": "2023-09-07T08:15:28.714599Z"
    }
   },
   "outputs": [],
   "source": [
    "df = all_data"
   ]
  },
  {
   "cell_type": "code",
   "execution_count": null,
   "id": "c59ed1ce",
   "metadata": {
    "ExecuteTime": {
     "end_time": "2023-09-07T08:15:29.398493Z",
     "start_time": "2023-09-07T08:15:29.383962Z"
    }
   },
   "outputs": [],
   "source": [
    "df = df.rename(columns={'Date': 'DateTime','16-bit Unsigned':'Power'})"
   ]
  },
  {
   "cell_type": "markdown",
   "id": "7076415b",
   "metadata": {},
   "source": [
    "## 인덱스 변경"
   ]
  },
  {
   "cell_type": "code",
   "execution_count": null,
   "id": "c3241029",
   "metadata": {
    "ExecuteTime": {
     "end_time": "2023-09-07T08:15:32.348522Z",
     "start_time": "2023-09-07T08:15:32.333518Z"
    }
   },
   "outputs": [],
   "source": [
    "df"
   ]
  },
  {
   "cell_type": "code",
   "execution_count": null,
   "id": "04f6fdf1",
   "metadata": {
    "ExecuteTime": {
     "end_time": "2023-09-07T08:16:16.772083Z",
     "start_time": "2023-09-07T08:16:16.761066Z"
    }
   },
   "outputs": [],
   "source": [
    "df.info()"
   ]
  },
  {
   "cell_type": "code",
   "execution_count": null,
   "id": "3c05a1da",
   "metadata": {
    "ExecuteTime": {
     "end_time": "2023-09-07T08:16:52.251437Z",
     "start_time": "2023-09-07T08:16:52.236680Z"
    }
   },
   "outputs": [],
   "source": [
    "df['DateTime'] = pd.to_datetime(df['DateTime'])"
   ]
  },
  {
   "cell_type": "code",
   "execution_count": null,
   "id": "0ca61a78",
   "metadata": {
    "ExecuteTime": {
     "end_time": "2023-09-07T08:16:59.475385Z",
     "start_time": "2023-09-07T08:16:59.460025Z"
    }
   },
   "outputs": [],
   "source": [
    "df = df.set_index('DateTime')"
   ]
  },
  {
   "cell_type": "code",
   "execution_count": null,
   "id": "584e1a6b",
   "metadata": {
    "ExecuteTime": {
     "end_time": "2023-09-07T08:17:00.586606Z",
     "start_time": "2023-09-07T08:17:00.574603Z"
    }
   },
   "outputs": [],
   "source": [
    "df"
   ]
  },
  {
   "cell_type": "markdown",
   "id": "c5f0fdb3",
   "metadata": {},
   "source": [
    "## Time column drop"
   ]
  },
  {
   "cell_type": "code",
   "execution_count": null,
   "id": "e790cdab",
   "metadata": {
    "ExecuteTime": {
     "end_time": "2023-09-07T08:17:22.475693Z",
     "start_time": "2023-09-07T08:17:22.464695Z"
    }
   },
   "outputs": [],
   "source": [
    "df.drop(columns=['Time'], inplace=True)"
   ]
  },
  {
   "cell_type": "code",
   "execution_count": null,
   "id": "b5e9d65d",
   "metadata": {
    "ExecuteTime": {
     "end_time": "2023-09-07T08:17:23.529978Z",
     "start_time": "2023-09-07T08:17:23.515800Z"
    }
   },
   "outputs": [],
   "source": [
    "df"
   ]
  },
  {
   "cell_type": "markdown",
   "id": "3d25c342",
   "metadata": {},
   "source": [
    "## CSV 파일로 export"
   ]
  },
  {
   "cell_type": "code",
   "execution_count": null,
   "id": "a3f4b07f",
   "metadata": {
    "ExecuteTime": {
     "end_time": "2023-09-07T08:19:24.931088Z",
     "start_time": "2023-09-07T08:19:24.908865Z"
    }
   },
   "outputs": [],
   "source": [
    "file_name = 'merged.csv'\n",
    "df.to_csv(file_name)"
   ]
  },
  {
   "cell_type": "markdown",
   "id": "5e727a1a",
   "metadata": {},
   "source": [
    "## 1차 visualization"
   ]
  },
  {
   "cell_type": "code",
   "execution_count": null,
   "id": "5c49ca83",
   "metadata": {
    "ExecuteTime": {
     "end_time": "2023-09-07T08:20:37.107619Z",
     "start_time": "2023-09-07T08:20:36.509233Z"
    },
    "scrolled": false
   },
   "outputs": [],
   "source": [
    "fig, ax = plt.subplots(figsize=(18,20))\n",
    "\n",
    "for i in range(len(df.columns)):\n",
    "    plt.subplot(len(df.columns), 1, i+1)\n",
    "    plt.subplots_adjust(hspace=0.4)\n",
    "    name = df.columns[i]\n",
    "    r=random.random()\n",
    "    g=random.random()\n",
    "    b=random.random()\n",
    "    color=(r,g,b)\n",
    "    plt.plot(df[name])    \n",
    "    plt.plot(df[name], color=color)    \n",
    "    plt.title(name, loc = 'left', pad=15, fontsize=13, fontweight=\"bold\")      \n",
    "    plt.yticks(fontsize=13)    \n",
    "    plt.xticks(fontsize=13)                \n",
    "#     plt.xlim(pd.Timestamp('2022-04-20 00:00:00'), pd.Timestamp('2023-05-31 00:00:00'))    \n",
    "    plt.grid(True)\n",
    "plt.show()\n",
    "fig.tight_layout()\n"
   ]
  },
  {
   "cell_type": "markdown",
   "id": "1bc6d1d9",
   "metadata": {},
   "source": [
    "# 엑셀데이터 불러오기"
   ]
  },
  {
   "cell_type": "code",
   "execution_count": null,
   "id": "5f943716",
   "metadata": {
    "ExecuteTime": {
     "end_time": "2023-08-21T11:23:31.481895Z",
     "start_time": "2023-08-21T11:23:31.270994Z"
    }
   },
   "outputs": [],
   "source": [
    "df = pd.read_excel('230821.xlsx', parse_dates=True)  "
   ]
  },
  {
   "cell_type": "code",
   "execution_count": null,
   "id": "f69d3eb6",
   "metadata": {
    "ExecuteTime": {
     "end_time": "2023-08-21T11:23:32.746536Z",
     "start_time": "2023-08-21T11:23:32.737535Z"
    }
   },
   "outputs": [],
   "source": [
    "df"
   ]
  },
  {
   "cell_type": "markdown",
   "id": "d66b8adf",
   "metadata": {},
   "source": [
    "# 데이터 전처리"
   ]
  },
  {
   "cell_type": "markdown",
   "id": "a6fc3fd8",
   "metadata": {},
   "source": [
    "## 마스크 설정\n",
    "- 650 이상이거나, 550 이하이면 outlier로 간주"
   ]
  },
  {
   "cell_type": "code",
   "execution_count": null,
   "id": "ba2990de",
   "metadata": {
    "ExecuteTime": {
     "end_time": "2023-09-07T08:22:11.931054Z",
     "start_time": "2023-09-07T08:22:11.915513Z"
    }
   },
   "outputs": [],
   "source": [
    "mask =  ((df['Millisecond']>= 650)|(df['Millisecond'] <= 550)) "
   ]
  },
  {
   "cell_type": "markdown",
   "id": "4c83b216",
   "metadata": {},
   "source": [
    "## outlier 추출"
   ]
  },
  {
   "cell_type": "code",
   "execution_count": null,
   "id": "3674f922",
   "metadata": {
    "ExecuteTime": {
     "end_time": "2023-09-07T08:22:30.110649Z",
     "start_time": "2023-09-07T08:22:30.101646Z"
    }
   },
   "outputs": [],
   "source": [
    "df_outlier = df[mask]"
   ]
  },
  {
   "cell_type": "code",
   "execution_count": null,
   "id": "dd9924a4",
   "metadata": {
    "ExecuteTime": {
     "end_time": "2023-09-07T08:22:31.154703Z",
     "start_time": "2023-09-07T08:22:31.137565Z"
    }
   },
   "outputs": [],
   "source": [
    "df_outlier"
   ]
  },
  {
   "cell_type": "markdown",
   "id": "ceed284a",
   "metadata": {},
   "source": [
    "## Filtered 추출"
   ]
  },
  {
   "cell_type": "code",
   "execution_count": null,
   "id": "2d75d7ea",
   "metadata": {
    "ExecuteTime": {
     "end_time": "2023-09-07T08:22:50.963290Z",
     "start_time": "2023-09-07T08:22:50.960289Z"
    }
   },
   "outputs": [],
   "source": [
    "df_filtered = df[~mask]"
   ]
  },
  {
   "cell_type": "code",
   "execution_count": null,
   "id": "e70f0a5f",
   "metadata": {
    "ExecuteTime": {
     "end_time": "2023-09-07T08:22:55.582601Z",
     "start_time": "2023-09-07T08:22:55.565312Z"
    }
   },
   "outputs": [],
   "source": [
    "df_filtered"
   ]
  },
  {
   "cell_type": "markdown",
   "id": "80abee44",
   "metadata": {},
   "source": [
    "## Masking된 것 만 visualization"
   ]
  },
  {
   "cell_type": "code",
   "execution_count": null,
   "id": "5e359d2a",
   "metadata": {
    "ExecuteTime": {
     "end_time": "2023-09-07T08:23:08.300249Z",
     "start_time": "2023-09-07T08:23:07.619599Z"
    },
    "scrolled": false
   },
   "outputs": [],
   "source": [
    "fig, ax = plt.subplots(figsize=(18,20))\n",
    "\n",
    "for i in range(len(df_filtered.columns)):\n",
    "    plt.subplot(len(df_filtered.columns), 1, i+1)\n",
    "    plt.subplots_adjust(hspace=0.4)\n",
    "    name = df_filtered.columns[i]\n",
    "    r=random.random()\n",
    "    g=random.random()\n",
    "    b=random.random()\n",
    "    color=(r,g,b)\n",
    "    plt.plot(df_filtered[name])    \n",
    "    plt.plot(df_filtered[name], color=color)    \n",
    "    plt.title(name, loc = 'left', pad=15, fontsize=13, fontweight=\"bold\")      \n",
    "    plt.yticks(fontsize=13)    \n",
    "    plt.xticks(fontsize=13)                \n",
    "#     plt.xlim(pd.Timestamp('2022-04-20 00:00:00'), pd.Timestamp('2023-05-31 00:00:00'))    \n",
    "    plt.grid(True)\n",
    "plt.show()\n",
    "fig.tight_layout()\n"
   ]
  },
  {
   "cell_type": "markdown",
   "id": "4e41aad2",
   "metadata": {},
   "source": [
    "## Outlier visulaization"
   ]
  },
  {
   "cell_type": "code",
   "execution_count": null,
   "id": "4ba4e38d",
   "metadata": {
    "ExecuteTime": {
     "end_time": "2023-08-21T10:54:11.946408Z",
     "start_time": "2023-08-21T10:54:11.713132Z"
    }
   },
   "outputs": [],
   "source": [
    "fig, ax = plt.subplots(figsize=(18,10))\n",
    "\n",
    "for i in range(len(df_outlier.columns)):\n",
    "    plt.subplot(len(df_outlier.columns), 1, i+1)\n",
    "    plt.subplots_adjust(hspace=0.4)\n",
    "    name = df_outlier.columns[i]\n",
    "    r=random.random()\n",
    "    g=random.random()\n",
    "    b=random.random()\n",
    "    color=(r,g,b)\n",
    "    plt.plot(df_outlier[name])    \n",
    "    plt.plot(df_outlier[name], color=color)    \n",
    "    plt.title(name, loc = 'left', pad=15, fontsize=13, fontweight=\"bold\")      \n",
    "    plt.yticks(fontsize=13)    \n",
    "    plt.xticks(fontsize=13)                \n",
    "#     plt.xlim(pd.Timestamp('2022-04-20 00:00:00'), pd.Timestamp('2023-05-31 00:00:00'))    \n",
    "    plt.grid(True)\n",
    "plt.show()\n",
    "fig.tight_layout()\n"
   ]
  },
  {
   "cell_type": "markdown",
   "id": "0974c095",
   "metadata": {},
   "source": [
    "# Resampling"
   ]
  },
  {
   "cell_type": "markdown",
   "id": "1b8001cd",
   "metadata": {},
   "source": [
    "## 5분단위 평균"
   ]
  },
  {
   "cell_type": "code",
   "execution_count": null,
   "id": "b5d7a570",
   "metadata": {
    "ExecuteTime": {
     "end_time": "2023-09-07T08:29:04.999441Z",
     "start_time": "2023-09-07T08:29:04.986452Z"
    }
   },
   "outputs": [],
   "source": [
    "df = df_filtered"
   ]
  },
  {
   "cell_type": "code",
   "execution_count": null,
   "id": "b4bc7963",
   "metadata": {
    "ExecuteTime": {
     "end_time": "2023-09-07T08:29:06.051878Z",
     "start_time": "2023-09-07T08:29:06.038378Z"
    }
   },
   "outputs": [],
   "source": [
    "df"
   ]
  },
  {
   "cell_type": "code",
   "execution_count": null,
   "id": "8419a608",
   "metadata": {
    "ExecuteTime": {
     "end_time": "2023-09-07T08:35:56.578863Z",
     "start_time": "2023-09-07T08:35:56.565864Z"
    }
   },
   "outputs": [],
   "source": [
    "df = df[['Power']]"
   ]
  },
  {
   "cell_type": "markdown",
   "id": "66be0561",
   "metadata": {},
   "source": [
    "## 하루단위 전력량으로 환산"
   ]
  },
  {
   "cell_type": "code",
   "execution_count": null,
   "id": "b475e598",
   "metadata": {
    "ExecuteTime": {
     "end_time": "2023-09-07T08:36:22.079557Z",
     "start_time": "2023-09-07T08:36:22.068558Z"
    }
   },
   "outputs": [],
   "source": [
    "df = df.resample('1d').sum()/12"
   ]
  },
  {
   "cell_type": "code",
   "execution_count": null,
   "id": "b1aad5c6",
   "metadata": {
    "ExecuteTime": {
     "end_time": "2023-09-07T08:36:23.402993Z",
     "start_time": "2023-09-07T08:36:23.392009Z"
    }
   },
   "outputs": [],
   "source": [
    "df"
   ]
  },
  {
   "cell_type": "code",
   "execution_count": null,
   "id": "6a34c8ce",
   "metadata": {},
   "outputs": [],
   "source": []
  },
  {
   "cell_type": "code",
   "execution_count": null,
   "id": "0ed5eff3",
   "metadata": {},
   "outputs": [],
   "source": []
  },
  {
   "cell_type": "code",
   "execution_count": null,
   "id": "be8e9b11",
   "metadata": {
    "ExecuteTime": {
     "end_time": "2023-09-07T08:26:07.933594Z",
     "start_time": "2023-09-07T08:26:07.924597Z"
    }
   },
   "outputs": [],
   "source": [
    "df2"
   ]
  },
  {
   "cell_type": "code",
   "execution_count": null,
   "id": "4c0fe959",
   "metadata": {
    "ExecuteTime": {
     "end_time": "2023-08-21T10:58:22.829138Z",
     "start_time": "2023-08-21T10:58:22.817337Z"
    }
   },
   "outputs": [],
   "source": [
    "df3 = df2.interpolate(method='linear')"
   ]
  },
  {
   "cell_type": "code",
   "execution_count": null,
   "id": "7b0f48f5",
   "metadata": {
    "ExecuteTime": {
     "end_time": "2023-09-07T08:26:33.899434Z",
     "start_time": "2023-09-07T08:26:33.887193Z"
    }
   },
   "outputs": [],
   "source": [
    "df=df2"
   ]
  },
  {
   "cell_type": "code",
   "execution_count": null,
   "id": "1d9495bd",
   "metadata": {
    "ExecuteTime": {
     "end_time": "2023-09-07T08:38:20.716453Z",
     "start_time": "2023-09-07T08:38:20.575631Z"
    },
    "scrolled": false
   },
   "outputs": [],
   "source": [
    "fig, ax = plt.subplots(figsize=(18,5))\n",
    "\n",
    "for i in range(len(df.columns)):\n",
    "    plt.subplot(len(df.columns), 1, i+1)\n",
    "    plt.subplots_adjust(hspace=0.4)\n",
    "    name = df.columns[i]\n",
    "    r=random.random()\n",
    "    g=random.random()\n",
    "    b=random.random()\n",
    "    color=(r,g,b)\n",
    "#     plt.plot(df[name])    \n",
    "#     plt.plot(df[name], color=color)    \n",
    "    plt.bar(df.index, df[name], color=color, width=0.4)    \n",
    "    plt.title(name, loc = 'left', pad=15, fontsize=13, fontweight=\"bold\")      \n",
    "    plt.yticks(fontsize=13)    \n",
    "    plt.xticks(fontsize=13)                \n",
    "#     plt.xlim(pd.Timestamp('2023-07-05 00:00:00'), pd.Timestamp('2023-07-06 00:00:00'))    \n",
    "    plt.grid(True)\n",
    "plt.show()\n",
    "fig.tight_layout()\n"
   ]
  },
  {
   "cell_type": "markdown",
   "id": "6722a5fe",
   "metadata": {},
   "source": [
    "# Power가 0인값 초과인 경우만 추출"
   ]
  },
  {
   "cell_type": "code",
   "execution_count": null,
   "id": "11edafa7",
   "metadata": {
    "ExecuteTime": {
     "end_time": "2023-08-21T11:15:37.246266Z",
     "start_time": "2023-08-21T11:15:37.235759Z"
    }
   },
   "outputs": [],
   "source": [
    "df"
   ]
  },
  {
   "cell_type": "code",
   "execution_count": null,
   "id": "0e3b9c33",
   "metadata": {
    "ExecuteTime": {
     "end_time": "2023-08-21T11:15:39.341804Z",
     "start_time": "2023-08-21T11:15:39.324053Z"
    }
   },
   "outputs": [],
   "source": [
    "mask =  (df['Power']> 0)"
   ]
  },
  {
   "cell_type": "code",
   "execution_count": null,
   "id": "c573faf6",
   "metadata": {
    "ExecuteTime": {
     "end_time": "2023-08-21T11:15:40.105080Z",
     "start_time": "2023-08-21T11:15:40.089077Z"
    }
   },
   "outputs": [],
   "source": [
    "df_filtered = df[mask]"
   ]
  },
  {
   "cell_type": "code",
   "execution_count": null,
   "id": "c2561010",
   "metadata": {
    "ExecuteTime": {
     "end_time": "2023-08-21T11:15:41.298972Z",
     "start_time": "2023-08-21T11:15:41.284969Z"
    }
   },
   "outputs": [],
   "source": [
    "df=df_filtered"
   ]
  },
  {
   "cell_type": "code",
   "execution_count": null,
   "id": "74cf50c9",
   "metadata": {
    "ExecuteTime": {
     "end_time": "2023-08-21T11:15:42.429951Z",
     "start_time": "2023-08-21T11:15:42.416957Z"
    }
   },
   "outputs": [],
   "source": [
    "df"
   ]
  },
  {
   "cell_type": "code",
   "execution_count": null,
   "id": "9c2cf462",
   "metadata": {
    "ExecuteTime": {
     "end_time": "2023-08-21T11:16:04.174269Z",
     "start_time": "2023-08-21T11:16:03.923091Z"
    }
   },
   "outputs": [],
   "source": [
    "fig, ax = plt.subplots(figsize=(18,10))\n",
    "\n",
    "for i in range(len(df.columns)):\n",
    "    plt.subplot(len(df.columns), 1, i+1)\n",
    "    plt.subplots_adjust(hspace=0.4)\n",
    "    name = df.columns[i]\n",
    "    r=random.random()\n",
    "    g=random.random()\n",
    "    b=random.random()\n",
    "    color=(r,g,b)\n",
    "    plt.plot(df[name])    \n",
    "    plt.plot(df[name], color=color)    \n",
    "    plt.title(name, loc = 'left', pad=15, fontsize=13, fontweight=\"bold\")      \n",
    "    plt.yticks(fontsize=13)    \n",
    "    plt.xticks(fontsize=13)                \n",
    "#     plt.xlim(pd.Timestamp('2022-04-20 00:00:00'), pd.Timestamp('2023-05-31 00:00:00'))    \n",
    "    plt.grid(True)\n",
    "plt.show()\n",
    "fig.tight_layout()\n"
   ]
  },
  {
   "cell_type": "code",
   "execution_count": null,
   "id": "ebf8bf24",
   "metadata": {
    "ExecuteTime": {
     "end_time": "2023-08-21T11:16:42.423931Z",
     "start_time": "2023-08-21T11:16:42.173685Z"
    }
   },
   "outputs": [],
   "source": [
    "fig, ax = plt.subplots(figsize=(18,10))\n",
    "\n",
    "for i in range(len(df.columns)):\n",
    "    plt.subplot(len(df.columns), 1, i+1)\n",
    "    plt.subplots_adjust(hspace=0.4)\n",
    "    name = df.columns[i]\n",
    "    r=random.random()\n",
    "    g=random.random()\n",
    "    b=random.random()\n",
    "    color=(r,g,b)\n",
    "    plt.scatter(df.index, df[name])    \n",
    "    plt.scatter(df.index, df[name], color=color)    \n",
    "    plt.title(name, loc = 'left', pad=15, fontsize=13, fontweight=\"bold\")      \n",
    "    plt.yticks(fontsize=13)    \n",
    "    plt.xticks(fontsize=13)                \n",
    "#     plt.xlim(pd.Timestamp('2022-04-20 00:00:00'), pd.Timestamp('2023-05-31 00:00:00'))    \n",
    "    plt.grid(True)\n",
    "plt.show()\n",
    "fig.tight_layout()\n"
   ]
  },
  {
   "cell_type": "markdown",
   "id": "18280112",
   "metadata": {},
   "source": [
    "## 5분단위 평균"
   ]
  },
  {
   "cell_type": "code",
   "execution_count": null,
   "id": "b8be444d",
   "metadata": {
    "ExecuteTime": {
     "end_time": "2023-08-21T11:17:23.052072Z",
     "start_time": "2023-08-21T11:17:23.020432Z"
    }
   },
   "outputs": [],
   "source": [
    "df = df.resample('5T').mean()"
   ]
  },
  {
   "cell_type": "code",
   "execution_count": null,
   "id": "18997bd5",
   "metadata": {
    "ExecuteTime": {
     "end_time": "2023-08-21T11:17:27.808593Z",
     "start_time": "2023-08-21T11:17:27.801294Z"
    }
   },
   "outputs": [],
   "source": [
    "df"
   ]
  },
  {
   "cell_type": "code",
   "execution_count": null,
   "id": "3e2dfa8e",
   "metadata": {
    "ExecuteTime": {
     "end_time": "2023-08-21T11:18:12.833842Z",
     "start_time": "2023-08-21T11:18:12.459574Z"
    }
   },
   "outputs": [],
   "source": [
    "fig, ax = plt.subplots(figsize=(18,10))\n",
    "\n",
    "for i in range(len(df.columns)):\n",
    "    plt.subplot(len(df.columns), 1, i+1)\n",
    "    plt.subplots_adjust(hspace=0.4)\n",
    "    name = df.columns[i]\n",
    "    r=random.random()\n",
    "    g=random.random()\n",
    "    b=random.random()\n",
    "    color=(r,g,b)\n",
    "    plt.scatter(df.index, df[name])    \n",
    "    plt.scatter(df.index, df[name], color=color)    \n",
    "    plt.title(name, loc = 'left', pad=15, fontsize=13, fontweight=\"bold\")      \n",
    "    plt.yticks(fontsize=13)    \n",
    "    plt.xticks(fontsize=13)                \n",
    "#     plt.xlim(pd.Timestamp('2022-04-20 00:00:00'), pd.Timestamp('2023-05-31 00:00:00'))    \n",
    "    plt.grid(True)\n",
    "plt.show()\n",
    "fig.tight_layout()\n"
   ]
  },
  {
   "cell_type": "markdown",
   "id": "4b99d885",
   "metadata": {},
   "source": [
    "## CSV 파일로 저장 "
   ]
  },
  {
   "cell_type": "code",
   "execution_count": null,
   "id": "75b2efee",
   "metadata": {
    "ExecuteTime": {
     "end_time": "2023-08-21T11:19:21.568649Z",
     "start_time": "2023-08-21T11:19:21.549175Z"
    }
   },
   "outputs": [],
   "source": [
    "df.to_csv('./treated_data/230821_Power_5min_average.csv')"
   ]
  },
  {
   "cell_type": "markdown",
   "id": "c4b61300",
   "metadata": {},
   "source": [
    "# PV데이터 로딩"
   ]
  },
  {
   "cell_type": "code",
   "execution_count": 2,
   "id": "765d966b",
   "metadata": {
    "ExecuteTime": {
     "end_time": "2023-09-07T09:13:02.719089Z",
     "start_time": "2023-09-07T09:13:02.612503Z"
    }
   },
   "outputs": [
    {
     "name": "stdout",
     "output_type": "stream",
     "text": [
      "./raw_data/pv\\06240000.CSV (7, 29)\n",
      "./raw_data/pv\\06240400.CSV (32, 29)\n",
      "./raw_data/pv\\06290000.CSV (35, 29)\n",
      "./raw_data/pv\\06290100.CSV (38, 29)\n",
      "./raw_data/pv\\06290200.CSV (109, 29)\n",
      "./raw_data/pv\\06300000.CSV (399, 29)\n",
      "./raw_data/pv\\07010000.CSV (605, 29)\n",
      "./raw_data/pv\\07010100.CSV (611, 55)\n",
      "./raw_data/pv\\07010200.CSV (614, 55)\n",
      "./raw_data/pv\\07010300.CSV (619, 55)\n",
      "./raw_data/pv\\07010400.CSV (3073, 55)\n",
      "./raw_data/pv\\07030000.CSV (4771, 55)\n",
      "./raw_data/pv\\07030001.CSV (5771, 55)\n",
      "./raw_data/pv\\07120000.CSV (5974, 55)\n",
      "./raw_data/pv\\07120001.CSV (13166, 55)\n",
      "./raw_data/pv\\08070000.CSV (17840, 55)\n",
      "./raw_data/pv\\08070001.CSV (17847, 55)\n"
     ]
    },
    {
     "data": {
      "text/html": [
       "<div>\n",
       "<style scoped>\n",
       "    .dataframe tbody tr th:only-of-type {\n",
       "        vertical-align: middle;\n",
       "    }\n",
       "\n",
       "    .dataframe tbody tr th {\n",
       "        vertical-align: top;\n",
       "    }\n",
       "\n",
       "    .dataframe thead th {\n",
       "        text-align: right;\n",
       "    }\n",
       "</style>\n",
       "<table border=\"1\" class=\"dataframe\">\n",
       "  <thead>\n",
       "    <tr style=\"text-align: right;\">\n",
       "      <th></th>\n",
       "      <th>Date</th>\n",
       "      <th>Etime</th>\n",
       "      <th>Status</th>\n",
       "      <th>Freq_Avg[Hz]</th>\n",
       "      <th>U1_Avg[V]</th>\n",
       "      <th>Ufnd1_Avg[V]</th>\n",
       "      <th>Udeg1_Avg[deg]</th>\n",
       "      <th>I1_Avg[A]</th>\n",
       "      <th>Ifnd1_Avg[A]</th>\n",
       "      <th>Ideg1_Avg[deg]</th>\n",
       "      <th>...</th>\n",
       "      <th>Upeak1_Min[V]</th>\n",
       "      <th>Udeg1_Min[deg]</th>\n",
       "      <th>I1_Min[A]</th>\n",
       "      <th>Ifnd1_Min[A]</th>\n",
       "      <th>Ipeak1_Min[A]</th>\n",
       "      <th>Ideg1_Min[deg]</th>\n",
       "      <th>P1_Min[W]</th>\n",
       "      <th>S1_Min[VA]</th>\n",
       "      <th>Q1_Min[var]</th>\n",
       "      <th>PF1_Min</th>\n",
       "    </tr>\n",
       "  </thead>\n",
       "  <tbody>\n",
       "    <tr>\n",
       "      <th>0</th>\n",
       "      <td>2023-06-24 12:40:00</td>\n",
       "      <td>NaN</td>\n",
       "      <td>NaN</td>\n",
       "      <td>NaN</td>\n",
       "      <td>NaN</td>\n",
       "      <td>NaN</td>\n",
       "      <td>NaN</td>\n",
       "      <td>NaN</td>\n",
       "      <td>NaN</td>\n",
       "      <td>NaN</td>\n",
       "      <td>...</td>\n",
       "      <td>NaN</td>\n",
       "      <td>NaN</td>\n",
       "      <td>NaN</td>\n",
       "      <td>NaN</td>\n",
       "      <td>NaN</td>\n",
       "      <td>NaN</td>\n",
       "      <td>NaN</td>\n",
       "      <td>NaN</td>\n",
       "      <td>NaN</td>\n",
       "      <td>NaN</td>\n",
       "    </tr>\n",
       "    <tr>\n",
       "      <th>1</th>\n",
       "      <td>2023-06-24 12:45:00</td>\n",
       "      <td>0000:05:00</td>\n",
       "      <td>0.0</td>\n",
       "      <td>60.034</td>\n",
       "      <td>218.87</td>\n",
       "      <td>218.81</td>\n",
       "      <td>0.0</td>\n",
       "      <td>3.49</td>\n",
       "      <td>3.48</td>\n",
       "      <td>10.29</td>\n",
       "      <td>...</td>\n",
       "      <td>NaN</td>\n",
       "      <td>NaN</td>\n",
       "      <td>NaN</td>\n",
       "      <td>NaN</td>\n",
       "      <td>NaN</td>\n",
       "      <td>NaN</td>\n",
       "      <td>NaN</td>\n",
       "      <td>NaN</td>\n",
       "      <td>NaN</td>\n",
       "      <td>NaN</td>\n",
       "    </tr>\n",
       "    <tr>\n",
       "      <th>2</th>\n",
       "      <td>2023-06-24 12:50:00</td>\n",
       "      <td>0000:10:00</td>\n",
       "      <td>0.0</td>\n",
       "      <td>60.033</td>\n",
       "      <td>218.96</td>\n",
       "      <td>218.90</td>\n",
       "      <td>0.0</td>\n",
       "      <td>3.49</td>\n",
       "      <td>3.48</td>\n",
       "      <td>10.29</td>\n",
       "      <td>...</td>\n",
       "      <td>NaN</td>\n",
       "      <td>NaN</td>\n",
       "      <td>NaN</td>\n",
       "      <td>NaN</td>\n",
       "      <td>NaN</td>\n",
       "      <td>NaN</td>\n",
       "      <td>NaN</td>\n",
       "      <td>NaN</td>\n",
       "      <td>NaN</td>\n",
       "      <td>NaN</td>\n",
       "    </tr>\n",
       "    <tr>\n",
       "      <th>3</th>\n",
       "      <td>2023-06-24 12:55:00</td>\n",
       "      <td>0000:15:00</td>\n",
       "      <td>0.0</td>\n",
       "      <td>60.008</td>\n",
       "      <td>219.03</td>\n",
       "      <td>218.96</td>\n",
       "      <td>0.0</td>\n",
       "      <td>3.49</td>\n",
       "      <td>3.48</td>\n",
       "      <td>10.29</td>\n",
       "      <td>...</td>\n",
       "      <td>NaN</td>\n",
       "      <td>NaN</td>\n",
       "      <td>NaN</td>\n",
       "      <td>NaN</td>\n",
       "      <td>NaN</td>\n",
       "      <td>NaN</td>\n",
       "      <td>NaN</td>\n",
       "      <td>NaN</td>\n",
       "      <td>NaN</td>\n",
       "      <td>NaN</td>\n",
       "    </tr>\n",
       "    <tr>\n",
       "      <th>4</th>\n",
       "      <td>2023-06-24 13:00:00</td>\n",
       "      <td>0000:20:00</td>\n",
       "      <td>0.0</td>\n",
       "      <td>60.003</td>\n",
       "      <td>218.54</td>\n",
       "      <td>218.49</td>\n",
       "      <td>0.0</td>\n",
       "      <td>3.49</td>\n",
       "      <td>3.49</td>\n",
       "      <td>10.24</td>\n",
       "      <td>...</td>\n",
       "      <td>NaN</td>\n",
       "      <td>NaN</td>\n",
       "      <td>NaN</td>\n",
       "      <td>NaN</td>\n",
       "      <td>NaN</td>\n",
       "      <td>NaN</td>\n",
       "      <td>NaN</td>\n",
       "      <td>NaN</td>\n",
       "      <td>NaN</td>\n",
       "      <td>NaN</td>\n",
       "    </tr>\n",
       "    <tr>\n",
       "      <th>...</th>\n",
       "      <td>...</td>\n",
       "      <td>...</td>\n",
       "      <td>...</td>\n",
       "      <td>...</td>\n",
       "      <td>...</td>\n",
       "      <td>...</td>\n",
       "      <td>...</td>\n",
       "      <td>...</td>\n",
       "      <td>...</td>\n",
       "      <td>...</td>\n",
       "      <td>...</td>\n",
       "      <td>...</td>\n",
       "      <td>...</td>\n",
       "      <td>...</td>\n",
       "      <td>...</td>\n",
       "      <td>...</td>\n",
       "      <td>...</td>\n",
       "      <td>...</td>\n",
       "      <td>...</td>\n",
       "      <td>...</td>\n",
       "      <td>...</td>\n",
       "    </tr>\n",
       "    <tr>\n",
       "      <th>2</th>\n",
       "      <td>2023-08-23 15:20:00</td>\n",
       "      <td>0389:40:00</td>\n",
       "      <td>0.0</td>\n",
       "      <td>50.108</td>\n",
       "      <td>212.80</td>\n",
       "      <td>212.60</td>\n",
       "      <td>0.0</td>\n",
       "      <td>3.55</td>\n",
       "      <td>3.33</td>\n",
       "      <td>-3.50</td>\n",
       "      <td>...</td>\n",
       "      <td>NaN</td>\n",
       "      <td>NaN</td>\n",
       "      <td>NaN</td>\n",
       "      <td>NaN</td>\n",
       "      <td>NaN</td>\n",
       "      <td>NaN</td>\n",
       "      <td>NaN</td>\n",
       "      <td>NaN</td>\n",
       "      <td>NaN</td>\n",
       "      <td>NaN</td>\n",
       "    </tr>\n",
       "    <tr>\n",
       "      <th>3</th>\n",
       "      <td>2023-08-23 15:25:00</td>\n",
       "      <td>0389:45:00</td>\n",
       "      <td>0.0</td>\n",
       "      <td>50.119</td>\n",
       "      <td>213.62</td>\n",
       "      <td>213.44</td>\n",
       "      <td>0.0</td>\n",
       "      <td>9.37</td>\n",
       "      <td>9.35</td>\n",
       "      <td>-2.73</td>\n",
       "      <td>...</td>\n",
       "      <td>NaN</td>\n",
       "      <td>NaN</td>\n",
       "      <td>NaN</td>\n",
       "      <td>NaN</td>\n",
       "      <td>NaN</td>\n",
       "      <td>NaN</td>\n",
       "      <td>NaN</td>\n",
       "      <td>NaN</td>\n",
       "      <td>NaN</td>\n",
       "      <td>NaN</td>\n",
       "    </tr>\n",
       "    <tr>\n",
       "      <th>4</th>\n",
       "      <td>2023-08-23 15:30:00</td>\n",
       "      <td>0389:50:00</td>\n",
       "      <td>0.0</td>\n",
       "      <td>50.153</td>\n",
       "      <td>216.91</td>\n",
       "      <td>216.74</td>\n",
       "      <td>0.0</td>\n",
       "      <td>8.14</td>\n",
       "      <td>8.06</td>\n",
       "      <td>-2.86</td>\n",
       "      <td>...</td>\n",
       "      <td>NaN</td>\n",
       "      <td>NaN</td>\n",
       "      <td>NaN</td>\n",
       "      <td>NaN</td>\n",
       "      <td>NaN</td>\n",
       "      <td>NaN</td>\n",
       "      <td>NaN</td>\n",
       "      <td>NaN</td>\n",
       "      <td>NaN</td>\n",
       "      <td>NaN</td>\n",
       "    </tr>\n",
       "    <tr>\n",
       "      <th>5</th>\n",
       "      <td>2023-08-23 15:34:16</td>\n",
       "      <td>0389:54:16</td>\n",
       "      <td>0.0</td>\n",
       "      <td>50.212</td>\n",
       "      <td>215.20</td>\n",
       "      <td>215.03</td>\n",
       "      <td>0.0</td>\n",
       "      <td>8.23</td>\n",
       "      <td>8.21</td>\n",
       "      <td>-3.23</td>\n",
       "      <td>...</td>\n",
       "      <td>NaN</td>\n",
       "      <td>NaN</td>\n",
       "      <td>NaN</td>\n",
       "      <td>NaN</td>\n",
       "      <td>NaN</td>\n",
       "      <td>NaN</td>\n",
       "      <td>NaN</td>\n",
       "      <td>NaN</td>\n",
       "      <td>NaN</td>\n",
       "      <td>NaN</td>\n",
       "    </tr>\n",
       "    <tr>\n",
       "      <th>6</th>\n",
       "      <td>2023-08-23 15:34:16</td>\n",
       "      <td>STOP</td>\n",
       "      <td>NaN</td>\n",
       "      <td>NaN</td>\n",
       "      <td>NaN</td>\n",
       "      <td>NaN</td>\n",
       "      <td>NaN</td>\n",
       "      <td>NaN</td>\n",
       "      <td>NaN</td>\n",
       "      <td>NaN</td>\n",
       "      <td>...</td>\n",
       "      <td>NaN</td>\n",
       "      <td>NaN</td>\n",
       "      <td>NaN</td>\n",
       "      <td>NaN</td>\n",
       "      <td>NaN</td>\n",
       "      <td>NaN</td>\n",
       "      <td>NaN</td>\n",
       "      <td>NaN</td>\n",
       "      <td>NaN</td>\n",
       "      <td>NaN</td>\n",
       "    </tr>\n",
       "  </tbody>\n",
       "</table>\n",
       "<p>17847 rows × 55 columns</p>\n",
       "</div>"
      ],
      "text/plain": [
       "                   Date       Etime  Status  Freq_Avg[Hz]  U1_Avg[V]  \\\n",
       "0   2023-06-24 12:40:00         NaN     NaN           NaN        NaN   \n",
       "1   2023-06-24 12:45:00  0000:05:00     0.0        60.034     218.87   \n",
       "2   2023-06-24 12:50:00  0000:10:00     0.0        60.033     218.96   \n",
       "3   2023-06-24 12:55:00  0000:15:00     0.0        60.008     219.03   \n",
       "4   2023-06-24 13:00:00  0000:20:00     0.0        60.003     218.54   \n",
       "..                  ...         ...     ...           ...        ...   \n",
       "2   2023-08-23 15:20:00  0389:40:00     0.0        50.108     212.80   \n",
       "3   2023-08-23 15:25:00  0389:45:00     0.0        50.119     213.62   \n",
       "4   2023-08-23 15:30:00  0389:50:00     0.0        50.153     216.91   \n",
       "5   2023-08-23 15:34:16  0389:54:16     0.0        50.212     215.20   \n",
       "6   2023-08-23 15:34:16        STOP     NaN           NaN        NaN   \n",
       "\n",
       "    Ufnd1_Avg[V]  Udeg1_Avg[deg]  I1_Avg[A]  Ifnd1_Avg[A]  Ideg1_Avg[deg]  \\\n",
       "0            NaN             NaN        NaN           NaN             NaN   \n",
       "1         218.81             0.0       3.49          3.48           10.29   \n",
       "2         218.90             0.0       3.49          3.48           10.29   \n",
       "3         218.96             0.0       3.49          3.48           10.29   \n",
       "4         218.49             0.0       3.49          3.49           10.24   \n",
       "..           ...             ...        ...           ...             ...   \n",
       "2         212.60             0.0       3.55          3.33           -3.50   \n",
       "3         213.44             0.0       9.37          9.35           -2.73   \n",
       "4         216.74             0.0       8.14          8.06           -2.86   \n",
       "5         215.03             0.0       8.23          8.21           -3.23   \n",
       "6            NaN             NaN        NaN           NaN             NaN   \n",
       "\n",
       "    ...  Upeak1_Min[V]  Udeg1_Min[deg]  I1_Min[A]  Ifnd1_Min[A]  \\\n",
       "0   ...            NaN             NaN        NaN           NaN   \n",
       "1   ...            NaN             NaN        NaN           NaN   \n",
       "2   ...            NaN             NaN        NaN           NaN   \n",
       "3   ...            NaN             NaN        NaN           NaN   \n",
       "4   ...            NaN             NaN        NaN           NaN   \n",
       "..  ...            ...             ...        ...           ...   \n",
       "2   ...            NaN             NaN        NaN           NaN   \n",
       "3   ...            NaN             NaN        NaN           NaN   \n",
       "4   ...            NaN             NaN        NaN           NaN   \n",
       "5   ...            NaN             NaN        NaN           NaN   \n",
       "6   ...            NaN             NaN        NaN           NaN   \n",
       "\n",
       "    Ipeak1_Min[A]  Ideg1_Min[deg]  P1_Min[W]  S1_Min[VA]  Q1_Min[var]  PF1_Min  \n",
       "0             NaN             NaN        NaN         NaN          NaN      NaN  \n",
       "1             NaN             NaN        NaN         NaN          NaN      NaN  \n",
       "2             NaN             NaN        NaN         NaN          NaN      NaN  \n",
       "3             NaN             NaN        NaN         NaN          NaN      NaN  \n",
       "4             NaN             NaN        NaN         NaN          NaN      NaN  \n",
       "..            ...             ...        ...         ...          ...      ...  \n",
       "2             NaN             NaN        NaN         NaN          NaN      NaN  \n",
       "3             NaN             NaN        NaN         NaN          NaN      NaN  \n",
       "4             NaN             NaN        NaN         NaN          NaN      NaN  \n",
       "5             NaN             NaN        NaN         NaN          NaN      NaN  \n",
       "6             NaN             NaN        NaN         NaN          NaN      NaN  \n",
       "\n",
       "[17847 rows x 55 columns]"
      ]
     },
     "execution_count": 2,
     "metadata": {},
     "output_type": "execute_result"
    }
   ],
   "source": [
    "files = glob.glob('./raw_data/pv/*.csv')\n",
    "\n",
    "all_data = pd.DataFrame()\n",
    "\n",
    "for f in files:\n",
    "    data = pd.read_csv(f, header=15)  # 데이터를 판다스로 리드      \n",
    "    df = pd.DataFrame(data)    # 데이터프레임을 불러온 데이터로 선언\n",
    "    all_data = pd.concat([all_data, df]) # 위에까지 진행된 내용에 아래를 concat \n",
    "    print(f, all_data.shape)\n",
    "all_data\n"
   ]
  },
  {
   "cell_type": "code",
   "execution_count": null,
   "id": "0d5f5506",
   "metadata": {},
   "outputs": [],
   "source": []
  },
  {
   "cell_type": "code",
   "execution_count": null,
   "id": "6eded87a",
   "metadata": {},
   "outputs": [],
   "source": []
  },
  {
   "cell_type": "code",
   "execution_count": null,
   "id": "668159fa",
   "metadata": {},
   "outputs": [],
   "source": []
  },
  {
   "cell_type": "code",
   "execution_count": null,
   "id": "c189aae0",
   "metadata": {},
   "outputs": [],
   "source": []
  },
  {
   "cell_type": "code",
   "execution_count": null,
   "id": "9fef8e06",
   "metadata": {},
   "outputs": [],
   "source": []
  },
  {
   "cell_type": "code",
   "execution_count": null,
   "id": "fde76de7",
   "metadata": {},
   "outputs": [],
   "source": []
  },
  {
   "cell_type": "code",
   "execution_count": null,
   "id": "77b3e52e",
   "metadata": {},
   "outputs": [],
   "source": []
  },
  {
   "cell_type": "code",
   "execution_count": null,
   "id": "486a31d3",
   "metadata": {},
   "outputs": [],
   "source": []
  },
  {
   "cell_type": "code",
   "execution_count": null,
   "id": "e9ff383b",
   "metadata": {},
   "outputs": [],
   "source": []
  },
  {
   "cell_type": "code",
   "execution_count": null,
   "id": "cb5af47e",
   "metadata": {},
   "outputs": [],
   "source": []
  },
  {
   "cell_type": "code",
   "execution_count": null,
   "id": "e48b65e3",
   "metadata": {},
   "outputs": [],
   "source": []
  },
  {
   "cell_type": "code",
   "execution_count": null,
   "id": "86604cdf",
   "metadata": {},
   "outputs": [],
   "source": []
  },
  {
   "cell_type": "code",
   "execution_count": null,
   "id": "b089d128",
   "metadata": {},
   "outputs": [],
   "source": []
  },
  {
   "cell_type": "code",
   "execution_count": null,
   "id": "d770971a",
   "metadata": {},
   "outputs": [],
   "source": []
  },
  {
   "cell_type": "code",
   "execution_count": null,
   "id": "7777f53c",
   "metadata": {},
   "outputs": [],
   "source": []
  }
 ],
 "metadata": {
  "kernelspec": {
   "display_name": "Python 3.8 (pytorch)",
   "language": "python",
   "name": "pytorch"
  },
  "language_info": {
   "codemirror_mode": {
    "name": "ipython",
    "version": 3
   },
   "file_extension": ".py",
   "mimetype": "text/x-python",
   "name": "python",
   "nbconvert_exporter": "python",
   "pygments_lexer": "ipython3",
   "version": "3.8.16"
  },
  "toc": {
   "base_numbering": 1,
   "nav_menu": {},
   "number_sections": true,
   "sideBar": true,
   "skip_h1_title": false,
   "title_cell": "Table of Contents",
   "title_sidebar": "Contents",
   "toc_cell": false,
   "toc_position": {},
   "toc_section_display": true,
   "toc_window_display": false
  },
  "varInspector": {
   "cols": {
    "lenName": 16,
    "lenType": 16,
    "lenVar": 40
   },
   "kernels_config": {
    "python": {
     "delete_cmd_postfix": "",
     "delete_cmd_prefix": "del ",
     "library": "var_list.py",
     "varRefreshCmd": "print(var_dic_list())"
    },
    "r": {
     "delete_cmd_postfix": ") ",
     "delete_cmd_prefix": "rm(",
     "library": "var_list.r",
     "varRefreshCmd": "cat(var_dic_list()) "
    }
   },
   "types_to_exclude": [
    "module",
    "function",
    "builtin_function_or_method",
    "instance",
    "_Feature"
   ],
   "window_display": false
  }
 },
 "nbformat": 4,
 "nbformat_minor": 5
}
