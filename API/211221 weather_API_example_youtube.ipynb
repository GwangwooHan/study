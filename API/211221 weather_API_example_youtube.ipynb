{
 "cells": [
  {
   "cell_type": "markdown",
   "id": "1466a0e2",
   "metadata": {},
   "source": [
    "# 날씨 API\n",
    "- API (Application Programmin Interface) 의미 응용프로그래밍 접속자\n",
    "- 두 개의 프로그램 or 운영체제간 연결해주는 접속자"
   ]
  },
  {
   "cell_type": "code",
   "execution_count": 1,
   "id": "d340367c",
   "metadata": {
    "ExecuteTime": {
     "end_time": "2021-12-21T05:45:38.017406Z",
     "start_time": "2021-12-21T05:45:37.821929Z"
    }
   },
   "outputs": [],
   "source": [
    "import requests\n",
    "import json"
   ]
  },
  {
   "cell_type": "code",
   "execution_count": 2,
   "id": "ed18ea66",
   "metadata": {
    "ExecuteTime": {
     "end_time": "2021-12-21T05:49:11.056318Z",
     "start_time": "2021-12-21T05:49:10.646404Z"
    }
   },
   "outputs": [],
   "source": [
    "response = requests.get('http://api.weatherapi.com/v1/current.json?key=4d89f848a01d4863a6352737212112&q=Seoul&api=yes')"
   ]
  },
  {
   "cell_type": "code",
   "execution_count": 4,
   "id": "ffb29a74",
   "metadata": {
    "ExecuteTime": {
     "end_time": "2021-12-21T05:49:20.614465Z",
     "start_time": "2021-12-21T05:49:20.606486Z"
    }
   },
   "outputs": [
    {
     "name": "stdout",
     "output_type": "stream",
     "text": [
      "{\"location\":{\"name\":\"Seoul\",\"region\":\"\",\"country\":\"South Korea\",\"lat\":37.57,\"lon\":127.0,\"tz_id\":\"Asia/Seoul\",\"localtime_epoch\":1640065751,\"localtime\":\"2021-12-21 14:49\"},\"current\":{\"last_updated_epoch\":1640064600,\"last_updated\":\"2021-12-21 14:30\",\"temp_c\":9.0,\"temp_f\":48.2,\"is_day\":1,\"condition\":{\"text\":\"Sunny\",\"icon\":\"//cdn.weatherapi.com/weather/64x64/day/113.png\",\"code\":1000},\"wind_mph\":11.9,\"wind_kph\":19.1,\"wind_degree\":320,\"wind_dir\":\"NW\",\"pressure_mb\":1016.0,\"pressure_in\":30.0,\"precip_mm\":0.0,\"precip_in\":0.0,\"humidity\":43,\"cloud\":0,\"feelslike_c\":7.2,\"feelslike_f\":44.9,\"vis_km\":10.0,\"vis_miles\":6.0,\"uv\":4.0,\"gust_mph\":8.3,\"gust_kph\":13.3}}\n"
     ]
    }
   ],
   "source": [
    "print(response.text)"
   ]
  },
  {
   "cell_type": "markdown",
   "id": "587bea35",
   "metadata": {},
   "source": [
    "# JSON  (key, value) 객체로 변환"
   ]
  },
  {
   "cell_type": "code",
   "execution_count": 11,
   "id": "2052f6d2",
   "metadata": {
    "ExecuteTime": {
     "end_time": "2021-12-21T05:52:19.957612Z",
     "start_time": "2021-12-21T05:52:19.941654Z"
    }
   },
   "outputs": [
    {
     "name": "stdout",
     "output_type": "stream",
     "text": [
      "{\n",
      "    \"location\": {\n",
      "        \"name\": \"Seoul\",\n",
      "        \"region\": \"\",\n",
      "        \"country\": \"South Korea\",\n",
      "        \"lat\": 37.57,\n",
      "        \"lon\": 127.0,\n",
      "        \"tz_id\": \"Asia/Seoul\",\n",
      "        \"localtime_epoch\": 1640065751,\n",
      "        \"localtime\": \"2021-12-21 14:49\"\n",
      "    },\n",
      "    \"current\": {\n",
      "        \"last_updated_epoch\": 1640064600,\n",
      "        \"last_updated\": \"2021-12-21 14:30\",\n",
      "        \"temp_c\": 9.0,\n",
      "        \"temp_f\": 48.2,\n",
      "        \"is_day\": 1,\n",
      "        \"condition\": {\n",
      "            \"text\": \"Sunny\",\n",
      "            \"icon\": \"//cdn.weatherapi.com/weather/64x64/day/113.png\",\n",
      "            \"code\": 1000\n",
      "        },\n",
      "        \"wind_mph\": 11.9,\n",
      "        \"wind_kph\": 19.1,\n",
      "        \"wind_degree\": 320,\n",
      "        \"wind_dir\": \"NW\",\n",
      "        \"pressure_mb\": 1016.0,\n",
      "        \"pressure_in\": 30.0,\n",
      "        \"precip_mm\": 0.0,\n",
      "        \"precip_in\": 0.0,\n",
      "        \"humidity\": 43,\n",
      "        \"cloud\": 0,\n",
      "        \"feelslike_c\": 7.2,\n",
      "        \"feelslike_f\": 44.9,\n",
      "        \"vis_km\": 10.0,\n",
      "        \"vis_miles\": 6.0,\n",
      "        \"uv\": 4.0,\n",
      "        \"gust_mph\": 8.3,\n",
      "        \"gust_kph\": 13.3\n",
      "    }\n",
      "}\n"
     ]
    }
   ],
   "source": [
    "jsonObj = json.loads(response.text)\n",
    "print(json.dumps(jsonObj, indent = 4 )) # 포맷, 들여쓰기 (4칸 권장)"
   ]
  },
  {
   "cell_type": "code",
   "execution_count": 12,
   "id": "75f5d48e",
   "metadata": {
    "ExecuteTime": {
     "end_time": "2021-12-21T05:54:43.955279Z",
     "start_time": "2021-12-21T05:54:43.950293Z"
    }
   },
   "outputs": [
    {
     "name": "stdout",
     "output_type": "stream",
     "text": [
      "9.0 Sunny\n"
     ]
    }
   ],
   "source": [
    "print(jsonObj['current']['temp_c'], jsonObj['current']['condition']['text'])"
   ]
  },
  {
   "cell_type": "markdown",
   "id": "fd743ec3",
   "metadata": {},
   "source": [
    "# 사용자에게 도시선택하도록 하기 "
   ]
  },
  {
   "cell_type": "code",
   "execution_count": 24,
   "id": "f9666bd5",
   "metadata": {
    "ExecuteTime": {
     "end_time": "2021-12-21T06:07:35.622140Z",
     "start_time": "2021-12-21T06:07:34.733505Z"
    }
   },
   "outputs": [
    {
     "name": "stdout",
     "output_type": "stream",
     "text": [
      "\n",
      "1. Seoul\n",
      "2. Busan\n",
      "3. Pohang\n",
      "\n",
      "번호를 입력하세요:3\n",
      "Pohang 의 기온은 9.0 기상상태는 Sunny\n"
     ]
    }
   ],
   "source": [
    "info = '''\n",
    "1. Seoul\n",
    "2. Busan\n",
    "3. Pohang\n",
    "'''\n",
    "print(info)\n",
    "inputVal = input('번호를 입력하세요:')\n",
    "cityName = 'Seoul'\n",
    "if int(inputVal) == 2:\n",
    "    cityName = 'Busan'\n",
    "elif int(inputVal) == 3:\n",
    "    cityName = 'Pohang'\n",
    "else: \n",
    "    cityName = 'Seoul'\n",
    "    \n",
    "response = requests.get('http://api.weatherapi.com/v1/current.json?key=4d89f848a01d4863a6352737212112&q'\n",
    "                        + cityName +'&api=yes')\n",
    "print(cityName,'의 기온은', jsonObj['current']['temp_c'], '기상상태는', jsonObj['current']['condition']['text'])"
   ]
  },
  {
   "cell_type": "code",
   "execution_count": null,
   "id": "90feede1",
   "metadata": {},
   "outputs": [],
   "source": [
    "표준연\n",
    "TMY3 \n",
    "1시간간격 \n",
    "\n",
    "건구온도\n",
    "상대습도\n",
    "Type 16c physical phenomenon 수평면전일사량 (Total Horizontal radiation (kJ/hr))\n",
    "\n",
    "이슬점\n",
    "풍속 (보간)"
   ]
  },
  {
   "cell_type": "code",
   "execution_count": null,
   "id": "849515f2",
   "metadata": {},
   "outputs": [],
   "source": [
    "ssDNTQfOTX"
   ]
  },
  {
   "cell_type": "code",
   "execution_count": null,
   "id": "625cebcc",
   "metadata": {},
   "outputs": [],
   "source": []
  },
  {
   "cell_type": "code",
   "execution_count": null,
   "id": "f947c520",
   "metadata": {},
   "outputs": [],
   "source": []
  },
  {
   "cell_type": "code",
   "execution_count": null,
   "id": "a241682c",
   "metadata": {},
   "outputs": [],
   "source": []
  },
  {
   "cell_type": "code",
   "execution_count": null,
   "id": "a47f291c",
   "metadata": {},
   "outputs": [],
   "source": []
  },
  {
   "cell_type": "code",
   "execution_count": null,
   "id": "1d804a2e",
   "metadata": {},
   "outputs": [],
   "source": []
  },
  {
   "cell_type": "code",
   "execution_count": null,
   "id": "e675dd52",
   "metadata": {},
   "outputs": [],
   "source": []
  },
  {
   "cell_type": "code",
   "execution_count": null,
   "id": "63b52282",
   "metadata": {},
   "outputs": [],
   "source": []
  },
  {
   "cell_type": "code",
   "execution_count": null,
   "id": "6212e9e3",
   "metadata": {},
   "outputs": [],
   "source": []
  },
  {
   "cell_type": "code",
   "execution_count": null,
   "id": "8cec8257",
   "metadata": {},
   "outputs": [],
   "source": []
  },
  {
   "cell_type": "code",
   "execution_count": null,
   "id": "1896cdb1",
   "metadata": {},
   "outputs": [],
   "source": []
  },
  {
   "cell_type": "code",
   "execution_count": null,
   "id": "57f3002b",
   "metadata": {},
   "outputs": [],
   "source": []
  },
  {
   "cell_type": "code",
   "execution_count": null,
   "id": "f10af703",
   "metadata": {},
   "outputs": [],
   "source": []
  },
  {
   "cell_type": "code",
   "execution_count": null,
   "id": "2c009aee",
   "metadata": {},
   "outputs": [],
   "source": []
  },
  {
   "cell_type": "code",
   "execution_count": null,
   "id": "913903d2",
   "metadata": {},
   "outputs": [],
   "source": []
  }
 ],
 "metadata": {
  "kernelspec": {
   "display_name": "Python 3.7 (tensorflow)",
   "language": "python",
   "name": "tensorflow"
  },
  "language_info": {
   "codemirror_mode": {
    "name": "ipython",
    "version": 3
   },
   "file_extension": ".py",
   "mimetype": "text/x-python",
   "name": "python",
   "nbconvert_exporter": "python",
   "pygments_lexer": "ipython3",
   "version": "3.7.10"
  },
  "toc": {
   "base_numbering": 1,
   "nav_menu": {},
   "number_sections": true,
   "sideBar": true,
   "skip_h1_title": false,
   "title_cell": "Table of Contents",
   "title_sidebar": "Contents",
   "toc_cell": false,
   "toc_position": {},
   "toc_section_display": true,
   "toc_window_display": false
  },
  "varInspector": {
   "cols": {
    "lenName": 16,
    "lenType": 16,
    "lenVar": 40
   },
   "kernels_config": {
    "python": {
     "delete_cmd_postfix": "",
     "delete_cmd_prefix": "del ",
     "library": "var_list.py",
     "varRefreshCmd": "print(var_dic_list())"
    },
    "r": {
     "delete_cmd_postfix": ") ",
     "delete_cmd_prefix": "rm(",
     "library": "var_list.r",
     "varRefreshCmd": "cat(var_dic_list()) "
    }
   },
   "types_to_exclude": [
    "module",
    "function",
    "builtin_function_or_method",
    "instance",
    "_Feature"
   ],
   "window_display": false
  }
 },
 "nbformat": 4,
 "nbformat_minor": 5
}
