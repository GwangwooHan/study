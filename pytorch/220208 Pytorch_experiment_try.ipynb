{
 "cells": [
  {
   "cell_type": "markdown",
   "id": "d61ed924",
   "metadata": {},
   "source": [
    "# JSON 으로 저장 및 Hash 연습"
   ]
  },
  {
   "cell_type": "code",
   "execution_count": 2,
   "id": "895eb33b",
   "metadata": {
    "ExecuteTime": {
     "end_time": "2022-02-08T05:43:38.662182Z",
     "start_time": "2022-02-08T05:43:38.652208Z"
    }
   },
   "outputs": [
    {
     "name": "stdout",
     "output_type": "stream",
     "text": [
      "{'value1': 5, 'value2': 10, 'seq': [1, 2, 3, 4, 5]}\n"
     ]
    }
   ],
   "source": [
    "import json\n",
    "a = {'value1': 5, 'value2': 10, 'seq': [1,2,3,4,5]}\n",
    "\n",
    "filename = 'test.json' # test.json으로 파일 저장\n",
    "# with 쓰는이유: 안쓰면 열려있는 상태를 꺼줘야함. with 구문내에서만 실행 \n",
    "with open(filename, 'w') as f: # 'w': 쓰기모드 (읽기모드시에는 'r')\n",
    "    json.dump(a, f) # file f에 a의 데이터 덮어써라 \n",
    "\n",
    "with open(filename, 'r') as f:\n",
    "    result = json.load(f)\n",
    "    print(result)"
   ]
  },
  {
   "cell_type": "code",
   "execution_count": 3,
   "id": "168b894f",
   "metadata": {
    "ExecuteTime": {
     "end_time": "2022-02-08T05:43:39.051140Z",
     "start_time": "2022-02-08T05:43:39.043162Z"
    }
   },
   "outputs": [
    {
     "name": "stdout",
     "output_type": "stream",
     "text": [
      "exp1-4766aa.json\n"
     ]
    }
   ],
   "source": [
    "import hashlib\n",
    "setting = {'value1': 5, 'value2': 10, 'seq': [1,2,3,4,5], 'exp_name': 'exp1'}\n",
    "exp_name = setting['exp_name']\n",
    "hash_key = hashlib.sha1(str(setting).encode()).hexdigest()[:6] #sha1 알고리즘을 활용하여 hasy화, hexdigest활용하여 문자열을 행성\n",
    "filename = '{}-{}.json'.format(exp_name, hash_key)\n",
    "print(filename)"
   ]
  },
  {
   "cell_type": "markdown",
   "id": "f4cd840d",
   "metadata": {},
   "source": [
    "# Visualization 연습"
   ]
  },
  {
   "cell_type": "code",
   "execution_count": 5,
   "id": "472c8326",
   "metadata": {
    "ExecuteTime": {
     "end_time": "2022-02-08T05:46:21.890795Z",
     "start_time": "2022-02-08T05:46:21.651436Z"
    }
   },
   "outputs": [],
   "source": [
    "import pandas as pd\n",
    "a = [{'age': 5, 'gender': 'f', 'score':10, 't':1},\n",
    "     {'age': 6, 'gender': 'm', 'score':9, 't':2},\n",
    "     {'age': 10, 'gender': 'f', 'score':15, 't':2},\n",
    "     {'age': 8, 'gender': 'm', 'score':2, 't':2},\n",
    "     {'age': 3, 'gender': 'f', 'score':33, 't':2},\n",
    "     {'age': 3, 'gender': 'm', 'score':10, 't':2}]\n",
    "df = pd.DataFrame(a)"
   ]
  },
  {
   "cell_type": "code",
   "execution_count": 6,
   "id": "daea7bbc",
   "metadata": {
    "ExecuteTime": {
     "end_time": "2022-02-08T05:46:23.835590Z",
     "start_time": "2022-02-08T05:46:23.163389Z"
    }
   },
   "outputs": [
    {
     "data": {
      "text/plain": [
       "<AxesSubplot:xlabel='age', ylabel='score'>"
      ]
     },
     "execution_count": 6,
     "metadata": {},
     "output_type": "execute_result"
    },
    {
     "data": {
      "image/png": "[encoded data removed]",
      "text/plain": [
       "<Figure size 432x288 with 1 Axes>"
      ]
     },
     "metadata": {
      "needs_background": "light"
     },
     "output_type": "display_data"
    }
   ],
   "source": [
    "import seaborn as sns\n",
    "import matplotlib.pyplot as plt\n",
    "# sns.relplot(x='age', y='gender', data=df)\n",
    "sns.barplot(x='age', y='score', hue = 'gender', data=df) # hue: 범례 (계열)"
   ]
  },
  {
   "cell_type": "code",
   "execution_count": null,
   "id": "812e902b",
   "metadata": {},
   "outputs": [],
   "source": []
  }
 ],
 "metadata": {
  "kernelspec": {
   "display_name": "Python 3.7 (pytorch)",
   "language": "python",
   "name": "pytorch"
  },
  "language_info": {
   "codemirror_mode": {
    "name": "ipython",
    "version": 3
   },
   "file_extension": ".py",
   "mimetype": "text/x-python",
   "name": "python",
   "nbconvert_exporter": "python",
   "pygments_lexer": "ipython3",
   "version": "3.7.10"
  },
  "toc": {
   "base_numbering": 1,
   "nav_menu": {},
   "number_sections": true,
   "sideBar": true,
   "skip_h1_title": false,
   "title_cell": "Table of Contents",
   "title_sidebar": "Contents",
   "toc_cell": false,
   "toc_position": {},
   "toc_section_display": true,
   "toc_window_display": false
  },
  "varInspector": {
   "cols": {
    "lenName": 16,
    "lenType": 16,
    "lenVar": 40
   },
   "kernels_config": {
    "python": {
     "delete_cmd_postfix": "",
     "delete_cmd_prefix": "del ",
     "library": "var_list.py",
     "varRefreshCmd": "print(var_dic_list())"
    },
    "r": {
     "delete_cmd_postfix": ") ",
     "delete_cmd_prefix": "rm(",
     "library": "var_list.r",
     "varRefreshCmd": "cat(var_dic_list()) "
    }
   },
   "types_to_exclude": [
    "module",
    "function",
    "builtin_function_or_method",
    "instance",
    "_Feature"
   ],
   "window_display": false
  }
 },
 "nbformat": 4,
 "nbformat_minor": 5
}
