{
 "cells": [
  {
   "cell_type": "code",
   "execution_count": 1,
   "id": "7b2e5bc0",
   "metadata": {
    "ExecuteTime": {
     "end_time": "2022-02-09T11:39:25.443044Z",
     "start_time": "2022-02-09T11:39:23.933576Z"
    }
   },
   "outputs": [
    {
     "name": "stdout",
     "output_type": "stream",
     "text": [
      "1.7.1\n",
      "Populating the interactive namespace from numpy and matplotlib\n"
     ]
    }
   ],
   "source": [
    "import pandas as pd\n",
    "import pandas_datareader.data as pdr\n",
    "import datetime\n",
    "import torch\n",
    "import torch.nn as nn\n",
    "from torch.utils.data import Dataset, DataLoader\n",
    "import torch.optim as optim\n",
    "import numpy as np\n",
    "import argparse\n",
    "from copy import deepcopy # Add Deepcopy for args\n",
    "from sklearn.metrics import mean_absolute_error\n",
    "import ssl\n",
    "\n",
    "import seaborn as sns \n",
    "import matplotlib.pyplot as plt\n",
    "\n",
    "print(torch.__version__)\n",
    "%matplotlib inline\n",
    "%pylab inline\n",
    "pylab.rcParams['figure.figsize'] = (15, 9)"
   ]
  },
  {
   "cell_type": "code",
   "execution_count": 3,
   "id": "99ff6ac0",
   "metadata": {
    "ExecuteTime": {
     "end_time": "2022-02-09T11:39:48.562739Z",
     "start_time": "2022-02-09T11:39:48.412142Z"
    }
   },
   "outputs": [],
   "source": [
    "# We will look at stock prices over the past year, starting at January 1, 2016\n",
    "start = (2000, 12, 1)\n",
    "start = datetime.datetime(*start)\n",
    "end = datetime.date.today()\n",
    "\n",
    "google = pdr.DataReader('005930', 'naver', start, end) # yahoo 안불러와져서 예제와는 다르게 naver로 진행"
   ]
  },
  {
   "cell_type": "code",
   "execution_count": 5,
   "id": "be0f8c64",
   "metadata": {
    "ExecuteTime": {
     "end_time": "2022-02-09T11:40:50.532830Z",
     "start_time": "2022-02-09T11:40:50.514878Z"
    }
   },
   "outputs": [],
   "source": [
    "google = google.apply(pd.to_numeric)\n",
    "google = google[(google['Low']>1000)]"
   ]
  },
  {
   "cell_type": "code",
   "execution_count": 6,
   "id": "e44e69ea",
   "metadata": {
    "ExecuteTime": {
     "end_time": "2022-02-09T11:40:57.044626Z",
     "start_time": "2022-02-09T11:40:57.027672Z"
    }
   },
   "outputs": [
    {
     "data": {
      "text/html": [
       "<div>\n",
       "<style scoped>\n",
       "    .dataframe tbody tr th:only-of-type {\n",
       "        vertical-align: middle;\n",
       "    }\n",
       "\n",
       "    .dataframe tbody tr th {\n",
       "        vertical-align: top;\n",
       "    }\n",
       "\n",
       "    .dataframe thead th {\n",
       "        text-align: right;\n",
       "    }\n",
       "</style>\n",
       "<table border=\"1\" class=\"dataframe\">\n",
       "  <thead>\n",
       "    <tr style=\"text-align: right;\">\n",
       "      <th></th>\n",
       "      <th>Open</th>\n",
       "      <th>High</th>\n",
       "      <th>Low</th>\n",
       "      <th>Close</th>\n",
       "      <th>Volume</th>\n",
       "    </tr>\n",
       "    <tr>\n",
       "      <th>Date</th>\n",
       "      <th></th>\n",
       "      <th></th>\n",
       "      <th></th>\n",
       "      <th></th>\n",
       "      <th></th>\n",
       "    </tr>\n",
       "  </thead>\n",
       "  <tbody>\n",
       "    <tr>\n",
       "      <th>2000-12-01</th>\n",
       "      <td>3080</td>\n",
       "      <td>3220</td>\n",
       "      <td>3040</td>\n",
       "      <td>3180</td>\n",
       "      <td>1928557</td>\n",
       "    </tr>\n",
       "    <tr>\n",
       "      <th>2000-12-04</th>\n",
       "      <td>3220</td>\n",
       "      <td>3250</td>\n",
       "      <td>3080</td>\n",
       "      <td>3100</td>\n",
       "      <td>1037540</td>\n",
       "    </tr>\n",
       "    <tr>\n",
       "      <th>2000-12-05</th>\n",
       "      <td>3160</td>\n",
       "      <td>3250</td>\n",
       "      <td>3120</td>\n",
       "      <td>3240</td>\n",
       "      <td>1168095</td>\n",
       "    </tr>\n",
       "    <tr>\n",
       "      <th>2000-12-06</th>\n",
       "      <td>3410</td>\n",
       "      <td>3430</td>\n",
       "      <td>3210</td>\n",
       "      <td>3210</td>\n",
       "      <td>1917834</td>\n",
       "    </tr>\n",
       "    <tr>\n",
       "      <th>2000-12-07</th>\n",
       "      <td>3210</td>\n",
       "      <td>3260</td>\n",
       "      <td>3160</td>\n",
       "      <td>3260</td>\n",
       "      <td>860422</td>\n",
       "    </tr>\n",
       "    <tr>\n",
       "      <th>...</th>\n",
       "      <td>...</td>\n",
       "      <td>...</td>\n",
       "      <td>...</td>\n",
       "      <td>...</td>\n",
       "      <td>...</td>\n",
       "    </tr>\n",
       "    <tr>\n",
       "      <th>2022-02-03</th>\n",
       "      <td>74900</td>\n",
       "      <td>74900</td>\n",
       "      <td>73300</td>\n",
       "      <td>73300</td>\n",
       "      <td>17744721</td>\n",
       "    </tr>\n",
       "    <tr>\n",
       "      <th>2022-02-04</th>\n",
       "      <td>74300</td>\n",
       "      <td>74600</td>\n",
       "      <td>73400</td>\n",
       "      <td>74000</td>\n",
       "      <td>12730034</td>\n",
       "    </tr>\n",
       "    <tr>\n",
       "      <th>2022-02-07</th>\n",
       "      <td>73500</td>\n",
       "      <td>73600</td>\n",
       "      <td>72400</td>\n",
       "      <td>73000</td>\n",
       "      <td>14240838</td>\n",
       "    </tr>\n",
       "    <tr>\n",
       "      <th>2022-02-08</th>\n",
       "      <td>73800</td>\n",
       "      <td>74200</td>\n",
       "      <td>73000</td>\n",
       "      <td>73500</td>\n",
       "      <td>11736666</td>\n",
       "    </tr>\n",
       "    <tr>\n",
       "      <th>2022-02-09</th>\n",
       "      <td>74300</td>\n",
       "      <td>74700</td>\n",
       "      <td>74000</td>\n",
       "      <td>74700</td>\n",
       "      <td>9602361</td>\n",
       "    </tr>\n",
       "  </tbody>\n",
       "</table>\n",
       "<p>5230 rows × 5 columns</p>\n",
       "</div>"
      ],
      "text/plain": [
       "             Open   High    Low  Close    Volume\n",
       "Date                                            \n",
       "2000-12-01   3080   3220   3040   3180   1928557\n",
       "2000-12-04   3220   3250   3080   3100   1037540\n",
       "2000-12-05   3160   3250   3120   3240   1168095\n",
       "2000-12-06   3410   3430   3210   3210   1917834\n",
       "2000-12-07   3210   3260   3160   3260    860422\n",
       "...           ...    ...    ...    ...       ...\n",
       "2022-02-03  74900  74900  73300  73300  17744721\n",
       "2022-02-04  74300  74600  73400  74000  12730034\n",
       "2022-02-07  73500  73600  72400  73000  14240838\n",
       "2022-02-08  73800  74200  73000  73500  11736666\n",
       "2022-02-09  74300  74700  74000  74700   9602361\n",
       "\n",
       "[5230 rows x 5 columns]"
      ]
     },
     "execution_count": 6,
     "metadata": {},
     "output_type": "execute_result"
    }
   ],
   "source": [
    "google"
   ]
  },
  {
   "cell_type": "code",
   "execution_count": 7,
   "id": "b6f39027",
   "metadata": {
    "ExecuteTime": {
     "end_time": "2022-02-09T11:42:21.520650Z",
     "start_time": "2022-02-09T11:42:21.394986Z"
    }
   },
   "outputs": [
    {
     "data": {
      "text/plain": [
       "<AxesSubplot:xlabel='Date'>"
      ]
     },
     "execution_count": 7,
     "metadata": {},
     "output_type": "execute_result"
    },
    {
     "data": {
      "image/png": "[encoded data removed]",
      "text/plain": [
       "<Figure size 1080x648 with 1 Axes>"
      ]
     },
     "metadata": {
      "needs_background": "light"
     },
     "output_type": "display_data"
    }
   ],
   "source": [
    "google.Low.plot(grid=True)"
   ]
  },
  {
   "cell_type": "markdown",
   "id": "7a6e104b",
   "metadata": {},
   "source": [
    "# Data Preparation"
   ]
  },
  {
   "cell_type": "markdown",
   "id": "95d8df43",
   "metadata": {},
   "source": [
    "## 커스텀데이터셋 만들기\n",
    "- Dataset: i번째 레코드 값을 주는 역할을 함 \n",
    " : 데이터 요청을 받으면 데이터를 꺼내줌\n",
    "- DataLoader: 배치 만들어주는 역할 (Chunking) \n",
    "- DataLoader에다가 Dataset을 넣어주면 배치사이즈대로 데이터를 뽑아줌 \n",
    "- 커스텀데이터셋인데 length 및 indexing이 가능함"
   ]
  },
  {
   "cell_type": "code",
   "execution_count": 49,
   "id": "607b55e9",
   "metadata": {
    "ExecuteTime": {
     "end_time": "2022-02-09T12:31:25.666295Z",
     "start_time": "2022-02-09T12:31:25.656322Z"
    }
   },
   "outputs": [],
   "source": [
    "class StockDataset(Dataset):\n",
    "    \n",
    "    def __init__(self, symbol, x_frames, y_frames, start, end): #x_frame: x_seq_len(최근 n일), y_frames(이후 n일): y_seq_len\n",
    "        \n",
    "        self.symbol = symbol\n",
    "        self.x_frames = x_frames\n",
    "        self.y_frames = y_frames\n",
    "        \n",
    "        self.start = datetime.datetime(*start)\n",
    "        self.end = datetime.datetime(*end)\n",
    "\n",
    "        self.data = pdr.DataReader(self.symbol, 'naver', self.start, self.end)\n",
    "        self.data = self.data.apply(pd.to_numeric)\n",
    "        print(self.data.isna().sum()) # NaN값 몇개인지 파악하기 위해 넣어둔 구문 \n",
    "        \n",
    "    def __len__(self): # 데이터셋의 length를 계산하는 함수, seq를 생성할 수 있는 length 수식임\n",
    "        # Ex 1,2,3,4,5 가 있을 때 x_frame=2, y_frame=2인경우 생성할 수 있는 pair는 (1,2)&(3,4) , (2,3)&(4,5) 2EA 뿐임\n",
    "        return len(self.data) - (self.x_frames + self.y_frames) + 1\n",
    "    \n",
    "    def __getitem__(self, idx): # list에서 idx에서 요청왔을 때 idx 값을 건네주는 함수 \n",
    "        idx += self.x_frames\n",
    "        data = self.data.iloc[idx-self.x_frames:idx+self.y_frames]\n",
    "        data = data[['High', 'Low', 'Open', 'Close', 'Volume']]\n",
    "        data = data.apply(lambda x: np.log(x+1) - np.log(x[self.x_frames-1]+1)) # Data normalization  개념\n",
    "        # 나누기로 normalization할 떄 0나누면 값 발산, log 차이를 이용하고 log(0)방지를 위해 1을 더해줌 \n",
    "        # log(a) - log(b) = log(a/b)\n",
    "        data = data.values # np array로 건네줘야함 \n",
    "        X = data[:self.x_frames]\n",
    "        y = data[self.x_frames:]\n",
    "        \n",
    "        return X, y"
   ]
  },
  {
   "cell_type": "code",
   "execution_count": 51,
   "id": "1702d9c3",
   "metadata": {
    "ExecuteTime": {
     "end_time": "2022-02-09T12:32:09.967920Z",
     "start_time": "2022-02-09T12:32:09.832283Z"
    }
   },
   "outputs": [
    {
     "name": "stdout",
     "output_type": "stream",
     "text": [
      "Open      0\n",
      "High      0\n",
      "Low       0\n",
      "Close     0\n",
      "Volume    0\n",
      "dtype: int64\n",
      "torch.Size([2, 10, 5]) torch.Size([2, 5, 5])\n"
     ]
    }
   ],
   "source": [
    "dataset = StockDataset('005930', 10, 5, (2001,1,1), (2005,1,1))\n",
    "dataloader = DataLoader(dataset, 2, drop_last=True, shuffle=True) # train set인경우 shuffle true\n",
    "for X, y in dataloader:\n",
    "    print(X.shape, y.shape)\n",
    "    break"
   ]
  },
  {
   "cell_type": "markdown",
   "id": "5a40a04e",
   "metadata": {},
   "source": [
    "# Model Define"
   ]
  },
  {
   "cell_type": "code",
   "execution_count": 52,
   "id": "c73ba6a2",
   "metadata": {
    "ExecuteTime": {
     "end_time": "2022-02-09T12:36:25.690414Z",
     "start_time": "2022-02-09T12:36:25.680440Z"
    }
   },
   "outputs": [],
   "source": [
    "class LSTM(nn.Module):\n",
    "    \n",
    "    def __init__(self, input_dim, hidden_dim, output_dim, num_layers, batch_size, dropout, use_bn):\n",
    "        super(LSTM, self).__init__()\n",
    "        self.input_dim = input_dim \n",
    "        self.hidden_dim = hidden_dim\n",
    "        self.output_dim = output_dim\n",
    "        self.num_layers = num_layers\n",
    "\n",
    "        self.batch_size = batch_size\n",
    "        self.dropout = dropout\n",
    "        self.use_bn = use_bn \n",
    "        \n",
    "        self.lstm = nn.LSTM(self.input_dim, self.hidden_dim, self.num_layers) # 인자 받는 순서 확인 \n",
    "        self.hidden = self.init_hidden()\n",
    "        self.regressor = self.make_regressor() # output dim을 여기서 받도록 설정 \n",
    "        \n",
    "    def init_hidden(self):\n",
    "        return (torch.zeros(self.num_layers, self.batch_size, self.hidden_dim),\n",
    "                torch.zeros(self.num_layers, self.batch_size, self.hidden_dim))\n",
    "    \n",
    "    def make_regressor(self):\n",
    "        layers = []\n",
    "        if self.use_bn:\n",
    "            layers.append(nn.BatchNorm1d(self.hidden_dim))\n",
    "        layers.append(nn.Dropout(self.dropout))\n",
    "        \n",
    "        layers.append(nn.Linear(self.hidden_dim, self.hidden_dim // 2)) # hid_dim을 절반으로 나눠줌\n",
    "        layers.append(nn.ReLU())\n",
    "        layers.append(nn.Linear(self.hidden_dim // 2, self.output_dim)) # hid_dim -> out_dim으로 변경\n",
    "        regressor = nn.Sequential(*layers) # sequential로 넣어서 MLP로 만듦 \n",
    "        return regressor\n",
    "    \n",
    "    def forward(self, x):\n",
    "        lstm_out, self.hidden = self.lstm(x, self.hidden) # 새로 업데이트된 lstm_out(한스텝에서의 output값)과 self.hidden (모둔 hidden state) return해줌 \n",
    "        y_pred = self.regressor(lstm_out[-1].view(self.batch_size, -1)) # t스텝에서의 값을 regressor를 통해 예측 \n",
    "        return y_pred"
   ]
  },
  {
   "cell_type": "code",
   "execution_count": 59,
   "id": "adccca77",
   "metadata": {
    "ExecuteTime": {
     "end_time": "2022-02-09T12:45:10.253734Z",
     "start_time": "2022-02-09T12:45:10.247750Z"
    }
   },
   "outputs": [
    {
     "data": {
      "text/plain": [
       "LSTM(\n",
       "  (lstm): LSTM(5, 100, num_layers=3)\n",
       "  (regressor): Sequential(\n",
       "    (0): BatchNorm1d(100, eps=1e-05, momentum=0.1, affine=True, track_running_stats=True)\n",
       "    (1): Dropout(p=0.1, inplace=False)\n",
       "    (2): Linear(in_features=100, out_features=50, bias=True)\n",
       "    (3): ReLU()\n",
       "    (4): Linear(in_features=50, out_features=1, bias=True)\n",
       "  )\n",
       ")"
      ]
     },
     "execution_count": 59,
     "metadata": {},
     "output_type": "execute_result"
    }
   ],
   "source": [
    "net = LSTM(input_dim = 5, hidden_dim = 100, output_dim = 1, num_layers= 3, batch_size=3, dropout=0.1, use_bn=True)\n",
    "net"
   ]
  },
  {
   "cell_type": "code",
   "execution_count": 60,
   "id": "c1c1b27e",
   "metadata": {
    "ExecuteTime": {
     "end_time": "2022-02-09T12:46:58.413544Z",
     "start_time": "2022-02-09T12:46:58.407560Z"
    }
   },
   "outputs": [],
   "source": [
    "def metric(y_pred, y_true):\n",
    "    perc_y_pred = np.exp(y_pred.cpu().detach().numpy())\n",
    "    perc_y_true = np.exp(y_true.cpu().detach().numpy())\n",
    "    mae = mean_absolute_error(perc_y_true, perc_y_pred, multioutput='raw_values')\n",
    "    return mae*100"
   ]
  },
  {
   "cell_type": "code",
   "execution_count": null,
   "id": "227158f2",
   "metadata": {},
   "outputs": [],
   "source": []
  },
  {
   "cell_type": "code",
   "execution_count": null,
   "id": "a0deab3e",
   "metadata": {},
   "outputs": [],
   "source": []
  },
  {
   "cell_type": "code",
   "execution_count": null,
   "id": "ad165763",
   "metadata": {},
   "outputs": [],
   "source": []
  },
  {
   "cell_type": "code",
   "execution_count": null,
   "id": "fdfc05e8",
   "metadata": {},
   "outputs": [],
   "source": []
  },
  {
   "cell_type": "code",
   "execution_count": null,
   "id": "103415da",
   "metadata": {},
   "outputs": [],
   "source": []
  },
  {
   "cell_type": "code",
   "execution_count": null,
   "id": "d87f6551",
   "metadata": {},
   "outputs": [],
   "source": [
    "def train(model, partition, optimizer, loss_fn, args):\n",
    "    trainloader = DataLoader(partition['train'], \n",
    "                             batch_size=args.batch_size, \n",
    "                             shuffle=True, drop_last=True) # 마지막 배치를 쓸 것인지 말것인지 \n",
    "    model.train()\n",
    "    model.zero_grad()\n",
    "    optimizer.zero_grad()\n",
    "\n",
    "    train_acc = 0.0\n",
    "    train_loss = 0.0\n",
    "    for i, (X, y) in enumerate(trainloader):\n",
    "\n",
    "        X = X.transpose(0, 1).float().to(args.device) # X [batch_size, seq_len_1, feature] -> [seq_len_1, batch_size, feature]\n",
    "        y_true = y[:, :, 3].float().to(args.device) # y [batch_size, seq_len_2, feature (1)]\n",
    "        #print(torch.max(X[:, :, 3]), torch.max(y_true))\n",
    "\n",
    "        model.zero_grad()\n",
    "        optimizer.zero_grad()\n",
    "        model.hidden = [hidden.to(args.device) for hidden in model.init_hidden()]\n",
    "\n",
    "        y_pred = model(X)\n",
    "        loss = loss_fn(y_pred.view(-1), y_true.view(-1))\n",
    "        loss.backward()\n",
    "        optimizer.step()\n",
    "\n",
    "        train_loss += loss.item()\n",
    "        train_acc += metric(y_pred, y_true)[0]\n",
    "\n",
    "    train_loss = train_loss / len(trainloader)\n",
    "    train_acc = train_acc / len(trainloader)\n",
    "    return model, train_loss, train_acc"
   ]
  },
  {
   "cell_type": "code",
   "execution_count": null,
   "id": "60fb08e6",
   "metadata": {},
   "outputs": [],
   "source": []
  },
  {
   "cell_type": "code",
   "execution_count": null,
   "id": "85f5ccee",
   "metadata": {},
   "outputs": [],
   "source": []
  },
  {
   "cell_type": "code",
   "execution_count": null,
   "id": "8aa17a48",
   "metadata": {},
   "outputs": [],
   "source": []
  },
  {
   "cell_type": "code",
   "execution_count": null,
   "id": "2f86dd09",
   "metadata": {},
   "outputs": [],
   "source": []
  },
  {
   "cell_type": "code",
   "execution_count": null,
   "id": "dd9ceed6",
   "metadata": {},
   "outputs": [],
   "source": []
  },
  {
   "cell_type": "code",
   "execution_count": null,
   "id": "94dd3c95",
   "metadata": {},
   "outputs": [],
   "source": []
  }
 ],
 "metadata": {
  "kernelspec": {
   "display_name": "Python 3.7 (pytorch)",
   "language": "python",
   "name": "pytorch"
  },
  "language_info": {
   "codemirror_mode": {
    "name": "ipython",
    "version": 3
   },
   "file_extension": ".py",
   "mimetype": "text/x-python",
   "name": "python",
   "nbconvert_exporter": "python",
   "pygments_lexer": "ipython3",
   "version": "3.7.10"
  },
  "toc": {
   "base_numbering": 1,
   "nav_menu": {},
   "number_sections": true,
   "sideBar": true,
   "skip_h1_title": false,
   "title_cell": "Table of Contents",
   "title_sidebar": "Contents",
   "toc_cell": false,
   "toc_position": {},
   "toc_section_display": true,
   "toc_window_display": false
  },
  "varInspector": {
   "cols": {
    "lenName": 16,
    "lenType": 16,
    "lenVar": 40
   },
   "kernels_config": {
    "python": {
     "delete_cmd_postfix": "",
     "delete_cmd_prefix": "del ",
     "library": "var_list.py",
     "varRefreshCmd": "print(var_dic_list())"
    },
    "r": {
     "delete_cmd_postfix": ") ",
     "delete_cmd_prefix": "rm(",
     "library": "var_list.r",
     "varRefreshCmd": "cat(var_dic_list()) "
    }
   },
   "types_to_exclude": [
    "module",
    "function",
    "builtin_function_or_method",
    "instance",
    "_Feature"
   ],
   "window_display": false
  }
 },
 "nbformat": 4,
 "nbformat_minor": 5
}
