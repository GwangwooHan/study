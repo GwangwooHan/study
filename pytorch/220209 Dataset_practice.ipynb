{
 "cells": [
  {
   "cell_type": "code",
   "execution_count": 1,
   "id": "cac5f1bd",
   "metadata": {
    "ExecuteTime": {
     "end_time": "2022-02-09T12:12:58.145283Z",
     "start_time": "2022-02-09T12:12:55.187196Z"
    }
   },
   "outputs": [
    {
     "name": "stdout",
     "output_type": "stream",
     "text": [
      "1.7.1\n",
      "Populating the interactive namespace from numpy and matplotlib\n"
     ]
    }
   ],
   "source": [
    "import pandas as pd\n",
    "import pandas_datareader.data as pdr\n",
    "import datetime\n",
    "import torch\n",
    "import torch.nn as nn\n",
    "from torch.utils.data import Dataset, DataLoader\n",
    "import torch.optim as optim\n",
    "import numpy as np\n",
    "import argparse\n",
    "from copy import deepcopy # Add Deepcopy for args\n",
    "from sklearn.metrics import mean_absolute_error\n",
    "import ssl\n",
    "\n",
    "import seaborn as sns \n",
    "import matplotlib.pyplot as plt\n",
    "\n",
    "print(torch.__version__)\n",
    "%matplotlib inline\n",
    "%pylab inline\n",
    "pylab.rcParams['figure.figsize'] = (15, 9)"
   ]
  },
  {
   "cell_type": "markdown",
   "id": "57fad9d8",
   "metadata": {
    "ExecuteTime": {
     "end_time": "2022-02-09T12:13:03.680478Z",
     "start_time": "2022-02-09T12:13:03.672499Z"
    }
   },
   "source": [
    "# 커스텀데이터셋 만들기\n",
    "- Dataset: i번째 레코드 값을 주는 역할을 함 \n",
    " : 데이터 요청을 받으면 데이터를 꺼내줌\n",
    "- DataLoader: 배치 만들어주는 역할 (Chunking) \n",
    "- DataLoader에다가 Dataset을 넣어주면 배치사이즈대로 데이터를 뽑아줌 \n",
    "- 커스텀데이터셋인데 length 및 indexing이 가능함"
   ]
  },
  {
   "cell_type": "code",
   "execution_count": 4,
   "id": "6a8772b9",
   "metadata": {
    "ExecuteTime": {
     "end_time": "2022-02-09T12:13:13.419429Z",
     "start_time": "2022-02-09T12:13:13.401477Z"
    }
   },
   "outputs": [],
   "source": [
    "class dummySet(Dataset):\n",
    "    def __init__(self, num_data):\n",
    "        self.x = np.array(list(range(num_data*2))).reshape(-1, 2)\n",
    "        self.y = np.array(list(range(num_data)))\n",
    "        \n",
    "    def __len__(self):\n",
    "        return len(self.x)\n",
    "    \n",
    "    def __getitem__(self, idx):\n",
    "        return self.x[idx], self.y[idx]"
   ]
  },
  {
   "cell_type": "code",
   "execution_count": 5,
   "id": "2ce1ea98",
   "metadata": {
    "ExecuteTime": {
     "end_time": "2022-02-09T12:13:20.495502Z",
     "start_time": "2022-02-09T12:13:20.489518Z"
    },
    "scrolled": true
   },
   "outputs": [
    {
     "name": "stdout",
     "output_type": "stream",
     "text": [
      "[[  0   1]\n",
      " [  2   3]\n",
      " [  4   5]\n",
      " [  6   7]\n",
      " [  8   9]\n",
      " [ 10  11]\n",
      " [ 12  13]\n",
      " [ 14  15]\n",
      " [ 16  17]\n",
      " [ 18  19]\n",
      " [ 20  21]\n",
      " [ 22  23]\n",
      " [ 24  25]\n",
      " [ 26  27]\n",
      " [ 28  29]\n",
      " [ 30  31]\n",
      " [ 32  33]\n",
      " [ 34  35]\n",
      " [ 36  37]\n",
      " [ 38  39]\n",
      " [ 40  41]\n",
      " [ 42  43]\n",
      " [ 44  45]\n",
      " [ 46  47]\n",
      " [ 48  49]\n",
      " [ 50  51]\n",
      " [ 52  53]\n",
      " [ 54  55]\n",
      " [ 56  57]\n",
      " [ 58  59]\n",
      " [ 60  61]\n",
      " [ 62  63]\n",
      " [ 64  65]\n",
      " [ 66  67]\n",
      " [ 68  69]\n",
      " [ 70  71]\n",
      " [ 72  73]\n",
      " [ 74  75]\n",
      " [ 76  77]\n",
      " [ 78  79]\n",
      " [ 80  81]\n",
      " [ 82  83]\n",
      " [ 84  85]\n",
      " [ 86  87]\n",
      " [ 88  89]\n",
      " [ 90  91]\n",
      " [ 92  93]\n",
      " [ 94  95]\n",
      " [ 96  97]\n",
      " [ 98  99]\n",
      " [100 101]\n",
      " [102 103]\n",
      " [104 105]\n",
      " [106 107]\n",
      " [108 109]\n",
      " [110 111]\n",
      " [112 113]\n",
      " [114 115]\n",
      " [116 117]\n",
      " [118 119]\n",
      " [120 121]\n",
      " [122 123]\n",
      " [124 125]\n",
      " [126 127]\n",
      " [128 129]\n",
      " [130 131]\n",
      " [132 133]\n",
      " [134 135]\n",
      " [136 137]\n",
      " [138 139]\n",
      " [140 141]\n",
      " [142 143]\n",
      " [144 145]\n",
      " [146 147]\n",
      " [148 149]\n",
      " [150 151]\n",
      " [152 153]\n",
      " [154 155]\n",
      " [156 157]\n",
      " [158 159]\n",
      " [160 161]\n",
      " [162 163]\n",
      " [164 165]\n",
      " [166 167]\n",
      " [168 169]\n",
      " [170 171]\n",
      " [172 173]\n",
      " [174 175]\n",
      " [176 177]\n",
      " [178 179]\n",
      " [180 181]\n",
      " [182 183]\n",
      " [184 185]\n",
      " [186 187]\n",
      " [188 189]\n",
      " [190 191]\n",
      " [192 193]\n",
      " [194 195]\n",
      " [196 197]\n",
      " [198 199]]\n",
      "(array([0, 1]), 0)\n"
     ]
    }
   ],
   "source": [
    "dataset = dummySet(100)\n",
    "print(dataset.x)\n",
    "print(dataset[0])"
   ]
  },
  {
   "cell_type": "code",
   "execution_count": 6,
   "id": "6071132a",
   "metadata": {
    "ExecuteTime": {
     "end_time": "2022-02-09T12:13:28.484135Z",
     "start_time": "2022-02-09T12:13:28.481143Z"
    }
   },
   "outputs": [],
   "source": [
    "dataloader = DataLoader(dataset, batch_size=3, shuffle=False)"
   ]
  },
  {
   "cell_type": "code",
   "execution_count": 7,
   "id": "f4475bce",
   "metadata": {
    "ExecuteTime": {
     "end_time": "2022-02-09T12:13:33.824850Z",
     "start_time": "2022-02-09T12:13:33.808892Z"
    }
   },
   "outputs": [
    {
     "name": "stdout",
     "output_type": "stream",
     "text": [
      "[tensor([[0, 1],\n",
      "        [2, 3],\n",
      "        [4, 5]], dtype=torch.int32), tensor([0, 1, 2], dtype=torch.int32)]\n"
     ]
    }
   ],
   "source": [
    "for batch in dataloader:    \n",
    "    print(batch)\n",
    "    break"
   ]
  },
  {
   "cell_type": "code",
   "execution_count": 8,
   "id": "051ae6a9",
   "metadata": {
    "ExecuteTime": {
     "end_time": "2022-02-09T12:13:38.267965Z",
     "start_time": "2022-02-09T12:13:38.256995Z"
    }
   },
   "outputs": [],
   "source": [
    "dataloader = DataLoader(dataset, batch_size=3, shuffle=False, drop_last=True) # 마지막 사이즈다른 배치는 버림 "
   ]
  },
  {
   "cell_type": "code",
   "execution_count": 9,
   "id": "b29df9f2",
   "metadata": {
    "ExecuteTime": {
     "end_time": "2022-02-09T12:13:43.040201Z",
     "start_time": "2022-02-09T12:13:43.017262Z"
    }
   },
   "outputs": [
    {
     "name": "stdout",
     "output_type": "stream",
     "text": [
      "tensor([[0, 1],\n",
      "        [2, 3],\n",
      "        [4, 5]], dtype=torch.int32) tensor([0, 1, 2], dtype=torch.int32)\n",
      "torch.Size([3, 2]) torch.Size([3])\n",
      "tensor([[ 6,  7],\n",
      "        [ 8,  9],\n",
      "        [10, 11]], dtype=torch.int32) tensor([3, 4, 5], dtype=torch.int32)\n",
      "torch.Size([3, 2]) torch.Size([3])\n",
      "tensor([[12, 13],\n",
      "        [14, 15],\n",
      "        [16, 17]], dtype=torch.int32) tensor([6, 7, 8], dtype=torch.int32)\n",
      "torch.Size([3, 2]) torch.Size([3])\n",
      "tensor([[18, 19],\n",
      "        [20, 21],\n",
      "        [22, 23]], dtype=torch.int32) tensor([ 9, 10, 11], dtype=torch.int32)\n",
      "torch.Size([3, 2]) torch.Size([3])\n",
      "tensor([[24, 25],\n",
      "        [26, 27],\n",
      "        [28, 29]], dtype=torch.int32) tensor([12, 13, 14], dtype=torch.int32)\n",
      "torch.Size([3, 2]) torch.Size([3])\n",
      "tensor([[30, 31],\n",
      "        [32, 33],\n",
      "        [34, 35]], dtype=torch.int32) tensor([15, 16, 17], dtype=torch.int32)\n",
      "torch.Size([3, 2]) torch.Size([3])\n",
      "tensor([[36, 37],\n",
      "        [38, 39],\n",
      "        [40, 41]], dtype=torch.int32) tensor([18, 19, 20], dtype=torch.int32)\n",
      "torch.Size([3, 2]) torch.Size([3])\n",
      "tensor([[42, 43],\n",
      "        [44, 45],\n",
      "        [46, 47]], dtype=torch.int32) tensor([21, 22, 23], dtype=torch.int32)\n",
      "torch.Size([3, 2]) torch.Size([3])\n",
      "tensor([[48, 49],\n",
      "        [50, 51],\n",
      "        [52, 53]], dtype=torch.int32) tensor([24, 25, 26], dtype=torch.int32)\n",
      "torch.Size([3, 2]) torch.Size([3])\n",
      "tensor([[54, 55],\n",
      "        [56, 57],\n",
      "        [58, 59]], dtype=torch.int32) tensor([27, 28, 29], dtype=torch.int32)\n",
      "torch.Size([3, 2]) torch.Size([3])\n",
      "tensor([[60, 61],\n",
      "        [62, 63],\n",
      "        [64, 65]], dtype=torch.int32) tensor([30, 31, 32], dtype=torch.int32)\n",
      "torch.Size([3, 2]) torch.Size([3])\n",
      "tensor([[66, 67],\n",
      "        [68, 69],\n",
      "        [70, 71]], dtype=torch.int32) tensor([33, 34, 35], dtype=torch.int32)\n",
      "torch.Size([3, 2]) torch.Size([3])\n",
      "tensor([[72, 73],\n",
      "        [74, 75],\n",
      "        [76, 77]], dtype=torch.int32) tensor([36, 37, 38], dtype=torch.int32)\n",
      "torch.Size([3, 2]) torch.Size([3])\n",
      "tensor([[78, 79],\n",
      "        [80, 81],\n",
      "        [82, 83]], dtype=torch.int32) tensor([39, 40, 41], dtype=torch.int32)\n",
      "torch.Size([3, 2]) torch.Size([3])\n",
      "tensor([[84, 85],\n",
      "        [86, 87],\n",
      "        [88, 89]], dtype=torch.int32) tensor([42, 43, 44], dtype=torch.int32)\n",
      "torch.Size([3, 2]) torch.Size([3])\n",
      "tensor([[90, 91],\n",
      "        [92, 93],\n",
      "        [94, 95]], dtype=torch.int32) tensor([45, 46, 47], dtype=torch.int32)\n",
      "torch.Size([3, 2]) torch.Size([3])\n",
      "tensor([[ 96,  97],\n",
      "        [ 98,  99],\n",
      "        [100, 101]], dtype=torch.int32) tensor([48, 49, 50], dtype=torch.int32)\n",
      "torch.Size([3, 2]) torch.Size([3])\n",
      "tensor([[102, 103],\n",
      "        [104, 105],\n",
      "        [106, 107]], dtype=torch.int32) tensor([51, 52, 53], dtype=torch.int32)\n",
      "torch.Size([3, 2]) torch.Size([3])\n",
      "tensor([[108, 109],\n",
      "        [110, 111],\n",
      "        [112, 113]], dtype=torch.int32) tensor([54, 55, 56], dtype=torch.int32)\n",
      "torch.Size([3, 2]) torch.Size([3])\n",
      "tensor([[114, 115],\n",
      "        [116, 117],\n",
      "        [118, 119]], dtype=torch.int32) tensor([57, 58, 59], dtype=torch.int32)\n",
      "torch.Size([3, 2]) torch.Size([3])\n",
      "tensor([[120, 121],\n",
      "        [122, 123],\n",
      "        [124, 125]], dtype=torch.int32) tensor([60, 61, 62], dtype=torch.int32)\n",
      "torch.Size([3, 2]) torch.Size([3])\n",
      "tensor([[126, 127],\n",
      "        [128, 129],\n",
      "        [130, 131]], dtype=torch.int32) tensor([63, 64, 65], dtype=torch.int32)\n",
      "torch.Size([3, 2]) torch.Size([3])\n",
      "tensor([[132, 133],\n",
      "        [134, 135],\n",
      "        [136, 137]], dtype=torch.int32) tensor([66, 67, 68], dtype=torch.int32)\n",
      "torch.Size([3, 2]) torch.Size([3])\n",
      "tensor([[138, 139],\n",
      "        [140, 141],\n",
      "        [142, 143]], dtype=torch.int32) tensor([69, 70, 71], dtype=torch.int32)\n",
      "torch.Size([3, 2]) torch.Size([3])\n",
      "tensor([[144, 145],\n",
      "        [146, 147],\n",
      "        [148, 149]], dtype=torch.int32) tensor([72, 73, 74], dtype=torch.int32)\n",
      "torch.Size([3, 2]) torch.Size([3])\n",
      "tensor([[150, 151],\n",
      "        [152, 153],\n",
      "        [154, 155]], dtype=torch.int32) tensor([75, 76, 77], dtype=torch.int32)\n",
      "torch.Size([3, 2]) torch.Size([3])\n",
      "tensor([[156, 157],\n",
      "        [158, 159],\n",
      "        [160, 161]], dtype=torch.int32) tensor([78, 79, 80], dtype=torch.int32)\n",
      "torch.Size([3, 2]) torch.Size([3])\n",
      "tensor([[162, 163],\n",
      "        [164, 165],\n",
      "        [166, 167]], dtype=torch.int32) tensor([81, 82, 83], dtype=torch.int32)\n",
      "torch.Size([3, 2]) torch.Size([3])\n",
      "tensor([[168, 169],\n",
      "        [170, 171],\n",
      "        [172, 173]], dtype=torch.int32) tensor([84, 85, 86], dtype=torch.int32)\n",
      "torch.Size([3, 2]) torch.Size([3])\n",
      "tensor([[174, 175],\n",
      "        [176, 177],\n",
      "        [178, 179]], dtype=torch.int32) tensor([87, 88, 89], dtype=torch.int32)\n",
      "torch.Size([3, 2]) torch.Size([3])\n",
      "tensor([[180, 181],\n",
      "        [182, 183],\n",
      "        [184, 185]], dtype=torch.int32) tensor([90, 91, 92], dtype=torch.int32)\n",
      "torch.Size([3, 2]) torch.Size([3])\n",
      "tensor([[186, 187],\n",
      "        [188, 189],\n",
      "        [190, 191]], dtype=torch.int32) tensor([93, 94, 95], dtype=torch.int32)\n",
      "torch.Size([3, 2]) torch.Size([3])\n",
      "tensor([[192, 193],\n",
      "        [194, 195],\n",
      "        [196, 197]], dtype=torch.int32) tensor([96, 97, 98], dtype=torch.int32)\n",
      "torch.Size([3, 2]) torch.Size([3])\n"
     ]
    }
   ],
   "source": [
    "for X, y in dataloader:    \n",
    "    print(X,y)\n",
    "    print(X.shape, y.shape)    "
   ]
  },
  {
   "cell_type": "code",
   "execution_count": null,
   "id": "a60c20ea",
   "metadata": {},
   "outputs": [],
   "source": []
  }
 ],
 "metadata": {
  "kernelspec": {
   "display_name": "Python 3.7 (pytorch)",
   "language": "python",
   "name": "pytorch"
  },
  "language_info": {
   "codemirror_mode": {
    "name": "ipython",
    "version": 3
   },
   "file_extension": ".py",
   "mimetype": "text/x-python",
   "name": "python",
   "nbconvert_exporter": "python",
   "pygments_lexer": "ipython3",
   "version": "3.7.10"
  },
  "toc": {
   "base_numbering": 1,
   "nav_menu": {},
   "number_sections": true,
   "sideBar": true,
   "skip_h1_title": false,
   "title_cell": "Table of Contents",
   "title_sidebar": "Contents",
   "toc_cell": false,
   "toc_position": {},
   "toc_section_display": true,
   "toc_window_display": false
  },
  "varInspector": {
   "cols": {
    "lenName": 16,
    "lenType": 16,
    "lenVar": 40
   },
   "kernels_config": {
    "python": {
     "delete_cmd_postfix": "",
     "delete_cmd_prefix": "del ",
     "library": "var_list.py",
     "varRefreshCmd": "print(var_dic_list())"
    },
    "r": {
     "delete_cmd_postfix": ") ",
     "delete_cmd_prefix": "rm(",
     "library": "var_list.r",
     "varRefreshCmd": "cat(var_dic_list()) "
    }
   },
   "types_to_exclude": [
    "module",
    "function",
    "builtin_function_or_method",
    "instance",
    "_Feature"
   ],
   "window_display": false
  }
 },
 "nbformat": 4,
 "nbformat_minor": 5
}
