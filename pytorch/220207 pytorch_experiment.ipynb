{
 "cells": [
  {
   "cell_type": "markdown",
   "id": "b33e2b9a",
   "metadata": {},
   "source": [
    "# JSON으로 저장 및 hash 연습"
   ]
  },
  {
   "cell_type": "code",
   "execution_count": 41,
   "id": "28905057",
   "metadata": {
    "ExecuteTime": {
     "end_time": "2022-02-07T10:42:26.025943Z",
     "start_time": "2022-02-07T10:42:26.011475Z"
    }
   },
   "outputs": [
    {
     "name": "stdout",
     "output_type": "stream",
     "text": [
      "{'value1': 5, 'value2': 10, 'seq': [1, 2, 3, 4, 5]}\n"
     ]
    }
   ],
   "source": [
    "import json\n",
    "a = {'value1': 5, 'value2': 10, 'seq': [1,2,3,4,5]}\n",
    "\n",
    "filename = 'test.json' # test.json으로 파일 저장\n",
    "# with 쓰는이유: 안쓰면 열려있는 상태를 꺼줘야함. with 구문내에서만 실행 \n",
    "with open(filename, 'w') as f: # 'w': 쓰기모드 (읽기모드시에는 'r')\n",
    "    json.dump(a, f) # file f에 a의 데이터 덮어써라 \n",
    "\n",
    "with open(filename, 'r') as f:\n",
    "    result = json.load(f)\n",
    "    print(result)"
   ]
  },
  {
   "cell_type": "code",
   "execution_count": 37,
   "id": "cba74b8e",
   "metadata": {
    "ExecuteTime": {
     "end_time": "2022-02-07T10:36:27.606624Z",
     "start_time": "2022-02-07T10:36:27.596652Z"
    }
   },
   "outputs": [
    {
     "name": "stdout",
     "output_type": "stream",
     "text": [
      "exp1-4766aa.json\n"
     ]
    }
   ],
   "source": [
    "import hashlib\n",
    "setting = {'value1': 5, 'value2': 10, 'seq': [1,2,3,4,5], 'exp_name': 'exp1'}\n",
    "exp_name = setting['exp_name']\n",
    "hash_key = hashlib.sha1(str(setting).encode()).hexdigest()[:6] #sha1 알고리즘을 활용하여 hasy화, hexdigest활용하여 문자열을 행성\n",
    "filename = '{}-{}.json'.format(exp_name, hash_key)\n",
    "print(filename)"
   ]
  },
  {
   "cell_type": "code",
   "execution_count": 42,
   "id": "dd3b9cba",
   "metadata": {
    "ExecuteTime": {
     "end_time": "2022-02-08T01:00:03.710986Z",
     "start_time": "2022-02-08T01:00:03.107601Z"
    }
   },
   "outputs": [],
   "source": [
    "import hashlib\n",
    "import json\n",
    "from os import listdir\n",
    "from os.path import isfile, join\n",
    "import pandas as pd\n",
    "\n",
    "def save_exp_result(setting, result):\n",
    "    exp_name = setting['exp_name']\n",
    "    del setting['epoch']\n",
    "    del setting['test_batch_size']\n",
    "\n",
    "    hash_key = hashlib.sha1(str(setting).encode()).hexdigest()[:6]\n",
    "    filename = './results/{}-{}.json'.format(exp_name, hash_key)\n",
    "    result.update(setting)\n",
    "    with open(filename, 'w') as f:\n",
    "        json.dump(result, f)\n",
    "\n",
    "    \n",
    "def load_exp_result(exp_name):\n",
    "    dir_path = './results'\n",
    "    filenames = [f for f in listdir(dir_path) if isfile(join(dir_path, f)) if '.json' in f]\n",
    "    list_result = []\n",
    "    for filename in filenames:\n",
    "        if exp_name in filename:\n",
    "            with open(join(dir_path, filename), 'r') as infile:\n",
    "                results = json.load(infile)\n",
    "                list_result.append(results)\n",
    "    df = pd.DataFrame(list_result) # .drop(columns=[])\n",
    "    return df"
   ]
  },
  {
   "cell_type": "markdown",
   "id": "c9325dc3",
   "metadata": {},
   "source": [
    "# Lab6_result_report 복붙"
   ]
  },
  {
   "cell_type": "code",
   "execution_count": null,
   "id": "f933d33f",
   "metadata": {},
   "outputs": [],
   "source": [
    "!mkdir results #폴더 생성"
   ]
  },
  {
   "cell_type": "code",
   "execution_count": 43,
   "id": "6d19d0f3",
   "metadata": {
    "ExecuteTime": {
     "end_time": "2022-02-08T01:06:09.841360Z",
     "start_time": "2022-02-08T01:06:08.625591Z"
    }
   },
   "outputs": [],
   "source": [
    "import torch\n",
    "import torchvision\n",
    "import torchvision.transforms as transforms\n",
    "import torch.nn as nn\n",
    "import torch.nn.functional as F\n",
    "import torch.optim as optim\n",
    "import argparse\n",
    "import numpy as np\n",
    "import time\n",
    "from copy import deepcopy # Add Deepcopy for args"
   ]
  },
  {
   "cell_type": "markdown",
   "id": "b15f4ce7",
   "metadata": {},
   "source": [
    "## Data Preparation"
   ]
  },
  {
   "cell_type": "code",
   "execution_count": 44,
   "id": "a23043f6",
   "metadata": {
    "ExecuteTime": {
     "end_time": "2022-02-08T01:06:16.218897Z",
     "start_time": "2022-02-08T01:06:13.897560Z"
    }
   },
   "outputs": [
    {
     "name": "stdout",
     "output_type": "stream",
     "text": [
      "Files already downloaded and verified\n",
      "Files already downloaded and verified\n"
     ]
    }
   ],
   "source": [
    "transform = transforms.Compose(\n",
    "    [transforms.ToTensor(),\n",
    "     transforms.Normalize((0.5, 0.5, 0.5), (0.5, 0.5, 0.5))])\n",
    "\n",
    "trainset = torchvision.datasets.CIFAR10(root='./data', train=True,\n",
    "                                        download=True, transform=transform)\n",
    "trainset, valset = torch.utils.data.random_split(trainset, [40000, 10000])\n",
    "testset = torchvision.datasets.CIFAR10(root='./data', train=False,\n",
    "                                       download=True, transform=transform)\n",
    "partition = {'train': trainset, 'val':valset, 'test':testset}"
   ]
  },
  {
   "cell_type": "markdown",
   "id": "1bc0d093",
   "metadata": {},
   "source": [
    "## Model Architecture"
   ]
  },
  {
   "cell_type": "code",
   "execution_count": 45,
   "id": "ae55316f",
   "metadata": {
    "ExecuteTime": {
     "end_time": "2022-02-08T01:06:39.225530Z",
     "start_time": "2022-02-08T01:06:39.202591Z"
    }
   },
   "outputs": [],
   "source": [
    "class MLP(nn.Module):\n",
    "    def __init__(self, in_dim, out_dim, hid_dim, n_layer, act, dropout, use_bn, use_xavier):\n",
    "        super(MLP, self).__init__()\n",
    "        self.in_dim = in_dim\n",
    "        self.out_dim = out_dim\n",
    "        self.hid_dim = hid_dim\n",
    "        self.n_layer = n_layer\n",
    "        self.act = act\n",
    "        self.dropout = dropout\n",
    "        self.use_bn = use_bn\n",
    "        self.use_xavier = use_xavier\n",
    "        \n",
    "        # ====== Create Linear Layers ====== #\n",
    "        self.fc1 = nn.Linear(self.in_dim, self.hid_dim)\n",
    "        \n",
    "        self.linears = nn.ModuleList()\n",
    "        self.bns = nn.ModuleList()\n",
    "        for i in range(self.n_layer-1):\n",
    "            self.linears.append(nn.Linear(self.hid_dim, self.hid_dim))\n",
    "            if self.use_bn:\n",
    "                self.bns.append(nn.BatchNorm1d(self.hid_dim))\n",
    "                \n",
    "        self.fc2 = nn.Linear(self.hid_dim, self.out_dim)\n",
    "        \n",
    "        # ====== Create Activation Function ====== #\n",
    "        if self.act == 'relu':\n",
    "            self.act = nn.ReLU()\n",
    "        elif self.act == 'tanh':\n",
    "            self.act == nn.Tanh()\n",
    "        elif self.act == 'sigmoid':\n",
    "            self.act = nn.Sigmoid()\n",
    "        else:\n",
    "            raise ValueError('no valid activation function selected!')\n",
    "        \n",
    "        # ====== Create Regularization Layer ======= #\n",
    "        self.dropout = nn.Dropout(self.dropout)\n",
    "        if self.use_xavier:\n",
    "            self.xavier_init()\n",
    "          \n",
    "    def forward(self, x):\n",
    "        x = self.act(self.fc1(x))\n",
    "        for i in range(len(self.linears)):\n",
    "            x = self.act(self.linears[i](x))\n",
    "            if self.use_bn: # bn안쓰면 에러안나게하는 코드 추가\n",
    "                x = self.bns[i](x)                 \n",
    "            x = self.dropout(x)\n",
    "        x = self.fc2(x)\n",
    "        return x\n",
    "    \n",
    "    def xavier_init(self):\n",
    "        for linear in self.linears:\n",
    "            nn.init.xavier_normal_(linear.weight)\n",
    "            linear.bias.data.fill_(0.01)\n",
    "            \n",
    "net = MLP(3072, 10, 100, 4, 'relu', 0.1, True, True) # Testing Model Construction"
   ]
  },
  {
   "cell_type": "markdown",
   "id": "2c569858",
   "metadata": {},
   "source": [
    "## Train, Validate, Test and Experiment"
   ]
  },
  {
   "cell_type": "code",
   "execution_count": 46,
   "id": "98edbc64",
   "metadata": {
    "ExecuteTime": {
     "end_time": "2022-02-08T01:06:59.943333Z",
     "start_time": "2022-02-08T01:06:59.930367Z"
    }
   },
   "outputs": [],
   "source": [
    "def train(net, partition, optimizer, criterion, args):\n",
    "    trainloader = torch.utils.data.DataLoader(partition['train'], \n",
    "                                              batch_size=args.train_batch_size, \n",
    "                                              shuffle=True, num_workers=2)\n",
    "    net.train()\n",
    "\n",
    "    correct = 0\n",
    "    total = 0\n",
    "    train_loss = 0.0\n",
    "    for i, data in enumerate(trainloader, 0):\n",
    "        optimizer.zero_grad() # [21.01.05 오류 수정] 매 Epoch 마다 .zero_grad()가 실행되는 것을 매 iteration 마다 실행되도록 수정했습니다. \n",
    "\n",
    "        # get the inputs\n",
    "        inputs, labels = data\n",
    "        inputs = inputs.view(-1, 3072)\n",
    "        inputs = inputs.cuda()\n",
    "        labels = labels.cuda()\n",
    "        outputs = net(inputs)\n",
    "\n",
    "        loss = criterion(outputs, labels)\n",
    "        loss.backward()\n",
    "        optimizer.step()\n",
    "\n",
    "        train_loss += loss.item()\n",
    "        _, predicted = torch.max(outputs.data, 1)\n",
    "        total += labels.size(0)\n",
    "        correct += (predicted == labels).sum().item()\n",
    "\n",
    "    train_loss = train_loss / len(trainloader)\n",
    "    train_acc = 100 * correct / total\n",
    "    return net, train_loss, train_acc"
   ]
  },
  {
   "cell_type": "code",
   "execution_count": 47,
   "id": "bb4514bd",
   "metadata": {
    "ExecuteTime": {
     "end_time": "2022-02-08T01:07:04.465313Z",
     "start_time": "2022-02-08T01:07:04.457334Z"
    }
   },
   "outputs": [],
   "source": [
    "def validate(net, partition, criterion, args):\n",
    "    valloader = torch.utils.data.DataLoader(partition['val'], \n",
    "                                            batch_size=args.test_batch_size, \n",
    "                                            shuffle=False, num_workers=2)\n",
    "    net.eval()\n",
    "\n",
    "    correct = 0\n",
    "    total = 0\n",
    "    val_loss = 0 \n",
    "    with torch.no_grad():\n",
    "        for data in valloader:\n",
    "            images, labels = data\n",
    "            images = images.view(-1, 3072)\n",
    "            images = images.cuda()\n",
    "            labels = labels.cuda()\n",
    "            outputs = net(images)\n",
    "\n",
    "            loss = criterion(outputs, labels)\n",
    "            \n",
    "            val_loss += loss.item()\n",
    "            _, predicted = torch.max(outputs.data, 1)\n",
    "            total += labels.size(0)\n",
    "            correct += (predicted == labels).sum().item()\n",
    "\n",
    "        val_loss = val_loss / len(valloader)\n",
    "        val_acc = 100 * correct / total\n",
    "    return val_loss, val_acc"
   ]
  },
  {
   "cell_type": "code",
   "execution_count": 48,
   "id": "43444645",
   "metadata": {
    "ExecuteTime": {
     "end_time": "2022-02-08T01:07:09.571784Z",
     "start_time": "2022-02-08T01:07:09.553833Z"
    }
   },
   "outputs": [],
   "source": [
    "def test(net, partition, args):\n",
    "    testloader = torch.utils.data.DataLoader(partition['test'], \n",
    "                                             batch_size=args.test_batch_size, \n",
    "                                             shuffle=False, num_workers=2)\n",
    "    net.eval()\n",
    "    \n",
    "    correct = 0\n",
    "    total = 0\n",
    "    with torch.no_grad():\n",
    "        for data in testloader:\n",
    "            images, labels = data\n",
    "            images = images.view(-1, 3072)\n",
    "            images = images.cuda()\n",
    "            labels = labels.cuda()\n",
    "\n",
    "            outputs = net(images)\n",
    "            _, predicted = torch.max(outputs.data, 1)\n",
    "            total += labels.size(0)\n",
    "            correct += (predicted == labels).sum().item()\n",
    "\n",
    "        test_acc = 100 * correct / total\n",
    "    return test_acc"
   ]
  },
  {
   "cell_type": "code",
   "execution_count": 49,
   "id": "5a762dbc",
   "metadata": {
    "ExecuteTime": {
     "end_time": "2022-02-08T01:07:16.144794Z",
     "start_time": "2022-02-08T01:07:16.130831Z"
    }
   },
   "outputs": [],
   "source": [
    "def experiment(partition, args):\n",
    "  \n",
    "    net = MLP(args.in_dim, args.out_dim, args.hid_dim, args.n_layer, args.act, args.dropout, args.use_bn, args.use_xavier)\n",
    "    net.cuda()\n",
    "\n",
    "    criterion = nn.CrossEntropyLoss()\n",
    "    if args.optim == 'SGD':\n",
    "        optimizer = optim.RMSprop(net.parameters(), lr=args.lr, weight_decay=args.l2)\n",
    "    elif args.optim == 'RMSprop':\n",
    "        optimizer = optim.RMSprop(net.parameters(), lr=args.lr, weight_decay=args.l2)\n",
    "    elif args.optim == 'Adam':\n",
    "        optimizer = optim.Adam(net.parameters(), lr=args.lr, weight_decay=args.l2)\n",
    "    else:\n",
    "        raise ValueError('In-valid optimizer choice')\n",
    "    \n",
    "    # ===== List for epoch-wise data ====== #\n",
    "    train_losses = [] # s 붙은건 list 나타내기 위함 \n",
    "    val_losses = []\n",
    "    train_accs = []\n",
    "    val_accs = []\n",
    "    # ===================================== #\n",
    "        \n",
    "    for epoch in range(args.epoch):  # loop over the dataset multiple times\n",
    "        ts = time.time()\n",
    "        net, train_loss, train_acc = train(net, partition, optimizer, criterion, args)\n",
    "        val_loss, val_acc = validate(net, partition, criterion, args)\n",
    "        te = time.time()\n",
    "        \n",
    "        # ====== Add Epoch Data ====== #\n",
    "        train_losses.append(train_loss)\n",
    "        val_losses.append(val_loss)\n",
    "        train_accs.append(train_acc)\n",
    "        val_accs.append(val_acc)\n",
    "        # ============================ #\n",
    "        \n",
    "        print('Epoch {}, Acc(train/val): {:2.2f}/{:2.2f}, Loss(train/val) {:2.2f}/{:2.2f}. Took {:2.2f} sec'.format(epoch, train_acc, val_acc, train_loss, val_loss, te-ts))\n",
    "        \n",
    "    test_acc = test(net, partition, args)    \n",
    "    \n",
    "    # ======= Add Result to Dictionary ======= #\n",
    "    result = {}\n",
    "    result['train_losses'] = train_losses\n",
    "    result['val_losses'] = val_losses\n",
    "    result['train_accs'] = train_accs\n",
    "    result['val_accs'] = val_accs\n",
    "    result['train_acc'] = train_acc\n",
    "    result['val_acc'] = val_acc\n",
    "    result['test_acc'] = test_acc\n",
    "    return vars(args), result #args를 vars로 감싸면 dictionary가 됨 \n",
    "    # ===================================== #"
   ]
  },
  {
   "cell_type": "markdown",
   "id": "489d810f",
   "metadata": {},
   "source": [
    "## Manage Experiment Result"
   ]
  },
  {
   "cell_type": "code",
   "execution_count": 50,
   "id": "ed1a3dad",
   "metadata": {
    "ExecuteTime": {
     "end_time": "2022-02-08T01:07:38.460836Z",
     "start_time": "2022-02-08T01:07:38.450863Z"
    }
   },
   "outputs": [],
   "source": [
    "import hashlib\n",
    "import json\n",
    "from os import listdir\n",
    "from os.path import isfile, join\n",
    "import pandas as pd\n",
    "\n",
    "def save_exp_result(setting, result):\n",
    "    exp_name = setting['exp_name']\n",
    "    del setting['epoch'] # del: 지우기, epoch이 바뀌어도 다른파일이 생기지 않도록 하기 위해 지움  \n",
    "    del setting['test_batch_size'] # test_batch_size가 바뀌어도 다른파일이 생기 않도록 하기 위해 지움 \n",
    "\n",
    "    hash_key = hashlib.sha1(str(setting).encode()).hexdigest()[:6]\n",
    "    filename = './results/{}-{}.json'.format(exp_name, hash_key)\n",
    "    result.update(setting) # 실험결과 뿐만아니라 셋팅도 저장해야하므로 셋팅 dictionary를 합치는 문법 \n",
    "    with open(filename, 'w') as f:\n",
    "        json.dump(result, f)\n",
    "\n",
    "    \n",
    "def load_exp_result(exp_name):\n",
    "    dir_path = './results'\n",
    "    filenames = [f for f in listdir(dir_path) if isfile(join(dir_path, f)) if '.json' in f]\n",
    "    list_result = []\n",
    "    for filename in filenames:\n",
    "        if exp_name in filename:\n",
    "            with open(join(dir_path, filename), 'r') as infile:\n",
    "                results = json.load(infile)\n",
    "                list_result.append(results)\n",
    "    df = pd.DataFrame(list_result) # .drop(columns=[])\n",
    "    return df\n",
    "    "
   ]
  },
  {
   "cell_type": "markdown",
   "id": "7744b9fb",
   "metadata": {},
   "source": [
    "## Experiment"
   ]
  },
  {
   "cell_type": "code",
   "execution_count": 51,
   "id": "3b929767",
   "metadata": {
    "ExecuteTime": {
     "end_time": "2022-02-08T01:17:23.897119Z",
     "start_time": "2022-02-08T01:08:32.649807Z"
    }
   },
   "outputs": [
    {
     "name": "stdout",
     "output_type": "stream",
     "text": [
      "Namespace(act='relu', dropout=0.2, epoch=10, exp_name='exp1_n_layer_hid_dim', hid_dim=500, in_dim=3072, l2=1e-05, lr=0.0015, n_layer=1, optim='RMSprop', out_dim=10, test_batch_size=1024, train_batch_size=256, use_bn=True, use_xavier=True)\n",
      "Epoch 0, Acc(train/val): 37.95/38.28, Loss(train/val) 2.41/1.86. Took 9.67 sec\n",
      "Epoch 1, Acc(train/val): 45.77/39.33, Loss(train/val) 1.57/2.06. Took 8.48 sec\n",
      "Epoch 2, Acc(train/val): 48.97/43.76, Loss(train/val) 1.49/1.70. Took 8.48 sec\n",
      "Epoch 3, Acc(train/val): 51.00/42.82, Loss(train/val) 1.43/1.77. Took 8.50 sec\n",
      "Epoch 4, Acc(train/val): 52.98/41.40, Loss(train/val) 1.37/2.11. Took 8.50 sec\n",
      "Epoch 5, Acc(train/val): 54.94/48.03, Loss(train/val) 1.33/1.59. Took 8.65 sec\n",
      "Epoch 6, Acc(train/val): 56.63/40.51, Loss(train/val) 1.27/2.37. Took 8.61 sec\n",
      "Epoch 7, Acc(train/val): 58.45/40.84, Loss(train/val) 1.22/2.24. Took 8.59 sec\n",
      "Epoch 8, Acc(train/val): 59.97/43.57, Loss(train/val) 1.20/2.03. Took 8.54 sec\n",
      "Epoch 9, Acc(train/val): 61.17/43.84, Loss(train/val) 1.15/1.99. Took 8.53 sec\n",
      "Namespace(act='relu', dropout=0.2, epoch=10, exp_name='exp1_n_layer_hid_dim', hid_dim=300, in_dim=3072, l2=1e-05, lr=0.0015, n_layer=1, optim='RMSprop', out_dim=10, test_batch_size=1024, train_batch_size=256, use_bn=True, use_xavier=True)\n",
      "Epoch 0, Acc(train/val): 38.01/41.72, Loss(train/val) 2.24/1.70. Took 8.47 sec\n",
      "Epoch 1, Acc(train/val): 46.62/41.07, Loss(train/val) 1.53/1.77. Took 8.46 sec\n",
      "Epoch 2, Acc(train/val): 48.86/39.74, Loss(train/val) 1.47/1.97. Took 8.45 sec\n",
      "Epoch 3, Acc(train/val): 51.61/42.29, Loss(train/val) 1.41/1.82. Took 8.44 sec\n",
      "Epoch 4, Acc(train/val): 53.75/36.22, Loss(train/val) 1.34/2.43. Took 8.44 sec\n",
      "Epoch 5, Acc(train/val): 55.63/44.06, Loss(train/val) 1.30/1.73. Took 8.45 sec\n",
      "Epoch 6, Acc(train/val): 57.28/42.75, Loss(train/val) 1.25/1.85. Took 8.46 sec\n",
      "Epoch 7, Acc(train/val): 58.99/46.56, Loss(train/val) 1.19/1.74. Took 8.47 sec\n",
      "Epoch 8, Acc(train/val): 60.42/47.24, Loss(train/val) 1.16/1.79. Took 8.53 sec\n",
      "Epoch 9, Acc(train/val): 61.65/44.35, Loss(train/val) 1.13/1.86. Took 8.69 sec\n",
      "Namespace(act='relu', dropout=0.2, epoch=10, exp_name='exp1_n_layer_hid_dim', hid_dim=500, in_dim=3072, l2=1e-05, lr=0.0015, n_layer=2, optim='RMSprop', out_dim=10, test_batch_size=1024, train_batch_size=256, use_bn=True, use_xavier=True)\n",
      "Epoch 0, Acc(train/val): 36.92/38.32, Loss(train/val) 1.79/1.76. Took 9.37 sec\n",
      "Epoch 1, Acc(train/val): 45.57/43.42, Loss(train/val) 1.52/1.61. Took 8.65 sec\n",
      "Epoch 2, Acc(train/val): 50.23/47.60, Loss(train/val) 1.40/1.51. Took 8.61 sec\n",
      "Epoch 3, Acc(train/val): 52.83/47.79, Loss(train/val) 1.33/1.53. Took 8.67 sec\n",
      "Epoch 4, Acc(train/val): 55.32/49.58, Loss(train/val) 1.26/1.47. Took 8.93 sec\n",
      "Epoch 5, Acc(train/val): 57.43/50.80, Loss(train/val) 1.19/1.45. Took 8.65 sec\n",
      "Epoch 6, Acc(train/val): 60.18/47.55, Loss(train/val) 1.13/1.71. Took 8.54 sec\n",
      "Epoch 7, Acc(train/val): 62.00/51.36, Loss(train/val) 1.07/1.47. Took 8.66 sec\n",
      "Epoch 8, Acc(train/val): 64.41/51.18, Loss(train/val) 1.00/1.48. Took 8.60 sec\n",
      "Epoch 9, Acc(train/val): 66.28/49.58, Loss(train/val) 0.95/1.57. Took 8.70 sec\n",
      "Namespace(act='relu', dropout=0.2, epoch=10, exp_name='exp1_n_layer_hid_dim', hid_dim=300, in_dim=3072, l2=1e-05, lr=0.0015, n_layer=2, optim='RMSprop', out_dim=10, test_batch_size=1024, train_batch_size=256, use_bn=True, use_xavier=True)\n",
      "Epoch 0, Acc(train/val): 37.49/37.70, Loss(train/val) 1.75/1.76. Took 8.57 sec\n",
      "Epoch 1, Acc(train/val): 46.11/45.48, Loss(train/val) 1.51/1.56. Took 8.62 sec\n",
      "Epoch 2, Acc(train/val): 50.06/46.00, Loss(train/val) 1.40/1.57. Took 8.63 sec\n",
      "Epoch 3, Acc(train/val): 52.57/48.35, Loss(train/val) 1.34/1.50. Took 8.58 sec\n",
      "Epoch 4, Acc(train/val): 54.97/49.44, Loss(train/val) 1.26/1.49. Took 8.82 sec\n",
      "Epoch 5, Acc(train/val): 57.26/50.47, Loss(train/val) 1.20/1.44. Took 8.65 sec\n",
      "Epoch 6, Acc(train/val): 59.30/50.34, Loss(train/val) 1.15/1.51. Took 8.48 sec\n",
      "Epoch 7, Acc(train/val): 61.52/50.85, Loss(train/val) 1.09/1.53. Took 8.49 sec\n",
      "Epoch 8, Acc(train/val): 62.81/52.18, Loss(train/val) 1.04/1.46. Took 8.43 sec\n",
      "Epoch 9, Acc(train/val): 65.08/46.89, Loss(train/val) 0.99/1.82. Took 8.50 sec\n",
      "Namespace(act='relu', dropout=0.2, epoch=10, exp_name='exp1_n_layer_hid_dim', hid_dim=500, in_dim=3072, l2=1e-05, lr=0.0015, n_layer=3, optim='RMSprop', out_dim=10, test_batch_size=1024, train_batch_size=256, use_bn=True, use_xavier=True)\n",
      "Epoch 0, Acc(train/val): 36.19/37.44, Loss(train/val) 1.82/1.80. Took 8.43 sec\n",
      "Epoch 1, Acc(train/val): 45.40/43.49, Loss(train/val) 1.52/1.60. Took 8.43 sec\n",
      "Epoch 2, Acc(train/val): 49.55/41.08, Loss(train/val) 1.40/1.73. Took 8.52 sec\n",
      "Epoch 3, Acc(train/val): 52.57/44.03, Loss(train/val) 1.32/1.67. Took 8.45 sec\n",
      "Epoch 4, Acc(train/val): 55.27/49.28, Loss(train/val) 1.25/1.44. Took 8.44 sec\n",
      "Epoch 5, Acc(train/val): 57.68/49.83, Loss(train/val) 1.19/1.48. Took 8.51 sec\n",
      "Epoch 6, Acc(train/val): 60.00/50.66, Loss(train/val) 1.12/1.41. Took 8.63 sec\n",
      "Epoch 7, Acc(train/val): 61.97/50.48, Loss(train/val) 1.06/1.47. Took 8.63 sec\n",
      "Epoch 8, Acc(train/val): 63.97/51.14, Loss(train/val) 1.00/1.51. Took 8.68 sec\n",
      "Epoch 9, Acc(train/val): 66.06/49.15, Loss(train/val) 0.95/1.56. Took 8.60 sec\n",
      "Namespace(act='relu', dropout=0.2, epoch=10, exp_name='exp1_n_layer_hid_dim', hid_dim=300, in_dim=3072, l2=1e-05, lr=0.0015, n_layer=3, optim='RMSprop', out_dim=10, test_batch_size=1024, train_batch_size=256, use_bn=True, use_xavier=True)\n",
      "Epoch 0, Acc(train/val): 36.68/38.88, Loss(train/val) 1.77/1.72. Took 8.70 sec\n",
      "Epoch 1, Acc(train/val): 45.45/43.08, Loss(train/val) 1.52/1.60. Took 8.63 sec\n",
      "Epoch 2, Acc(train/val): 49.43/45.94, Loss(train/val) 1.41/1.53. Took 8.64 sec\n",
      "Epoch 3, Acc(train/val): 51.64/46.74, Loss(train/val) 1.34/1.54. Took 8.59 sec\n",
      "Epoch 4, Acc(train/val): 54.37/49.05, Loss(train/val) 1.27/1.46. Took 8.58 sec\n",
      "Epoch 5, Acc(train/val): 56.53/48.73, Loss(train/val) 1.21/1.48. Took 8.69 sec\n",
      "Epoch 6, Acc(train/val): 58.21/50.38, Loss(train/val) 1.16/1.44. Took 8.65 sec\n",
      "Epoch 7, Acc(train/val): 60.16/49.46, Loss(train/val) 1.11/1.49. Took 8.58 sec\n",
      "Epoch 8, Acc(train/val): 62.17/51.35, Loss(train/val) 1.05/1.44. Took 8.65 sec\n",
      "Epoch 9, Acc(train/val): 63.80/52.17, Loss(train/val) 1.01/1.46. Took 8.59 sec\n"
     ]
    }
   ],
   "source": [
    "# ====== Random Seed Initialization ====== #\n",
    "seed = 123\n",
    "np.random.seed(seed)\n",
    "torch.manual_seed(seed)\n",
    "\n",
    "parser = argparse.ArgumentParser()\n",
    "args = parser.parse_args(\"\")\n",
    "args.exp_name = \"exp1_n_layer_hid_dim\"\n",
    "\n",
    "# ====== Model Capacity ====== #\n",
    "args.in_dim = 3072\n",
    "args.out_dim = 10\n",
    "args.hid_dim = 100\n",
    "args.act = 'relu'\n",
    "\n",
    "# ====== Regularization ======= #\n",
    "args.dropout = 0.2\n",
    "args.use_bn = True\n",
    "args.l2 = 0.00001\n",
    "args.use_xavier = True\n",
    "\n",
    "# ====== Optimizer & Training ====== #\n",
    "args.optim = 'RMSprop' #'RMSprop' #SGD, RMSprop, ADAM...\n",
    "args.lr = 0.0015\n",
    "args.epoch = 10\n",
    "\n",
    "args.train_batch_size = 256\n",
    "args.test_batch_size = 1024\n",
    "\n",
    "# ====== Experiment Variable ====== #\n",
    "name_var1 = 'n_layer'\n",
    "name_var2 = 'hid_dim'\n",
    "list_var1 = [1, 2, 3]\n",
    "list_var2 = [500, 300]\n",
    "\n",
    "\n",
    "for var1 in list_var1:\n",
    "    for var2 in list_var2:\n",
    "        setattr(args, name_var1, var1) # 실험변수명 자동화 처리 되도록 하는 구문, string attribute 값 지정되면 그 항목값으로 지정 \n",
    "        setattr(args, name_var2, var2)\n",
    "        print(args)\n",
    "                \n",
    "        setting, result = experiment(partition, deepcopy(args))\n",
    "        save_exp_result(setting, result)"
   ]
  },
  {
   "cell_type": "code",
   "execution_count": 65,
   "id": "0f88a985",
   "metadata": {
    "ExecuteTime": {
     "end_time": "2022-02-08T01:37:56.869472Z",
     "start_time": "2022-02-08T01:37:56.764753Z"
    }
   },
   "outputs": [
    {
     "name": "stdout",
     "output_type": "stream",
     "text": [
      " D 드라이브의 볼륨에는 이름이 없습니다.\n",
      " 볼륨 일련 번호: 888F-C745\n",
      "\n",
      " D:\\OneDrive\\Python\\study\\pytorch\\results 디렉터리\n",
      "\n",
      "2022-02-08  오전 10:17    <DIR>          .\n",
      "2022-02-08  오전 10:17    <DIR>          ..\n",
      "2022-02-08  오전 10:17               905 exp1_n_layer_hid_dim-41b634.json\n",
      "2022-02-08  오전 10:11               906 exp1_n_layer_hid_dim-61a2d0.json\n",
      "2022-02-08  오전 10:10               901 exp1_n_layer_hid_dim-7b70fe.json\n",
      "2022-02-08  오전 10:15               902 exp1_n_layer_hid_dim-bfc899.json\n",
      "2022-02-08  오전 10:14               901 exp1_n_layer_hid_dim-cab8c1.json\n",
      "2022-02-08  오전 10:12               897 exp1_n_layer_hid_dim-dece45.json\n",
      "               6개 파일               5,412 바이트\n",
      "               2개 디렉터리  1,848,548,720,640 바이트 남음\n"
     ]
    }
   ],
   "source": [
    "ls results"
   ]
  },
  {
   "cell_type": "code",
   "execution_count": 69,
   "id": "c7c6ed94",
   "metadata": {
    "ExecuteTime": {
     "end_time": "2022-02-08T01:38:51.652841Z",
     "start_time": "2022-02-08T01:38:51.549119Z"
    }
   },
   "outputs": [
    {
     "name": "stdout",
     "output_type": "stream",
     "text": [
      "{\"train_losses\": [1.7703359157416472, 1.5173391453020133, 1.412305544895731, 1.3352290809534157, 1.2731504721246707, 1.205365524170505, 1.1610933508083319, 1.1071019924370347, 1.0524941090565578, 1.0076771219065235], \"val_losses\": [1.7171745538711547, 1.5968339085578918, 1.5345561027526855, 1.536950957775116, 1.4584163188934327, 1.4793660163879394, 1.4359551072120667, 1.494253146648407, 1.4402814507484436, 1.4559416055679322], \"train_accs\": [36.6775, 45.45, 49.43, 51.6375, 54.365, 56.5325, 58.21, 60.155, 62.17, 63.8025], \"val_accs\": [38.88, 43.08, 45.94, 46.74, 49.05, 48.73, 50.38, 49.46, 51.35, 52.17], \"train_acc\": 63.8025, \"val_acc\": 52.17, \"test_acc\": 51.46, \"exp_name\": \"exp1_n_layer_hid_dim\", \"in_dim\": 3072, \"out_dim\": 10, \"hid_dim\": 300, \"act\": \"relu\", \"dropout\": 0.2, \"use_bn\": true, \"l2\": 1e-05, \"use_xavier\": true, \"optim\": \"RMSprop\", \"lr\": 0.0015, \"train_batch_size\": 256, \"n_layer\": 3}\n"
     ]
    }
   ],
   "source": [
    "!type results\\exp1_n_layer_hid_dim-41b634.json"
   ]
  },
  {
   "cell_type": "code",
   "execution_count": null,
   "id": "429b400b",
   "metadata": {},
   "outputs": [],
   "source": [
    "import seaborn as sns \n",
    "import matplotlib.pyplot as plt\n",
    "\n",
    "df = load_exp_result('exp1')\n",
    "\n",
    "fig, ax = plt.subplots(1, 3)\n",
    "fig.set_size_inches(15, 6)\n",
    "sns.set_style(\"darkgrid\", {\"axes.f\n",
    "                           acecolor\": \".9\"})\n",
    "\n",
    "sns.barplot(x='n_layer', y='train_acc', hue='hid_dim', data=df, ax=ax[0])\n",
    "sns.barplot(x='n_layer', y='val_acc', hue='hid_dim', data=df, ax=ax[1])\n",
    "sns.barplot(x='n_layer', y='test_acc', hue='hid_dim', data=df, ax=ax[2])"
   ]
  },
  {
   "cell_type": "code",
   "execution_count": null,
   "id": "6323fc53",
   "metadata": {},
   "outputs": [],
   "source": [
    "var1 = 'n_layer'\n",
    "var2 = 'hid_dim'\n",
    "\n",
    "df = load_exp_result('exp1')\n",
    "list_v1 = df[var1].unique()\n",
    "list_v2 = df[var2].unique()\n",
    "list_data = []\n",
    "\n",
    "for value1 in list_v1:\n",
    "    for value2 in list_v2:\n",
    "        row = df.loc[df[var1]==value1]\n",
    "        row = row.loc[df[var2]==value2]\n",
    "        \n",
    "        train_losses = list(row.train_losses)[0]\n",
    "        val_losses = list(row.val_losses)[0]\n",
    "        \n",
    "        for epoch, train_loss in enumerate(train_losses):\n",
    "            list_data.append({'type':'train', 'loss':train_loss, 'epoch':epoch, var1:value1, var2:value2})\n",
    "        for epoch, val_loss in enumerate(val_losses):\n",
    "            list_data.append({'type':'val', 'loss':val_loss, 'epoch':epoch, var1:value1, var2:value2})\n",
    "        \n",
    "df = pd.DataFrame(list_data)\n",
    "g = sns.FacetGrid(df, row=var2, col=var1, hue='type', margin_titles=True, sharey=False)\n",
    "g = g.map(plt.plot, 'epoch', 'loss', marker='.')\n",
    "g.add_legend()\n",
    "g.fig.suptitle('Train loss vs Val loss')\n",
    "plt.subplots_adjust(top=0.89)"
   ]
  },
  {
   "cell_type": "code",
   "execution_count": null,
   "id": "27e61c4f",
   "metadata": {},
   "outputs": [],
   "source": [
    "var1 = 'n_layer'\n",
    "var2 = 'hid_dim'\n",
    "\n",
    "df = load_exp_result('exp1')\n",
    "list_v1 = df[var1].unique()\n",
    "list_v2 = df[var2].unique()\n",
    "list_data = []\n",
    "\n",
    "for value1 in list_v1:\n",
    "    for value2 in list_v2:\n",
    "        row = df.loc[df[var1]==value1]\n",
    "        row = row.loc[df[var2]==value2]\n",
    "        \n",
    "        train_accs = list(row.train_accs)[0]\n",
    "        val_accs = list(row.val_accs)[0]\n",
    "        test_acc = list(row.test_acc)[0]\n",
    "        \n",
    "        for epoch, train_acc in enumerate(train_accs):\n",
    "            list_data.append({'type':'train', 'Acc':train_acc, 'test_acc':test_acc, 'epoch':epoch, var1:value1, var2:value2})\n",
    "        for epoch, val_acc in enumerate(val_accs):\n",
    "            list_data.append({'type':'val', 'Acc':val_acc, 'test_acc':test_acc, 'epoch':epoch, var1:value1, var2:value2})\n",
    "        \n",
    "df = pd.DataFrame(list_data)\n",
    "g = sns.FacetGrid(df, row=var2, col=var1, hue='type', margin_titles=True, sharey=False)\n",
    "g = g.map(plt.plot, 'epoch', 'Acc', marker='.')\n",
    "\n",
    "def show_acc(x, y, metric, **kwargs):\n",
    "    plt.scatter(x, y, alpha=0.3, s=1)\n",
    "    metric = \"Test Acc: {:1.3f}\".format(list(metric.values)[0])\n",
    "    plt.text(0.05, 0.95, metric,  horizontalalignment='left', verticalalignment='center', transform=plt.gca().transAxes, bbox=dict(facecolor='yellow', alpha=0.5, boxstyle=\"round,pad=0.1\"))\n",
    "g = g.map(show_acc, 'epoch', 'Acc', 'test_acc')\n",
    "\n",
    "g.add_legend()\n",
    "g.fig.suptitle('Train Accuracy vs Val Accuracy')\n",
    "\n",
    "\n",
    "\n",
    "plt.subplots_adjust(top=0.89)"
   ]
  },
  {
   "cell_type": "code",
   "execution_count": null,
   "id": "139314e5",
   "metadata": {},
   "outputs": [],
   "source": []
  },
  {
   "cell_type": "code",
   "execution_count": 70,
   "id": "4e6f7e0d",
   "metadata": {
    "ExecuteTime": {
     "end_time": "2022-02-08T01:43:34.107165Z",
     "start_time": "2022-02-08T01:43:34.092205Z"
    }
   },
   "outputs": [],
   "source": [
    "results = load_exp_result('exp1')"
   ]
  },
  {
   "cell_type": "code",
   "execution_count": 77,
   "id": "55057a9e",
   "metadata": {
    "ExecuteTime": {
     "end_time": "2022-02-08T01:45:17.674224Z",
     "start_time": "2022-02-08T01:45:17.660262Z"
    }
   },
   "outputs": [
    {
     "data": {
      "text/plain": [
       "pandas.core.frame.DataFrame"
      ]
     },
     "execution_count": 77,
     "metadata": {},
     "output_type": "execute_result"
    }
   ],
   "source": [
    "type(results)"
   ]
  },
  {
   "cell_type": "code",
   "execution_count": 99,
   "id": "4b1b0d3e",
   "metadata": {
    "ExecuteTime": {
     "end_time": "2022-02-08T02:02:47.071713Z",
     "start_time": "2022-02-08T02:02:47.064733Z"
    }
   },
   "outputs": [],
   "source": [
    "\n",
    "a = [{'age': 5, 'gender': 'f', 'score':10, 't':1},\n",
    "     {'age': 6, 'gender': 'm', 'score':9, 't':2},\n",
    "     {'age': 10, 'gender': 'f', 'score':15, 't':2},\n",
    "     {'age': 8, 'gender': 'm', 'score':2, 't':2},\n",
    "     {'age': 3, 'gender': 'f', 'score':33, 't':2},\n",
    "     {'age': 3, 'gender': 'm', 'score':10, 't':2}]\n",
    "df = pd.DataFrame(a)"
   ]
  },
  {
   "cell_type": "code",
   "execution_count": 100,
   "id": "08302381",
   "metadata": {
    "ExecuteTime": {
     "end_time": "2022-02-08T02:02:47.820744Z",
     "start_time": "2022-02-08T02:02:47.696558Z"
    }
   },
   "outputs": [
    {
     "data": {
      "text/plain": [
       "<AxesSubplot:xlabel='age', ylabel='score'>"
      ]
     },
     "execution_count": 100,
     "metadata": {},
     "output_type": "execute_result"
    },
    {
     "data": {
      "image/png": "[encoded data removed]",
      "text/plain": [
       "<Figure size 432x288 with 1 Axes>"
      ]
     },
     "metadata": {
      "needs_background": "light"
     },
     "output_type": "display_data"
    }
   ],
   "source": [
    "import seaborn as sns\n",
    "import matplotlib.pyplot as plt\n",
    "# sns.relplot(x='age', y='gender', data=df)\n",
    "sns.barplot(x='age', y='score', hue = 'gender', data=df) # hue: 범례 (계열)"
   ]
  },
  {
   "cell_type": "code",
   "execution_count": 111,
   "id": "526c45fb",
   "metadata": {
    "ExecuteTime": {
     "end_time": "2022-02-08T02:27:56.099730Z",
     "start_time": "2022-02-08T02:27:55.788563Z"
    }
   },
   "outputs": [
    {
     "data": {
      "text/plain": [
       "<AxesSubplot:xlabel='n_layer', ylabel='test_acc'>"
      ]
     },
     "execution_count": 111,
     "metadata": {},
     "output_type": "execute_result"
    },
    {
     "data": {
      "image/png": "[encoded data removed]",
      "text/plain": [
       "<Figure size 864x288 with 3 Axes>"
      ]
     },
     "metadata": {},
     "output_type": "display_data"
    }
   ],
   "source": [
    "results = load_exp_result('exp1')\n",
    "\n",
    "\n",
    "fig, ax = plt.subplots(1,3)\n",
    "fig.set_size_inches(12,4)\n",
    "sns.set_style(\"darkgrid\", {\"axes.facecolor\": \".9\"})\n",
    "\n",
    "sns.barplot(x='n_layer', y='train_acc', hue = 'hid_dim', data=results, ax=ax[0]) \n",
    "sns.barplot(x='n_layer', y='val_acc', hue = 'hid_dim', data=results, ax=ax[1]) \n",
    "sns.barplot(x='n_layer', y='test_acc', hue = 'hid_dim', data=results, ax=ax[2]) "
   ]
  },
  {
   "cell_type": "code",
   "execution_count": 117,
   "id": "5dfdcd4f",
   "metadata": {
    "ExecuteTime": {
     "end_time": "2022-02-08T02:35:32.084209Z",
     "start_time": "2022-02-08T02:35:31.243945Z"
    }
   },
   "outputs": [
    {
     "data": {
      "image/png": "[encoded data removed]",
      "text/plain": [
       "<Figure size 703.75x432 with 6 Axes>"
      ]
     },
     "metadata": {},
     "output_type": "display_data"
    }
   ],
   "source": [
    "# Epoch에 따른 loss 변화\n",
    "\n",
    "var1 = 'n_layer'\n",
    "var2 = 'hid_dim'\n",
    "\n",
    "df = load_exp_result('exp1')\n",
    "list_v1 = df[var1].unique()\n",
    "list_v2 = df[var2].unique()\n",
    "list_data = []\n",
    "\n",
    "for value1 in list_v1:\n",
    "    for value2 in list_v2:\n",
    "        row = df.loc[df[var1]==value1]\n",
    "        row = row.loc[df[var2]==value2] # 2줄 거치면 json의 row 하나 출력\n",
    "        \n",
    "        train_losses = list(row.train_losses)[0]\n",
    "        val_losses = list(row.val_losses)[0]\n",
    "        \n",
    "        for epoch, train_loss in enumerate(train_losses):\n",
    "            list_data.append({'type':'train', 'loss':train_loss, 'epoch':epoch, var1:value1, var2:value2})\n",
    "        for epoch, val_loss in enumerate(val_losses):\n",
    "            list_data.append({'type':'val', 'loss':val_loss, 'epoch':epoch, var1:value1, var2:value2})\n",
    "        \n",
    "df = pd.DataFrame(list_data)\n",
    "# FacetGrid : 5차원 데이터 표현 핵심 \n",
    "# row에는 hid_dim, col에서 n_layer 달라지게함\n",
    "g = sns.FacetGrid(df, row=var2, col=var1, hue='type', margin_titles=True, sharey=False) \n",
    "# g.map : epoch, loss에 대한 내용으로 각각의 subplot 실행, \n",
    "g = g.map(plt.plot, 'epoch', 'loss', marker='.')\n",
    "g.add_legend()\n",
    "g.fig.suptitle('Train loss vs Val loss')\n",
    "plt.subplots_adjust(top=0.89)"
   ]
  },
  {
   "cell_type": "code",
   "execution_count": 121,
   "id": "4dea6862",
   "metadata": {
    "ExecuteTime": {
     "end_time": "2022-02-08T03:15:17.143430Z",
     "start_time": "2022-02-08T03:15:16.456270Z"
    }
   },
   "outputs": [
    {
     "ename": "KeyError",
     "evalue": "\"['val_acc'] not in index\"",
     "output_type": "error",
     "traceback": [
      "\u001b[1;31m---------------------------------------------------------------------------\u001b[0m",
      "\u001b[1;31mKeyError\u001b[0m                                  Traceback (most recent call last)",
      "\u001b[1;32m<ipython-input-121-20446e686255>\u001b[0m in \u001b[0;36m<module>\u001b[1;34m\u001b[0m\n\u001b[0;32m     31\u001b[0m     \u001b[0mmetric\u001b[0m \u001b[1;33m=\u001b[0m \u001b[1;34m\"Val Acc: {:1.3f}\"\u001b[0m\u001b[1;33m.\u001b[0m\u001b[0mformat\u001b[0m\u001b[1;33m(\u001b[0m\u001b[0mlist\u001b[0m\u001b[1;33m(\u001b[0m\u001b[0mmetric\u001b[0m\u001b[1;33m.\u001b[0m\u001b[0mvalues\u001b[0m\u001b[1;33m)\u001b[0m\u001b[1;33m[\u001b[0m\u001b[1;36m0\u001b[0m\u001b[1;33m]\u001b[0m\u001b[1;33m)\u001b[0m\u001b[1;33m\u001b[0m\u001b[1;33m\u001b[0m\u001b[0m\n\u001b[0;32m     32\u001b[0m     \u001b[0mplt\u001b[0m\u001b[1;33m.\u001b[0m\u001b[0mtext\u001b[0m\u001b[1;33m(\u001b[0m\u001b[1;36m0.05\u001b[0m\u001b[1;33m,\u001b[0m \u001b[1;36m0.95\u001b[0m\u001b[1;33m,\u001b[0m \u001b[0mmetric\u001b[0m\u001b[1;33m,\u001b[0m  \u001b[0mhorizontalalignment\u001b[0m\u001b[1;33m=\u001b[0m\u001b[1;34m'left'\u001b[0m\u001b[1;33m,\u001b[0m \u001b[0mverticalalignment\u001b[0m\u001b[1;33m=\u001b[0m\u001b[1;34m'center'\u001b[0m\u001b[1;33m,\u001b[0m \u001b[0mtransform\u001b[0m\u001b[1;33m=\u001b[0m\u001b[0mplt\u001b[0m\u001b[1;33m.\u001b[0m\u001b[0mgca\u001b[0m\u001b[1;33m(\u001b[0m\u001b[1;33m)\u001b[0m\u001b[1;33m.\u001b[0m\u001b[0mtransAxes\u001b[0m\u001b[1;33m,\u001b[0m \u001b[0mbbox\u001b[0m\u001b[1;33m=\u001b[0m\u001b[0mdict\u001b[0m\u001b[1;33m(\u001b[0m\u001b[0mfacecolor\u001b[0m\u001b[1;33m=\u001b[0m\u001b[1;34m'yellow'\u001b[0m\u001b[1;33m,\u001b[0m \u001b[0malpha\u001b[0m\u001b[1;33m=\u001b[0m\u001b[1;36m0.5\u001b[0m\u001b[1;33m,\u001b[0m \u001b[0mboxstyle\u001b[0m\u001b[1;33m=\u001b[0m\u001b[1;34m\"round,pad=0.1\"\u001b[0m\u001b[1;33m)\u001b[0m\u001b[1;33m)\u001b[0m\u001b[1;33m\u001b[0m\u001b[1;33m\u001b[0m\u001b[0m\n\u001b[1;32m---> 33\u001b[1;33m \u001b[0mg\u001b[0m \u001b[1;33m=\u001b[0m \u001b[0mg\u001b[0m\u001b[1;33m.\u001b[0m\u001b[0mmap\u001b[0m\u001b[1;33m(\u001b[0m\u001b[0mshow_acc\u001b[0m\u001b[1;33m,\u001b[0m \u001b[1;34m'epoch'\u001b[0m\u001b[1;33m,\u001b[0m \u001b[1;34m'Acc'\u001b[0m\u001b[1;33m,\u001b[0m \u001b[1;34m'val_acc'\u001b[0m\u001b[1;33m)\u001b[0m\u001b[1;33m\u001b[0m\u001b[1;33m\u001b[0m\u001b[0m\n\u001b[0m\u001b[0;32m     34\u001b[0m \u001b[1;33m\u001b[0m\u001b[0m\n\u001b[0;32m     35\u001b[0m \u001b[0mg\u001b[0m\u001b[1;33m.\u001b[0m\u001b[0madd_legend\u001b[0m\u001b[1;33m(\u001b[0m\u001b[1;33m)\u001b[0m\u001b[1;33m\u001b[0m\u001b[1;33m\u001b[0m\u001b[0m\n",
      "\u001b[1;32m~\\anaconda3\\envs\\pytorch\\lib\\site-packages\\seaborn\\axisgrid.py\u001b[0m in \u001b[0;36mmap\u001b[1;34m(self, func, *args, **kwargs)\u001b[0m\n\u001b[0;32m    698\u001b[0m \u001b[1;33m\u001b[0m\u001b[0m\n\u001b[0;32m    699\u001b[0m             \u001b[1;31m# Get the actual data we are going to plot with\u001b[0m\u001b[1;33m\u001b[0m\u001b[1;33m\u001b[0m\u001b[1;33m\u001b[0m\u001b[0m\n\u001b[1;32m--> 700\u001b[1;33m             \u001b[0mplot_data\u001b[0m \u001b[1;33m=\u001b[0m \u001b[0mdata_ijk\u001b[0m\u001b[1;33m[\u001b[0m\u001b[0mlist\u001b[0m\u001b[1;33m(\u001b[0m\u001b[0margs\u001b[0m\u001b[1;33m)\u001b[0m\u001b[1;33m]\u001b[0m\u001b[1;33m\u001b[0m\u001b[1;33m\u001b[0m\u001b[0m\n\u001b[0m\u001b[0;32m    701\u001b[0m             \u001b[1;32mif\u001b[0m \u001b[0mself\u001b[0m\u001b[1;33m.\u001b[0m\u001b[0m_dropna\u001b[0m\u001b[1;33m:\u001b[0m\u001b[1;33m\u001b[0m\u001b[1;33m\u001b[0m\u001b[0m\n\u001b[0;32m    702\u001b[0m                 \u001b[0mplot_data\u001b[0m \u001b[1;33m=\u001b[0m \u001b[0mplot_data\u001b[0m\u001b[1;33m.\u001b[0m\u001b[0mdropna\u001b[0m\u001b[1;33m(\u001b[0m\u001b[1;33m)\u001b[0m\u001b[1;33m\u001b[0m\u001b[1;33m\u001b[0m\u001b[0m\n",
      "\u001b[1;32m~\\anaconda3\\envs\\pytorch\\lib\\site-packages\\pandas\\core\\frame.py\u001b[0m in \u001b[0;36m__getitem__\u001b[1;34m(self, key)\u001b[0m\n\u001b[0;32m   3028\u001b[0m             \u001b[1;32mif\u001b[0m \u001b[0mis_iterator\u001b[0m\u001b[1;33m(\u001b[0m\u001b[0mkey\u001b[0m\u001b[1;33m)\u001b[0m\u001b[1;33m:\u001b[0m\u001b[1;33m\u001b[0m\u001b[1;33m\u001b[0m\u001b[0m\n\u001b[0;32m   3029\u001b[0m                 \u001b[0mkey\u001b[0m \u001b[1;33m=\u001b[0m \u001b[0mlist\u001b[0m\u001b[1;33m(\u001b[0m\u001b[0mkey\u001b[0m\u001b[1;33m)\u001b[0m\u001b[1;33m\u001b[0m\u001b[1;33m\u001b[0m\u001b[0m\n\u001b[1;32m-> 3030\u001b[1;33m             \u001b[0mindexer\u001b[0m \u001b[1;33m=\u001b[0m \u001b[0mself\u001b[0m\u001b[1;33m.\u001b[0m\u001b[0mloc\u001b[0m\u001b[1;33m.\u001b[0m\u001b[0m_get_listlike_indexer\u001b[0m\u001b[1;33m(\u001b[0m\u001b[0mkey\u001b[0m\u001b[1;33m,\u001b[0m \u001b[0maxis\u001b[0m\u001b[1;33m=\u001b[0m\u001b[1;36m1\u001b[0m\u001b[1;33m,\u001b[0m \u001b[0mraise_missing\u001b[0m\u001b[1;33m=\u001b[0m\u001b[1;32mTrue\u001b[0m\u001b[1;33m)\u001b[0m\u001b[1;33m[\u001b[0m\u001b[1;36m1\u001b[0m\u001b[1;33m]\u001b[0m\u001b[1;33m\u001b[0m\u001b[1;33m\u001b[0m\u001b[0m\n\u001b[0m\u001b[0;32m   3031\u001b[0m \u001b[1;33m\u001b[0m\u001b[0m\n\u001b[0;32m   3032\u001b[0m         \u001b[1;31m# take() does not accept boolean indexers\u001b[0m\u001b[1;33m\u001b[0m\u001b[1;33m\u001b[0m\u001b[1;33m\u001b[0m\u001b[0m\n",
      "\u001b[1;32m~\\anaconda3\\envs\\pytorch\\lib\\site-packages\\pandas\\core\\indexing.py\u001b[0m in \u001b[0;36m_get_listlike_indexer\u001b[1;34m(self, key, axis, raise_missing)\u001b[0m\n\u001b[0;32m   1264\u001b[0m             \u001b[0mkeyarr\u001b[0m\u001b[1;33m,\u001b[0m \u001b[0mindexer\u001b[0m\u001b[1;33m,\u001b[0m \u001b[0mnew_indexer\u001b[0m \u001b[1;33m=\u001b[0m \u001b[0max\u001b[0m\u001b[1;33m.\u001b[0m\u001b[0m_reindex_non_unique\u001b[0m\u001b[1;33m(\u001b[0m\u001b[0mkeyarr\u001b[0m\u001b[1;33m)\u001b[0m\u001b[1;33m\u001b[0m\u001b[1;33m\u001b[0m\u001b[0m\n\u001b[0;32m   1265\u001b[0m \u001b[1;33m\u001b[0m\u001b[0m\n\u001b[1;32m-> 1266\u001b[1;33m         \u001b[0mself\u001b[0m\u001b[1;33m.\u001b[0m\u001b[0m_validate_read_indexer\u001b[0m\u001b[1;33m(\u001b[0m\u001b[0mkeyarr\u001b[0m\u001b[1;33m,\u001b[0m \u001b[0mindexer\u001b[0m\u001b[1;33m,\u001b[0m \u001b[0maxis\u001b[0m\u001b[1;33m,\u001b[0m \u001b[0mraise_missing\u001b[0m\u001b[1;33m=\u001b[0m\u001b[0mraise_missing\u001b[0m\u001b[1;33m)\u001b[0m\u001b[1;33m\u001b[0m\u001b[1;33m\u001b[0m\u001b[0m\n\u001b[0m\u001b[0;32m   1267\u001b[0m         \u001b[1;32mreturn\u001b[0m \u001b[0mkeyarr\u001b[0m\u001b[1;33m,\u001b[0m \u001b[0mindexer\u001b[0m\u001b[1;33m\u001b[0m\u001b[1;33m\u001b[0m\u001b[0m\n\u001b[0;32m   1268\u001b[0m \u001b[1;33m\u001b[0m\u001b[0m\n",
      "\u001b[1;32m~\\anaconda3\\envs\\pytorch\\lib\\site-packages\\pandas\\core\\indexing.py\u001b[0m in \u001b[0;36m_validate_read_indexer\u001b[1;34m(self, key, indexer, axis, raise_missing)\u001b[0m\n\u001b[0;32m   1314\u001b[0m             \u001b[1;32mif\u001b[0m \u001b[0mraise_missing\u001b[0m\u001b[1;33m:\u001b[0m\u001b[1;33m\u001b[0m\u001b[1;33m\u001b[0m\u001b[0m\n\u001b[0;32m   1315\u001b[0m                 \u001b[0mnot_found\u001b[0m \u001b[1;33m=\u001b[0m \u001b[0mlist\u001b[0m\u001b[1;33m(\u001b[0m\u001b[0mset\u001b[0m\u001b[1;33m(\u001b[0m\u001b[0mkey\u001b[0m\u001b[1;33m)\u001b[0m \u001b[1;33m-\u001b[0m \u001b[0mset\u001b[0m\u001b[1;33m(\u001b[0m\u001b[0max\u001b[0m\u001b[1;33m)\u001b[0m\u001b[1;33m)\u001b[0m\u001b[1;33m\u001b[0m\u001b[1;33m\u001b[0m\u001b[0m\n\u001b[1;32m-> 1316\u001b[1;33m                 \u001b[1;32mraise\u001b[0m \u001b[0mKeyError\u001b[0m\u001b[1;33m(\u001b[0m\u001b[1;34mf\"{not_found} not in index\"\u001b[0m\u001b[1;33m)\u001b[0m\u001b[1;33m\u001b[0m\u001b[1;33m\u001b[0m\u001b[0m\n\u001b[0m\u001b[0;32m   1317\u001b[0m \u001b[1;33m\u001b[0m\u001b[0m\n\u001b[0;32m   1318\u001b[0m             \u001b[0mnot_found\u001b[0m \u001b[1;33m=\u001b[0m \u001b[0mkey\u001b[0m\u001b[1;33m[\u001b[0m\u001b[0mmissing_mask\u001b[0m\u001b[1;33m]\u001b[0m\u001b[1;33m\u001b[0m\u001b[1;33m\u001b[0m\u001b[0m\n",
      "\u001b[1;31mKeyError\u001b[0m: \"['val_acc'] not in index\""
     ]
    },
    {
     "data": {
      "image/png": "[encoded data removed]",
      "text/plain": [
       "<Figure size 648x432 with 6 Axes>"
      ]
     },
     "metadata": {},
     "output_type": "display_data"
    }
   ],
   "source": [
    "# Epoch에 따른 accuracy 변화 \n",
    "\n",
    "var1 = 'n_layer'\n",
    "var2 = 'hid_dim'\n",
    "\n",
    "df = load_exp_result('exp1')\n",
    "list_v1 = df[var1].unique()\n",
    "list_v2 = df[var2].unique()\n",
    "list_data = []\n",
    "\n",
    "for value1 in list_v1:\n",
    "    for value2 in list_v2:\n",
    "        row = df.loc[df[var1]==value1]\n",
    "        row = row.loc[df[var2]==value2]\n",
    "        \n",
    "        train_accs = list(row.train_accs)[0]\n",
    "        val_accs = list(row.val_accs)[0]\n",
    "        test_acc = list(row.test_acc)[0]\n",
    "        \n",
    "        for epoch, train_acc in enumerate(train_accs):\n",
    "            list_data.append({'type':'train', 'Acc':train_acc, 'test_acc':test_acc, 'epoch':epoch, var1:value1, var2:value2})\n",
    "        for epoch, val_acc in enumerate(val_accs):\n",
    "            list_data.append({'type':'val', 'Acc':val_acc, 'test_acc':test_acc, 'epoch':epoch, var1:value1, var2:value2})\n",
    "        \n",
    "df = pd.DataFrame(list_data)\n",
    "g = sns.FacetGrid(df, row=var2, col=var1, hue='type', margin_titles=True, sharey=False)\n",
    "g = g.map(plt.plot, 'epoch', 'Acc', marker='.')\n",
    "\n",
    "def show_acc(x, y, metric, **kwargs):\n",
    "    plt.scatter(x, y, alpha=0.3, s=1)\n",
    "    metric = \"Val Acc: {:1.3f}\".format(list(metric.values)[0]) #기존 코드는 test로 돼있는데 val로 바꿔야함 \n",
    "    plt.text(0.05, 0.95, metric,  horizontalalignment='left', verticalalignment='center', transform=plt.gca().transAxes, bbox=dict(facecolor='yellow', alpha=0.5, boxstyle=\"round,pad=0.1\"))\n",
    "g = g.map(show_acc, 'epoch', 'Acc', 'val_acc')\n",
    "\n",
    "g.add_legend()\n",
    "g.fig.suptitle('Train Accuracy vs Val Accuracy')\n",
    "\n",
    "\n",
    "\n",
    "plt.subplots_adjust(top=0.89)"
   ]
  },
  {
   "cell_type": "code",
   "execution_count": 120,
   "id": "96b79843",
   "metadata": {
    "ExecuteTime": {
     "end_time": "2022-02-08T03:15:16.395432Z",
     "start_time": "2022-02-08T02:45:36.763400Z"
    },
    "scrolled": false
   },
   "outputs": [
    {
     "name": "stdout",
     "output_type": "stream",
     "text": [
      "Namespace(act='relu', dropout=0, epoch=10, exp_name='exp2_lr_dropout', hid_dim=300, in_dim=3072, l2=1e-05, lr=0.0001, n_layer=3, optim='RMSprop', out_dim=10, test_batch_size=1024, train_batch_size=256, use_bn=True, use_xavier=True)\n",
      "Epoch 0, Acc(train/val): 40.78/45.28, Loss(train/val) 1.67/1.56. Took 8.68 sec\n",
      "Epoch 1, Acc(train/val): 49.46/44.92, Loss(train/val) 1.44/1.56. Took 8.54 sec\n",
      "Epoch 2, Acc(train/val): 53.73/47.73, Loss(train/val) 1.32/1.47. Took 8.54 sec\n",
      "Epoch 3, Acc(train/val): 56.94/50.01, Loss(train/val) 1.23/1.42. Took 8.48 sec\n",
      "Epoch 4, Acc(train/val): 59.45/49.16, Loss(train/val) 1.16/1.45. Took 8.59 sec\n",
      "Epoch 5, Acc(train/val): 62.19/50.06, Loss(train/val) 1.09/1.43. Took 8.56 sec\n",
      "Epoch 6, Acc(train/val): 64.99/50.85, Loss(train/val) 1.02/1.42. Took 8.60 sec\n",
      "Epoch 7, Acc(train/val): 67.07/49.72, Loss(train/val) 0.96/1.45. Took 8.81 sec\n",
      "Epoch 8, Acc(train/val): 69.65/49.04, Loss(train/val) 0.90/1.55. Took 8.59 sec\n",
      "Epoch 9, Acc(train/val): 71.64/49.42, Loss(train/val) 0.84/1.53. Took 8.56 sec\n",
      "Namespace(act='relu', dropout=0.1, epoch=10, exp_name='exp2_lr_dropout', hid_dim=300, in_dim=3072, l2=1e-05, lr=0.0001, n_layer=3, optim='RMSprop', out_dim=10, test_batch_size=1024, train_batch_size=256, use_bn=True, use_xavier=True)\n",
      "Epoch 0, Acc(train/val): 39.41/45.40, Loss(train/val) 1.71/1.56. Took 8.60 sec\n",
      "Epoch 1, Acc(train/val): 47.08/48.22, Loss(train/val) 1.50/1.50. Took 8.77 sec\n",
      "Epoch 2, Acc(train/val): 50.84/49.30, Loss(train/val) 1.40/1.45. Took 8.67 sec\n",
      "Epoch 3, Acc(train/val): 53.82/50.57, Loss(train/val) 1.32/1.42. Took 8.71 sec\n",
      "Epoch 4, Acc(train/val): 55.97/50.05, Loss(train/val) 1.25/1.41. Took 8.70 sec\n",
      "Epoch 5, Acc(train/val): 58.13/51.83, Loss(train/val) 1.19/1.36. Took 8.83 sec\n",
      "Epoch 6, Acc(train/val): 60.12/51.33, Loss(train/val) 1.14/1.39. Took 8.65 sec\n",
      "Epoch 7, Acc(train/val): 61.93/49.86, Loss(train/val) 1.09/1.47. Took 8.60 sec\n",
      "Epoch 8, Acc(train/val): 63.33/50.78, Loss(train/val) 1.05/1.44. Took 8.63 sec\n",
      "Epoch 9, Acc(train/val): 65.13/52.76, Loss(train/val) 1.00/1.40. Took 8.79 sec\n",
      "Namespace(act='relu', dropout=0.2, epoch=10, exp_name='exp2_lr_dropout', hid_dim=300, in_dim=3072, l2=1e-05, lr=0.0001, n_layer=3, optim='RMSprop', out_dim=10, test_batch_size=1024, train_batch_size=256, use_bn=True, use_xavier=True)\n",
      "Epoch 0, Acc(train/val): 37.58/44.13, Loss(train/val) 1.76/1.60. Took 8.70 sec\n",
      "Epoch 1, Acc(train/val): 45.22/46.64, Loss(train/val) 1.56/1.52. Took 8.54 sec\n",
      "Epoch 2, Acc(train/val): 48.44/48.75, Loss(train/val) 1.46/1.46. Took 8.61 sec\n",
      "Epoch 3, Acc(train/val): 51.12/49.12, Loss(train/val) 1.39/1.44. Took 8.65 sec\n",
      "Epoch 4, Acc(train/val): 52.99/51.91, Loss(train/val) 1.33/1.38. Took 8.59 sec\n",
      "Epoch 5, Acc(train/val): 55.19/49.68, Loss(train/val) 1.27/1.45. Took 8.59 sec\n",
      "Epoch 6, Acc(train/val): 56.66/52.09, Loss(train/val) 1.23/1.37. Took 8.76 sec\n",
      "Epoch 7, Acc(train/val): 57.98/50.49, Loss(train/val) 1.19/1.42. Took 8.83 sec\n",
      "Epoch 8, Acc(train/val): 59.53/49.36, Loss(train/val) 1.15/1.51. Took 8.63 sec\n",
      "Epoch 9, Acc(train/val): 60.92/50.48, Loss(train/val) 1.10/1.44. Took 8.53 sec\n",
      "Namespace(act='relu', dropout=0.3, epoch=10, exp_name='exp2_lr_dropout', hid_dim=300, in_dim=3072, l2=1e-05, lr=0.0001, n_layer=3, optim='RMSprop', out_dim=10, test_batch_size=1024, train_batch_size=256, use_bn=True, use_xavier=True)\n",
      "Epoch 0, Acc(train/val): 35.35/43.56, Loss(train/val) 1.82/1.62. Took 8.54 sec\n",
      "Epoch 1, Acc(train/val): 43.08/47.06, Loss(train/val) 1.62/1.52. Took 8.55 sec\n",
      "Epoch 2, Acc(train/val): 45.95/48.49, Loss(train/val) 1.53/1.47. Took 8.65 sec\n",
      "Epoch 3, Acc(train/val): 48.06/50.33, Loss(train/val) 1.46/1.44. Took 8.53 sec\n",
      "Epoch 4, Acc(train/val): 50.48/50.25, Loss(train/val) 1.40/1.44. Took 8.46 sec\n",
      "Epoch 5, Acc(train/val): 52.37/51.05, Loss(train/val) 1.35/1.40. Took 8.53 sec\n",
      "Epoch 6, Acc(train/val): 53.74/50.99, Loss(train/val) 1.31/1.41. Took 8.56 sec\n",
      "Epoch 7, Acc(train/val): 55.27/51.85, Loss(train/val) 1.27/1.37. Took 8.56 sec\n",
      "Epoch 8, Acc(train/val): 56.36/51.08, Loss(train/val) 1.23/1.39. Took 8.82 sec\n",
      "Epoch 9, Acc(train/val): 57.38/51.27, Loss(train/val) 1.20/1.40. Took 8.87 sec\n",
      "Namespace(act='relu', dropout=0, epoch=10, exp_name='exp2_lr_dropout', hid_dim=300, in_dim=3072, l2=1e-05, lr=0.0005, n_layer=3, optim='RMSprop', out_dim=10, test_batch_size=1024, train_batch_size=256, use_bn=True, use_xavier=True)\n",
      "Epoch 0, Acc(train/val): 40.54/43.16, Loss(train/val) 1.66/1.63. Took 8.72 sec\n",
      "Epoch 1, Acc(train/val): 49.87/46.67, Loss(train/val) 1.41/1.50. Took 8.68 sec\n",
      "Epoch 2, Acc(train/val): 54.54/46.27, Loss(train/val) 1.28/1.52. Took 8.74 sec\n",
      "Epoch 3, Acc(train/val): 57.85/50.76, Loss(train/val) 1.18/1.43. Took 8.78 sec\n",
      "Epoch 4, Acc(train/val): 61.27/51.75, Loss(train/val) 1.09/1.40. Took 8.83 sec\n",
      "Epoch 5, Acc(train/val): 64.52/49.43, Loss(train/val) 1.00/1.49. Took 8.78 sec\n",
      "Epoch 6, Acc(train/val): 67.65/47.07, Loss(train/val) 0.92/1.62. Took 8.62 sec\n",
      "Epoch 7, Acc(train/val): 70.13/50.58, Loss(train/val) 0.85/1.55. Took 8.66 sec\n",
      "Epoch 8, Acc(train/val): 73.38/48.74, Loss(train/val) 0.76/1.67. Took 8.86 sec\n",
      "Epoch 9, Acc(train/val): 75.97/49.06, Loss(train/val) 0.69/1.79. Took 8.62 sec\n",
      "Namespace(act='relu', dropout=0.1, epoch=10, exp_name='exp2_lr_dropout', hid_dim=300, in_dim=3072, l2=1e-05, lr=0.0005, n_layer=3, optim='RMSprop', out_dim=10, test_batch_size=1024, train_batch_size=256, use_bn=True, use_xavier=True)\n",
      "Epoch 0, Acc(train/val): 39.19/43.66, Loss(train/val) 1.69/1.60. Took 8.58 sec\n",
      "Epoch 1, Acc(train/val): 48.47/46.77, Loss(train/val) 1.45/1.51. Took 8.56 sec\n",
      "Epoch 2, Acc(train/val): 52.59/47.86, Loss(train/val) 1.33/1.50. Took 8.66 sec\n",
      "Epoch 3, Acc(train/val): 55.55/50.62, Loss(train/val) 1.25/1.42. Took 8.68 sec\n",
      "Epoch 4, Acc(train/val): 58.25/51.12, Loss(train/val) 1.17/1.40. Took 8.84 sec\n",
      "Epoch 5, Acc(train/val): 60.59/51.04, Loss(train/val) 1.10/1.45. Took 8.58 sec\n",
      "Epoch 6, Acc(train/val): 63.24/50.05, Loss(train/val) 1.04/1.48. Took 8.47 sec\n",
      "Epoch 7, Acc(train/val): 65.60/48.79, Loss(train/val) 0.97/1.55. Took 8.43 sec\n",
      "Epoch 8, Acc(train/val): 67.37/49.36, Loss(train/val) 0.92/1.59. Took 8.44 sec\n",
      "Epoch 9, Acc(train/val): 69.25/49.55, Loss(train/val) 0.87/1.64. Took 8.51 sec\n",
      "Namespace(act='relu', dropout=0.2, epoch=10, exp_name='exp2_lr_dropout', hid_dim=300, in_dim=3072, l2=1e-05, lr=0.0005, n_layer=3, optim='RMSprop', out_dim=10, test_batch_size=1024, train_batch_size=256, use_bn=True, use_xavier=True)\n",
      "Epoch 0, Acc(train/val): 38.61/43.46, Loss(train/val) 1.72/1.62. Took 8.51 sec\n",
      "Epoch 1, Acc(train/val): 46.69/44.59, Loss(train/val) 1.49/1.57. Took 8.54 sec\n",
      "Epoch 2, Acc(train/val): 50.27/46.66, Loss(train/val) 1.39/1.51. Took 8.76 sec\n",
      "Epoch 3, Acc(train/val): 53.32/46.61, Loss(train/val) 1.31/1.60. Took 8.49 sec\n",
      "Epoch 4, Acc(train/val): 55.41/47.77, Loss(train/val) 1.24/1.47. Took 8.49 sec\n",
      "Epoch 5, Acc(train/val): 57.88/50.56, Loss(train/val) 1.18/1.42. Took 8.57 sec\n",
      "Epoch 6, Acc(train/val): 59.59/51.41, Loss(train/val) 1.12/1.41. Took 8.76 sec\n",
      "Epoch 7, Acc(train/val): 61.65/50.60, Loss(train/val) 1.08/1.47. Took 8.65 sec\n",
      "Epoch 8, Acc(train/val): 63.35/47.06, Loss(train/val) 1.03/1.63. Took 8.69 sec\n",
      "Epoch 9, Acc(train/val): 64.73/50.81, Loss(train/val) 0.98/1.46. Took 8.68 sec\n",
      "Namespace(act='relu', dropout=0.3, epoch=10, exp_name='exp2_lr_dropout', hid_dim=300, in_dim=3072, l2=1e-05, lr=0.0005, n_layer=3, optim='RMSprop', out_dim=10, test_batch_size=1024, train_batch_size=256, use_bn=True, use_xavier=True)\n",
      "Epoch 0, Acc(train/val): 37.35/42.44, Loss(train/val) 1.75/1.63. Took 8.56 sec\n",
      "Epoch 1, Acc(train/val): 45.44/45.36, Loss(train/val) 1.53/1.53. Took 8.62 sec\n",
      "Epoch 2, Acc(train/val): 48.84/49.17, Loss(train/val) 1.43/1.44. Took 8.67 sec\n",
      "Epoch 3, Acc(train/val): 51.95/49.83, Loss(train/val) 1.35/1.42. Took 8.71 sec\n",
      "Epoch 4, Acc(train/val): 53.90/50.30, Loss(train/val) 1.29/1.42. Took 8.74 sec\n",
      "Epoch 5, Acc(train/val): 55.51/51.63, Loss(train/val) 1.24/1.38. Took 8.76 sec\n",
      "Epoch 6, Acc(train/val): 57.46/50.53, Loss(train/val) 1.18/1.42. Took 8.80 sec\n",
      "Epoch 7, Acc(train/val): 58.81/52.14, Loss(train/val) 1.14/1.38. Took 8.77 sec\n",
      "Epoch 8, Acc(train/val): 60.53/51.20, Loss(train/val) 1.10/1.43. Took 8.73 sec\n",
      "Epoch 9, Acc(train/val): 62.27/49.24, Loss(train/val) 1.06/1.53. Took 8.61 sec\n",
      "Namespace(act='relu', dropout=0, epoch=10, exp_name='exp2_lr_dropout', hid_dim=300, in_dim=3072, l2=1e-05, lr=0.001, n_layer=3, optim='RMSprop', out_dim=10, test_batch_size=1024, train_batch_size=256, use_bn=True, use_xavier=True)\n"
     ]
    },
    {
     "name": "stdout",
     "output_type": "stream",
     "text": [
      "Epoch 0, Acc(train/val): 39.63/40.50, Loss(train/val) 1.69/1.70. Took 8.74 sec\n",
      "Epoch 1, Acc(train/val): 48.84/42.55, Loss(train/val) 1.44/1.65. Took 8.83 sec\n",
      "Epoch 2, Acc(train/val): 53.12/47.11, Loss(train/val) 1.31/1.52. Took 8.69 sec\n",
      "Epoch 3, Acc(train/val): 56.42/48.12, Loss(train/val) 1.22/1.52. Took 8.69 sec\n",
      "Epoch 4, Acc(train/val): 59.40/46.17, Loss(train/val) 1.13/1.63. Took 8.73 sec\n",
      "Epoch 5, Acc(train/val): 62.95/47.64, Loss(train/val) 1.05/1.55. Took 8.61 sec\n",
      "Epoch 6, Acc(train/val): 65.44/49.87, Loss(train/val) 0.97/1.51. Took 8.72 sec\n",
      "Epoch 7, Acc(train/val): 68.33/49.07, Loss(train/val) 0.88/1.61. Took 8.66 sec\n",
      "Epoch 8, Acc(train/val): 71.60/49.50, Loss(train/val) 0.80/1.66. Took 8.59 sec\n",
      "Epoch 9, Acc(train/val): 74.10/50.30, Loss(train/val) 0.73/1.68. Took 8.50 sec\n",
      "Namespace(act='relu', dropout=0.1, epoch=10, exp_name='exp2_lr_dropout', hid_dim=300, in_dim=3072, l2=1e-05, lr=0.001, n_layer=3, optim='RMSprop', out_dim=10, test_batch_size=1024, train_batch_size=256, use_bn=True, use_xavier=True)\n",
      "Epoch 0, Acc(train/val): 38.52/37.70, Loss(train/val) 1.71/1.81. Took 8.64 sec\n",
      "Epoch 1, Acc(train/val): 47.51/46.57, Loss(train/val) 1.46/1.51. Took 8.65 sec\n",
      "Epoch 2, Acc(train/val): 51.72/45.88, Loss(train/val) 1.35/1.59. Took 8.73 sec\n",
      "Epoch 3, Acc(train/val): 54.90/46.96, Loss(train/val) 1.26/1.51. Took 8.67 sec\n",
      "Epoch 4, Acc(train/val): 57.51/50.05, Loss(train/val) 1.19/1.45. Took 8.60 sec\n",
      "Epoch 5, Acc(train/val): 60.23/48.57, Loss(train/val) 1.11/1.51. Took 8.61 sec\n",
      "Epoch 6, Acc(train/val): 62.27/49.95, Loss(train/val) 1.05/1.50. Took 8.59 sec\n",
      "Epoch 7, Acc(train/val): 64.80/46.81, Loss(train/val) 0.98/1.62. Took 8.67 sec\n",
      "Epoch 8, Acc(train/val): 66.67/49.84, Loss(train/val) 0.93/1.53. Took 8.67 sec\n",
      "Epoch 9, Acc(train/val): 68.91/50.76, Loss(train/val) 0.87/1.55. Took 8.73 sec\n",
      "Namespace(act='relu', dropout=0.2, epoch=10, exp_name='exp2_lr_dropout', hid_dim=300, in_dim=3072, l2=1e-05, lr=0.001, n_layer=3, optim='RMSprop', out_dim=10, test_batch_size=1024, train_batch_size=256, use_bn=True, use_xavier=True)\n",
      "Epoch 0, Acc(train/val): 38.26/42.32, Loss(train/val) 1.72/1.65. Took 8.64 sec\n",
      "Epoch 1, Acc(train/val): 46.85/45.10, Loss(train/val) 1.49/1.56. Took 8.63 sec\n",
      "Epoch 2, Acc(train/val): 50.48/47.92, Loss(train/val) 1.38/1.46. Took 8.60 sec\n",
      "Epoch 3, Acc(train/val): 53.15/47.05, Loss(train/val) 1.31/1.53. Took 8.68 sec\n",
      "Epoch 4, Acc(train/val): 55.61/48.75, Loss(train/val) 1.24/1.47. Took 8.65 sec\n",
      "Epoch 5, Acc(train/val): 57.84/50.73, Loss(train/val) 1.17/1.41. Took 8.68 sec\n",
      "Epoch 6, Acc(train/val): 59.66/51.35, Loss(train/val) 1.12/1.42. Took 8.63 sec\n",
      "Epoch 7, Acc(train/val): 62.12/46.14, Loss(train/val) 1.06/1.63. Took 8.72 sec\n",
      "Epoch 8, Acc(train/val): 63.56/52.46, Loss(train/val) 1.01/1.48. Took 8.82 sec\n",
      "Epoch 9, Acc(train/val): 65.79/49.65, Loss(train/val) 0.96/1.57. Took 8.79 sec\n",
      "Namespace(act='relu', dropout=0.3, epoch=10, exp_name='exp2_lr_dropout', hid_dim=300, in_dim=3072, l2=1e-05, lr=0.001, n_layer=3, optim='RMSprop', out_dim=10, test_batch_size=1024, train_batch_size=256, use_bn=True, use_xavier=True)\n",
      "Epoch 0, Acc(train/val): 36.77/42.05, Loss(train/val) 1.76/1.63. Took 8.54 sec\n",
      "Epoch 1, Acc(train/val): 45.09/41.22, Loss(train/val) 1.53/1.64. Took 8.57 sec\n",
      "Epoch 2, Acc(train/val): 48.66/49.20, Loss(train/val) 1.43/1.45. Took 8.45 sec\n",
      "Epoch 3, Acc(train/val): 51.62/48.17, Loss(train/val) 1.35/1.46. Took 8.43 sec\n",
      "Epoch 4, Acc(train/val): 53.65/49.86, Loss(train/val) 1.29/1.42. Took 8.49 sec\n",
      "Epoch 5, Acc(train/val): 55.77/48.18, Loss(train/val) 1.23/1.52. Took 8.51 sec\n",
      "Epoch 6, Acc(train/val): 57.55/50.36, Loss(train/val) 1.19/1.42. Took 8.51 sec\n",
      "Epoch 7, Acc(train/val): 59.02/51.89, Loss(train/val) 1.14/1.37. Took 8.60 sec\n",
      "Epoch 8, Acc(train/val): 60.59/49.13, Loss(train/val) 1.10/1.50. Took 8.55 sec\n",
      "Epoch 9, Acc(train/val): 62.20/49.93, Loss(train/val) 1.06/1.47. Took 8.66 sec\n",
      "Namespace(act='relu', dropout=0, epoch=10, exp_name='exp2_lr_dropout', hid_dim=300, in_dim=3072, l2=1e-05, lr=0.005, n_layer=3, optim='RMSprop', out_dim=10, test_batch_size=1024, train_batch_size=256, use_bn=True, use_xavier=True)\n",
      "Epoch 0, Acc(train/val): 32.35/34.91, Loss(train/val) 1.99/1.88. Took 8.69 sec\n",
      "Epoch 1, Acc(train/val): 42.43/35.24, Loss(train/val) 1.59/2.00. Took 8.67 sec\n",
      "Epoch 2, Acc(train/val): 47.16/39.14, Loss(train/val) 1.47/1.83. Took 8.71 sec\n",
      "Epoch 3, Acc(train/val): 50.44/45.49, Loss(train/val) 1.37/1.56. Took 8.68 sec\n",
      "Epoch 4, Acc(train/val): 53.63/44.67, Loss(train/val) 1.29/1.63. Took 8.65 sec\n",
      "Epoch 5, Acc(train/val): 56.06/45.60, Loss(train/val) 1.22/1.63. Took 8.87 sec\n",
      "Epoch 6, Acc(train/val): 58.14/48.95, Loss(train/val) 1.16/1.49. Took 8.86 sec\n",
      "Epoch 7, Acc(train/val): 60.19/46.53, Loss(train/val) 1.11/1.61. Took 8.81 sec\n",
      "Epoch 8, Acc(train/val): 62.22/37.84, Loss(train/val) 1.05/5.44. Took 8.70 sec\n",
      "Epoch 9, Acc(train/val): 64.34/47.31, Loss(train/val) 0.99/1.66. Took 8.86 sec\n",
      "Namespace(act='relu', dropout=0.1, epoch=10, exp_name='exp2_lr_dropout', hid_dim=300, in_dim=3072, l2=1e-05, lr=0.005, n_layer=3, optim='RMSprop', out_dim=10, test_batch_size=1024, train_batch_size=256, use_bn=True, use_xavier=True)\n",
      "Epoch 0, Acc(train/val): 31.66/33.19, Loss(train/val) 2.02/2.06. Took 8.86 sec\n",
      "Epoch 1, Acc(train/val): 42.29/38.15, Loss(train/val) 1.60/1.80. Took 8.89 sec\n",
      "Epoch 2, Acc(train/val): 46.34/43.28, Loss(train/val) 1.49/1.68. Took 8.83 sec\n",
      "Epoch 3, Acc(train/val): 49.53/42.65, Loss(train/val) 1.40/1.63. Took 8.85 sec\n",
      "Epoch 4, Acc(train/val): 51.62/47.60, Loss(train/val) 1.34/1.51. Took 8.74 sec\n",
      "Epoch 5, Acc(train/val): 54.36/47.26, Loss(train/val) 1.27/1.58. Took 8.65 sec\n",
      "Epoch 6, Acc(train/val): 55.95/47.77, Loss(train/val) 1.22/1.52. Took 8.69 sec\n",
      "Epoch 7, Acc(train/val): 57.85/46.79, Loss(train/val) 1.17/1.56. Took 8.56 sec\n",
      "Epoch 8, Acc(train/val): 59.82/46.79, Loss(train/val) 1.12/1.53. Took 8.59 sec\n",
      "Epoch 9, Acc(train/val): 58.90/47.50, Loss(train/val) 1.14/1.57. Took 8.54 sec\n",
      "Namespace(act='relu', dropout=0.2, epoch=10, exp_name='exp2_lr_dropout', hid_dim=300, in_dim=3072, l2=1e-05, lr=0.005, n_layer=3, optim='RMSprop', out_dim=10, test_batch_size=1024, train_batch_size=256, use_bn=True, use_xavier=True)\n",
      "Epoch 0, Acc(train/val): 31.21/33.97, Loss(train/val) 2.02/1.84. Took 8.64 sec\n",
      "Epoch 1, Acc(train/val): 41.38/41.11, Loss(train/val) 1.63/1.64. Took 8.57 sec\n",
      "Epoch 2, Acc(train/val): 45.77/40.93, Loss(train/val) 1.50/1.69. Took 8.71 sec\n",
      "Epoch 3, Acc(train/val): 48.66/45.08, Loss(train/val) 1.43/1.57. Took 8.62 sec\n",
      "Epoch 4, Acc(train/val): 51.09/48.43, Loss(train/val) 1.36/1.45. Took 8.61 sec\n",
      "Epoch 5, Acc(train/val): 53.24/48.14, Loss(train/val) 1.30/1.48. Took 8.65 sec\n",
      "Epoch 6, Acc(train/val): 55.60/48.86, Loss(train/val) 1.25/1.50. Took 8.73 sec\n",
      "Epoch 7, Acc(train/val): 56.86/45.20, Loss(train/val) 1.20/1.66. Took 8.81 sec\n",
      "Epoch 8, Acc(train/val): 58.39/47.47, Loss(train/val) 1.16/1.53. Took 8.79 sec\n",
      "Epoch 9, Acc(train/val): 59.80/46.61, Loss(train/val) 1.12/1.59. Took 8.85 sec\n",
      "Namespace(act='relu', dropout=0.3, epoch=10, exp_name='exp2_lr_dropout', hid_dim=300, in_dim=3072, l2=1e-05, lr=0.005, n_layer=3, optim='RMSprop', out_dim=10, test_batch_size=1024, train_batch_size=256, use_bn=True, use_xavier=True)\n",
      "Epoch 0, Acc(train/val): 30.94/33.26, Loss(train/val) 2.02/1.95. Took 8.84 sec\n",
      "Epoch 1, Acc(train/val): 40.44/39.73, Loss(train/val) 1.64/1.70. Took 8.82 sec\n",
      "Epoch 2, Acc(train/val): 45.35/41.09, Loss(train/val) 1.52/1.67. Took 8.79 sec\n",
      "Epoch 3, Acc(train/val): 47.98/43.92, Loss(train/val) 1.44/1.57. Took 8.78 sec\n",
      "Epoch 4, Acc(train/val): 50.02/44.39, Loss(train/val) 1.39/1.59. Took 8.73 sec\n",
      "Epoch 5, Acc(train/val): 52.33/48.51, Loss(train/val) 1.33/1.46. Took 8.71 sec\n",
      "Epoch 6, Acc(train/val): 53.56/46.88, Loss(train/val) 1.29/1.50. Took 8.69 sec\n",
      "Epoch 7, Acc(train/val): 55.07/43.70, Loss(train/val) 1.25/1.67. Took 8.64 sec\n",
      "Epoch 8, Acc(train/val): 56.44/48.89, Loss(train/val) 1.21/1.49. Took 8.60 sec\n",
      "Epoch 9, Acc(train/val): 57.98/48.07, Loss(train/val) 1.18/1.51. Took 8.65 sec\n",
      "Namespace(act='relu', dropout=0, epoch=10, exp_name='exp2_lr_dropout', hid_dim=300, in_dim=3072, l2=1e-05, lr=0.01, n_layer=3, optim='RMSprop', out_dim=10, test_batch_size=1024, train_batch_size=256, use_bn=True, use_xavier=True)\n",
      "Epoch 0, Acc(train/val): 30.45/25.46, Loss(train/val) 2.26/2.50. Took 8.64 sec\n"
     ]
    },
    {
     "name": "stdout",
     "output_type": "stream",
     "text": [
      "Epoch 1, Acc(train/val): 40.78/39.51, Loss(train/val) 1.65/1.98. Took 8.73 sec\n",
      "Epoch 2, Acc(train/val): 45.55/42.83, Loss(train/val) 1.51/1.86. Took 8.69 sec\n",
      "Epoch 3, Acc(train/val): 47.60/34.37, Loss(train/val) 1.44/2.01. Took 8.54 sec\n",
      "Epoch 4, Acc(train/val): 50.44/42.64, Loss(train/val) 1.38/2.35. Took 8.60 sec\n",
      "Epoch 5, Acc(train/val): 52.19/41.72, Loss(train/val) 1.33/1.81. Took 8.53 sec\n",
      "Epoch 6, Acc(train/val): 53.73/36.46, Loss(train/val) 1.29/2.44. Took 8.50 sec\n",
      "Epoch 7, Acc(train/val): 54.71/43.47, Loss(train/val) 1.26/1.83. Took 8.48 sec\n",
      "Epoch 8, Acc(train/val): 56.32/46.91, Loss(train/val) 1.22/1.61. Took 8.47 sec\n",
      "Epoch 9, Acc(train/val): 57.79/44.44, Loss(train/val) 1.18/1.76. Took 8.70 sec\n",
      "Namespace(act='relu', dropout=0.1, epoch=10, exp_name='exp2_lr_dropout', hid_dim=300, in_dim=3072, l2=1e-05, lr=0.01, n_layer=3, optim='RMSprop', out_dim=10, test_batch_size=1024, train_batch_size=256, use_bn=True, use_xavier=True)\n",
      "Epoch 0, Acc(train/val): 28.73/32.42, Loss(train/val) 2.32/2.31. Took 8.75 sec\n",
      "Epoch 1, Acc(train/val): 37.95/36.56, Loss(train/val) 1.71/1.80. Took 8.69 sec\n",
      "Epoch 2, Acc(train/val): 42.88/33.28, Loss(train/val) 1.58/1.96. Took 8.68 sec\n",
      "Epoch 3, Acc(train/val): 46.14/34.47, Loss(train/val) 1.49/2.78. Took 8.67 sec\n",
      "Epoch 4, Acc(train/val): 48.52/31.70, Loss(train/val) 1.43/2.86. Took 8.67 sec\n",
      "Epoch 5, Acc(train/val): 50.14/43.32, Loss(train/val) 1.38/1.63. Took 8.73 sec\n",
      "Epoch 6, Acc(train/val): 51.47/42.07, Loss(train/val) 1.35/1.74. Took 8.85 sec\n",
      "Epoch 7, Acc(train/val): 53.57/44.13, Loss(train/val) 1.29/1.67. Took 8.85 sec\n",
      "Epoch 8, Acc(train/val): 54.58/45.87, Loss(train/val) 1.27/1.68. Took 8.90 sec\n",
      "Epoch 9, Acc(train/val): 55.48/45.90, Loss(train/val) 1.24/1.64. Took 8.87 sec\n",
      "Namespace(act='relu', dropout=0.2, epoch=10, exp_name='exp2_lr_dropout', hid_dim=300, in_dim=3072, l2=1e-05, lr=0.01, n_layer=3, optim='RMSprop', out_dim=10, test_batch_size=1024, train_batch_size=256, use_bn=True, use_xavier=True)\n",
      "Epoch 0, Acc(train/val): 28.22/28.49, Loss(train/val) 2.30/2.47. Took 8.82 sec\n",
      "Epoch 1, Acc(train/val): 38.01/34.35, Loss(train/val) 1.70/1.88. Took 8.77 sec\n",
      "Epoch 2, Acc(train/val): 43.29/37.67, Loss(train/val) 1.57/1.84. Took 8.83 sec\n",
      "Epoch 3, Acc(train/val): 46.54/35.77, Loss(train/val) 1.49/1.91. Took 8.73 sec\n",
      "Epoch 4, Acc(train/val): 47.79/43.04, Loss(train/val) 1.44/1.74. Took 8.81 sec\n",
      "Epoch 5, Acc(train/val): 50.02/41.38, Loss(train/val) 1.39/1.68. Took 8.87 sec\n",
      "Epoch 6, Acc(train/val): 51.57/11.21, Loss(train/val) 1.35/17.68. Took 8.85 sec\n",
      "Epoch 7, Acc(train/val): 52.73/47.05, Loss(train/val) 1.32/1.53. Took 8.77 sec\n",
      "Epoch 8, Acc(train/val): 53.76/44.74, Loss(train/val) 1.30/1.60. Took 8.73 sec\n",
      "Epoch 9, Acc(train/val): 54.01/46.13, Loss(train/val) 1.29/1.57. Took 8.87 sec\n",
      "Namespace(act='relu', dropout=0.3, epoch=10, exp_name='exp2_lr_dropout', hid_dim=300, in_dim=3072, l2=1e-05, lr=0.01, n_layer=3, optim='RMSprop', out_dim=10, test_batch_size=1024, train_batch_size=256, use_bn=True, use_xavier=True)\n",
      "Epoch 0, Acc(train/val): 28.91/32.44, Loss(train/val) 2.29/1.92. Took 8.72 sec\n",
      "Epoch 1, Acc(train/val): 38.48/33.18, Loss(train/val) 1.69/1.86. Took 8.58 sec\n",
      "Epoch 2, Acc(train/val): 43.26/38.63, Loss(train/val) 1.57/1.76. Took 8.93 sec\n",
      "Epoch 3, Acc(train/val): 45.77/43.66, Loss(train/val) 1.51/1.58. Took 8.68 sec\n",
      "Epoch 4, Acc(train/val): 47.55/43.65, Loss(train/val) 1.46/1.67. Took 8.75 sec\n",
      "Epoch 5, Acc(train/val): 49.29/45.02, Loss(train/val) 1.41/1.59. Took 8.57 sec\n",
      "Epoch 6, Acc(train/val): 50.33/46.20, Loss(train/val) 1.39/1.52. Took 8.51 sec\n",
      "Epoch 7, Acc(train/val): 51.87/38.26, Loss(train/val) 1.35/2.02. Took 8.59 sec\n",
      "Epoch 8, Acc(train/val): 52.23/39.89, Loss(train/val) 1.33/1.85. Took 8.51 sec\n",
      "Epoch 9, Acc(train/val): 53.37/40.78, Loss(train/val) 1.31/1.79. Took 8.57 sec\n"
     ]
    }
   ],
   "source": [
    "# Experiment 2\n",
    "\n",
    "\n",
    "# ====== Random Seed Initialization ====== #\n",
    "seed = 123\n",
    "np.random.seed(seed)\n",
    "torch.manual_seed(seed)\n",
    "\n",
    "parser = argparse.ArgumentParser()\n",
    "args = parser.parse_args(\"\")\n",
    "args.exp_name = \"exp2_lr_dropout\"\n",
    "\n",
    "# ====== Model Capacity ====== #\n",
    "args.n_layer = 3\n",
    "args.in_dim = 3072\n",
    "args.out_dim = 10\n",
    "args.hid_dim = 300\n",
    "args.act = 'relu'\n",
    "\n",
    "# ====== Regularization ======= #\n",
    "# args.dropout = 0.2\n",
    "args.use_bn = True\n",
    "args.l2 = 0.00001\n",
    "args.use_xavier = True\n",
    "\n",
    "# ====== Optimizer & Training ====== #\n",
    "args.optim = 'RMSprop' #'RMSprop' #SGD, RMSprop, ADAM...\n",
    "# args.lr = 0.0015\n",
    "args.epoch = 10\n",
    "\n",
    "args.train_batch_size = 256\n",
    "args.test_batch_size = 1024\n",
    "\n",
    "# ====== Experiment Variable ====== #\n",
    "name_var1 = 'lr'\n",
    "name_var2 = 'dropout'\n",
    "list_var1 = [0.0001, 0.0005, 0.001, 0.005, 0.01]\n",
    "list_var2 = [0, 0.1, 0.2, 0.3]\n",
    "\n",
    "\n",
    "for var1 in list_var1:\n",
    "    for var2 in list_var2:\n",
    "        setattr(args, name_var1, var1) # 실험변수명 자동화 처리 되도록 하는 구문, string attribute 값 지정되면 그 항목값으로 지정 \n",
    "        setattr(args, name_var2, var2)\n",
    "        print(args)\n",
    "                \n",
    "        setting, result = experiment(partition, deepcopy(args))\n",
    "        save_exp_result(setting, result)"
   ]
  },
  {
   "cell_type": "code",
   "execution_count": null,
   "id": "e65ea0af",
   "metadata": {},
   "outputs": [],
   "source": []
  },
  {
   "cell_type": "code",
   "execution_count": null,
   "id": "870d0416",
   "metadata": {},
   "outputs": [],
   "source": []
  },
  {
   "cell_type": "code",
   "execution_count": null,
   "id": "fbe2248b",
   "metadata": {},
   "outputs": [],
   "source": []
  },
  {
   "cell_type": "code",
   "execution_count": null,
   "id": "7cbfc527",
   "metadata": {},
   "outputs": [],
   "source": []
  }
 ],
 "metadata": {
  "kernelspec": {
   "display_name": "Python 3.7 (pytorch)",
   "language": "python",
   "name": "pytorch"
  },
  "language_info": {
   "codemirror_mode": {
    "name": "ipython",
    "version": 3
   },
   "file_extension": ".py",
   "mimetype": "text/x-python",
   "name": "python",
   "nbconvert_exporter": "python",
   "pygments_lexer": "ipython3",
   "version": "3.7.10"
  },
  "toc": {
   "base_numbering": 1,
   "nav_menu": {},
   "number_sections": true,
   "sideBar": true,
   "skip_h1_title": false,
   "title_cell": "Table of Contents",
   "title_sidebar": "Contents",
   "toc_cell": false,
   "toc_position": {},
   "toc_section_display": true,
   "toc_window_display": false
  },
  "varInspector": {
   "cols": {
    "lenName": 16,
    "lenType": 16,
    "lenVar": 40
   },
   "kernels_config": {
    "python": {
     "delete_cmd_postfix": "",
     "delete_cmd_prefix": "del ",
     "library": "var_list.py",
     "varRefreshCmd": "print(var_dic_list())"
    },
    "r": {
     "delete_cmd_postfix": ") ",
     "delete_cmd_prefix": "rm(",
     "library": "var_list.r",
     "varRefreshCmd": "cat(var_dic_list()) "
    }
   },
   "types_to_exclude": [
    "module",
    "function",
    "builtin_function_or_method",
    "instance",
    "_Feature"
   ],
   "window_display": false
  }
 },
 "nbformat": 4,
 "nbformat_minor": 5
}
