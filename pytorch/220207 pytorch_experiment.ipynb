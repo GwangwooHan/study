{
 "cells": [
  {
   "cell_type": "markdown",
   "id": "4c669b1a",
   "metadata": {},
   "source": [
    "# JSON으로 저장 및 hash 연습"
   ]
  },
  {
   "cell_type": "code",
   "execution_count": 41,
   "id": "f63d3499",
   "metadata": {
    "ExecuteTime": {
     "end_time": "2022-02-07T10:42:26.025943Z",
     "start_time": "2022-02-07T10:42:26.011475Z"
    }
   },
   "outputs": [
    {
     "name": "stdout",
     "output_type": "stream",
     "text": [
      "{'value1': 5, 'value2': 10, 'seq': [1, 2, 3, 4, 5]}\n"
     ]
    }
   ],
   "source": [
    "import json\n",
    "a = {'value1': 5, 'value2': 10, 'seq': [1,2,3,4,5]}\n",
    "\n",
    "filename = 'test.json' # test.json으로 파일 저장\n",
    "# with 쓰는이유: 안쓰면 열려있는 상태를 꺼줘야함. with 구문내에서만 실행 \n",
    "with open(filename, 'w') as f: # 'w': 쓰기모드 (읽기모드시에는 'r')\n",
    "    json.dump(a, f) # file f에 a의 데이터 덮어써라 \n",
    "\n",
    "with open(filename, 'r') as f:\n",
    "    result = json.load(f)\n",
    "    print(result)"
   ]
  },
  {
   "cell_type": "code",
   "execution_count": 37,
   "id": "5eebbf72",
   "metadata": {
    "ExecuteTime": {
     "end_time": "2022-02-07T10:36:27.606624Z",
     "start_time": "2022-02-07T10:36:27.596652Z"
    }
   },
   "outputs": [
    {
     "name": "stdout",
     "output_type": "stream",
     "text": [
      "exp1-4766aa.json\n"
     ]
    }
   ],
   "source": [
    "import hashlib\n",
    "setting = {'value1': 5, 'value2': 10, 'seq': [1,2,3,4,5], 'exp_name': 'exp1'}\n",
    "exp_name = setting['exp_name']\n",
    "hash_key = hashlib.sha1(str(setting).encode()).hexdigest()[:6] #sha1 알고리즘을 활용하여 hasy화, hexdigest활용하여 문자열을 행성\n",
    "filename = '{}-{}.json'.format(exp_name, hash_key)\n",
    "print(filename)"
   ]
  },
  {
   "cell_type": "code",
   "execution_count": 38,
   "id": "3b72261f",
   "metadata": {
    "ExecuteTime": {
     "end_time": "2022-02-07T10:41:30.629430Z",
     "start_time": "2022-02-07T10:41:30.520721Z"
    }
   },
   "outputs": [],
   "source": [
    "!mkdir results #폴더 생성"
   ]
  },
  {
   "cell_type": "code",
   "execution_count": null,
   "id": "e152919e",
   "metadata": {},
   "outputs": [],
   "source": [
    "import hashlib\n",
    "import json\n",
    "from os import listdir\n",
    "from os.path import isfile, join\n",
    "import pandas as pd\n",
    "\n",
    "def save_exp_result(setting, result):\n",
    "    exp_name = setting['exp_name']\n",
    "    del setting['epoch']\n",
    "    del setting['test_batch_size']\n",
    "\n",
    "    hash_key = hashlib.sha1(str(setting).encode()).hexdigest()[:6]\n",
    "    filename = './results/{}-{}.json'.format(exp_name, hash_key)\n",
    "    result.update(setting)\n",
    "    with open(filename, 'w') as f:\n",
    "        json.dump(result, f)\n",
    "\n",
    "    \n",
    "def load_exp_result(exp_name):\n",
    "    dir_path = './results'\n",
    "    filenames = [f for f in listdir(dir_path) if isfile(join(dir_path, f)) if '.json' in f]\n",
    "    list_result = []\n",
    "    for filename in filenames:\n",
    "        if exp_name in filename:\n",
    "            with open(join(dir_path, filename), 'r') as infile:\n",
    "                results = json.load(infile)\n",
    "                list_result.append(results)\n",
    "    df = pd.DataFrame(list_result) # .drop(columns=[])\n",
    "    return df"
   ]
  },
  {
   "cell_type": "markdown",
   "id": "cd8cc488",
   "metadata": {},
   "source": [
    "# Lab6_result_report 복붙"
   ]
  },
  {
   "cell_type": "code",
   "execution_count": null,
   "id": "3a33c7a8",
   "metadata": {},
   "outputs": [],
   "source": []
  },
  {
   "cell_type": "code",
   "execution_count": null,
   "id": "1bd70b9a",
   "metadata": {},
   "outputs": [],
   "source": []
  },
  {
   "cell_type": "code",
   "execution_count": null,
   "id": "ba9ff4b8",
   "metadata": {},
   "outputs": [],
   "source": []
  },
  {
   "cell_type": "code",
   "execution_count": null,
   "id": "c044ce35",
   "metadata": {},
   "outputs": [],
   "source": []
  },
  {
   "cell_type": "code",
   "execution_count": null,
   "id": "99222ac4",
   "metadata": {},
   "outputs": [],
   "source": []
  }
 ],
 "metadata": {
  "kernelspec": {
   "display_name": "Python 3.7 (pytorch)",
   "language": "python",
   "name": "pytorch"
  },
  "language_info": {
   "codemirror_mode": {
    "name": "ipython",
    "version": 3
   },
   "file_extension": ".py",
   "mimetype": "text/x-python",
   "name": "python",
   "nbconvert_exporter": "python",
   "pygments_lexer": "ipython3",
   "version": "3.7.10"
  },
  "toc": {
   "base_numbering": 1,
   "nav_menu": {},
   "number_sections": true,
   "sideBar": true,
   "skip_h1_title": false,
   "title_cell": "Table of Contents",
   "title_sidebar": "Contents",
   "toc_cell": false,
   "toc_position": {},
   "toc_section_display": true,
   "toc_window_display": false
  },
  "varInspector": {
   "cols": {
    "lenName": 16,
    "lenType": 16,
    "lenVar": 40
   },
   "kernels_config": {
    "python": {
     "delete_cmd_postfix": "",
     "delete_cmd_prefix": "del ",
     "library": "var_list.py",
     "varRefreshCmd": "print(var_dic_list())"
    },
    "r": {
     "delete_cmd_postfix": ") ",
     "delete_cmd_prefix": "rm(",
     "library": "var_list.r",
     "varRefreshCmd": "cat(var_dic_list()) "
    }
   },
   "types_to_exclude": [
    "module",
    "function",
    "builtin_function_or_method",
    "instance",
    "_Feature"
   ],
   "window_display": false
  }
 },
 "nbformat": 4,
 "nbformat_minor": 5
}
